{
 "cells": [
  {
   "cell_type": "markdown",
   "metadata": {},
   "source": [
    "TODO\n",
    "- Integrate Cale's aWhere grid script\n",
    "- Add new AoI: Siskiyou\n",
    "- auto-calculate day range for binary threshold\n",
    "- \"start_date\" and \"end_date\" need to be auto-formatted in main loop\n",
    "- change colors of final map\n",
    "- merge branch into master\n",
    "- **overlay other data**\n",
    "- find Moran's i for binary_grid\n",
    "- delete/move testing cells\n",
    "- comment functions"
   ]
  },
  {
   "cell_type": "code",
   "execution_count": 1,
   "metadata": {
    "ExecuteTime": {
     "end_time": "2020-06-23T21:29:38.754997Z",
     "start_time": "2020-06-23T21:29:37.157893Z"
    }
   },
   "outputs": [],
   "source": [
    "import os\n",
    "from pathlib import Path\n",
    "import calendar\n",
    "\n",
    "import numpy as np\n",
    "import matplotlib.pyplot as plt\n",
    "import pandas as pd\n",
    "\n",
    "import geopandas as gpd\n",
    "from shapely.geometry import Point, LineString, Polygon\n",
    "\n",
    "import requests as rq\n",
    "\n",
    "# for aWhere API\n",
    "from header import AWhereAPI\n",
    "from secret_codes import *\n",
    "\n",
    "api_key = API_KEY\n",
    "api_secret = API_SECRET"
   ]
  },
  {
   "cell_type": "code",
   "execution_count": 2,
   "metadata": {
    "ExecuteTime": {
     "end_time": "2020-06-23T21:29:39.513215Z",
     "start_time": "2020-06-23T21:29:38.757918Z"
    }
   },
   "outputs": [],
   "source": [
    "# Create aWhere object\n",
    "aw = AWhereAPI(api_key, api_secret)\n",
    "\n",
    "# To get auth token, encode secret and key\n",
    "sc = aw.encode_secret_and_key(API_KEY, API_SECRET)\n",
    "\n",
    "# Then call auth token\n",
    "token = aw.get_oauth_token(sc)"
   ]
  },
  {
   "cell_type": "code",
   "execution_count": 3,
   "metadata": {
    "ExecuteTime": {
     "end_time": "2020-06-23T21:29:39.536044Z",
     "start_time": "2020-06-23T21:29:39.523085Z"
    }
   },
   "outputs": [],
   "source": [
    "# Set variables for aWhere API call \n",
    "\n",
    "# General endpoint\n",
    "endpt = \"https://api.awhere.com\"\n",
    "\n",
    "# Set up headers: auth and specific header for agronomics data\n",
    "auth_headers = {\"Authorization\": \"Bearer %s\" % token,\n",
    "                \"Content-Type\": 'application/json'}\n",
    "\n",
    "agro_header = {\"Authorization\":  \"Bearer %s\" % token}"
   ]
  },
  {
   "cell_type": "code",
   "execution_count": 4,
   "metadata": {
    "ExecuteTime": {
     "end_time": "2020-06-23T21:29:39.890819Z",
     "start_time": "2020-06-23T21:29:39.542025Z"
    }
   },
   "outputs": [
    {
     "name": "stderr",
     "output_type": "stream",
     "text": [
      "C:\\Users\\dphil\\Miniconda3\\envs\\earth-analytics-python\\lib\\site-packages\\pyproj\\crs.py:77: FutureWarning: '+init=<authority>:<code>' syntax is deprecated. '<authority>:<code>' is the preferred initialization method.\n",
      "  return _prepare_from_string(\" \".join(pjargs))\n"
     ]
    }
   ],
   "source": [
    "# Load area of interest into gpd\n",
    "\n",
    "# Create path to home\n",
    "home = str(Path.home())\n",
    "\n",
    "# Create path to Siskiyou geojson since csv crashes Jupyter\n",
    "path_to_josephine = os.path.join(\n",
    "    home, \"Desktop\", \"drought-tracker\", \"data\", \"TIGER\", \"josephine.geojson\")\n",
    "\n",
    "# Create df with 1 county (Siskiyou)\n",
    "josephine = gpd.read_file(path_to_josephine)\n",
    "\n",
    "# Convert into CRS\n",
    "josephine = josephine.to_crs(\"EPSG:4236\")"
   ]
  },
  {
   "cell_type": "code",
   "execution_count": 5,
   "metadata": {
    "ExecuteTime": {
     "end_time": "2020-06-23T21:29:39.907747Z",
     "start_time": "2020-06-23T21:29:39.893786Z"
    }
   },
   "outputs": [],
   "source": [
    "def create_awhere_grid(aoi, out_crs, calc_crs):\n",
    "    \"\"\"\n",
    "    Parameters\n",
    "    ----------\n",
    "    aoi: Geopandas GeoDataFrame\n",
    "        One-element GeoDataFrame containing area over which\n",
    "        to draw grid\n",
    "    \n",
    "    out_crs: numeric string\n",
    "        String of EPSG code for exported GDF\n",
    "    \n",
    "    calc_crs: numeric string\n",
    "        String of EPSG code for CRS used\n",
    "        to calculate grid. CRS must have units of meters\n",
    "        to work with aWhere's API\n",
    "        \n",
    "    Returns\n",
    "    -------\n",
    "    GeoDataFrame containing 9km x 9km cells\n",
    "    \"\"\"   \n",
    "    \n",
    "    # Reproject aoi to CRS using meters for aWhere grid cells\n",
    "    aoi = aoi.to_crs(f'EPSG:{calc_crs}')\n",
    "    \n",
    "    # Get x and y min and max from total boundaries\n",
    "    xmin, ymin, xmax, ymax = aoi.total_bounds\n",
    "    \n",
    "    # Set side of grid cell to 9 km\n",
    "    side = 9000\n",
    "    \n",
    "    # Create x values for x points for rows\n",
    "    x_range = np.arange(int(np.floor(xmin)), int(np.ceil(xmax)), side)\n",
    "    \n",
    "    # Create y values\n",
    "    y_range = np.arange(int(np.floor(ymin)), int(np.floor(ymax)), side)\n",
    "    \n",
    "    # Create empty list to hold grid cells\n",
    "    polygons = []\n",
    "    \n",
    "    for x in x_range:\n",
    "        for y in y_range:\n",
    "            polygons.append(Polygon([(x,y), (x+side, y), (x+side, y+side), (x,y+side)]))\n",
    "            \n",
    "    grid = gpd.GeoDataFrame({'geometry': polygons}, crs=f\"EPSG:{calc_crs}\")\n",
    "    \n",
    "    #grid.set_crs = f'EPSG:{calc_crs}'\n",
    "    \n",
    "    # Convert to out_crs\n",
    "    grid = grid.to_crs(f\"EPSG:{out_crs}\")\n",
    "    \n",
    "    return grid"
   ]
  },
  {
   "cell_type": "code",
   "execution_count": 6,
   "metadata": {
    "ExecuteTime": {
     "end_time": "2020-06-23T21:29:39.990491Z",
     "start_time": "2020-06-23T21:29:39.910740Z"
    }
   },
   "outputs": [],
   "source": [
    "def call_api(lat, lon, start_date, end_date, testing=False):\n",
    "    \n",
    "        # URL to historical agronomics (norms)\n",
    "        hist_ag_url = f\"/v2/agronomics/locations/{lat},{lon}/agronomicvalues/{start_date},{end_date}\"\n",
    "\n",
    "        # Endpoint suffix to get all accumulations\n",
    "        url_append = \"?properties=accumulations\"\n",
    "\n",
    "        # Full URL, endpt is defined up top\n",
    "        full_url = endpt + hist_ag_url + url_append\n",
    "        \n",
    "        if testing == False:\n",
    "        \n",
    "            # Get JSON\n",
    "            ag_norms_json = rq.get(full_url, headers=agro_header).json()\n",
    "            \n",
    "            # Testing\n",
    "            #print(ag_norms_json)\n",
    "            \n",
    "            return ag_norms_json\n",
    "            \n",
    "        elif testing == True:\n",
    "            \n",
    "            return full_url"
   ]
  },
  {
   "cell_type": "code",
   "execution_count": 7,
   "metadata": {
    "ExecuteTime": {
     "end_time": "2020-06-23T21:29:40.113486Z",
     "start_time": "2020-06-23T21:29:40.002456Z"
    }
   },
   "outputs": [],
   "source": [
    "def get_ppet(ppet_grid_df, start_date, end_date, drop_null=False, testing=False):\n",
    "    \"\"\"\n",
    "    Paraemeters\n",
    "    -----------\n",
    "    grid_df: Geopandas GeoDataFrame\n",
    "        Contains gridded area to fetch argonomics values for\n",
    "\n",
    "    start_date: string\n",
    "        Format \"YYYY-MM-DD\"\n",
    "\n",
    "    end_date: string\n",
    "        Format \"YYYY-MM-DD\"\n",
    "\n",
    "    drop_null: boolean (optional)\n",
    "        Drop grid cells that have null values returned from\n",
    "        API request for agronomics data. Often null values \n",
    "        result from grid cell lying in a body of water.\n",
    "\n",
    "    testing: boolean (optional)\n",
    "        Returns sample P/PET values for each grid cell \n",
    "        from 0 - 30 mm. Used for testing; bypasses API call.\n",
    "\n",
    "    Returns\n",
    "    -------\n",
    "    grid_df: Geopandas GeoDataFrame\n",
    "        Contains gridded input area with requested values.\n",
    "\n",
    "    \"\"\"\n",
    "\n",
    "    # Add P/PET column if it does not exist and set as float\n",
    "    if 'ppet' not in ppet_grid_df.columns:\n",
    "        ppet_grid_df = ppet_grid_df.assign(ppet=0.0)\n",
    "        \n",
    "    # For testing, generate random values for each cell\n",
    "    if testing == True:\n",
    "        ppet_grid_df['test_ppet'] = [np.random.randint(\n",
    "            0, 30) for i in range(0, grid.shape[0])]\n",
    "\n",
    "        return ppet_grid_df\n",
    "\n",
    "    print(\"Calling API for each cell...\")\n",
    "    # Iterate thru rows (cells) in gdf\n",
    "    for index, row in ppet_grid_df.iterrows():\n",
    "        \n",
    "        #Print progress\n",
    "        #print(f\"On row {index + 1} of {grid.shape[0]}\")\n",
    "        \n",
    "        # Get centroid coordinates from each cell to pass to API\n",
    "        lat = round(row.geometry.centroid.y, 5)\n",
    "        lon = round(row.geometry.centroid.x, 5)\n",
    "\n",
    "        # Get JSON using call_api function\n",
    "        ag_norms_json = call_api(lat, lon, start_date, end_date)\n",
    "        \n",
    "        # Try to pull data from return JSON\n",
    "        try:\n",
    "            \n",
    "            # Get \"PPET\" from JSON\n",
    "            vals = ag_norms_json.get('accumulations').get('ppet')\n",
    "            \n",
    "            # Round result to 3 decimal places\n",
    "            vals = round(vals, 3)\n",
    "            \n",
    "            # Add value to gdf\n",
    "            ppet_grid_df.at[index, 'ppet'] = vals \n",
    "    \n",
    "        except:\n",
    "            \n",
    "            ppet_grid_df.at[index, 'ppet'] = np.nan\n",
    "\n",
    "        # Drop null cells if requested\n",
    "        if drop_null == True:\n",
    "            ppet_grid_df = ppet_grid_df[ppet_grid_df.ppet.isnull() == False]\n",
    "\n",
    "    print(\"Grid with P/PET values generated.\")\n",
    "    \n",
    "    return ppet_grid_df"
   ]
  },
  {
   "cell_type": "code",
   "execution_count": 8,
   "metadata": {
    "ExecuteTime": {
     "end_time": "2020-06-23T21:29:40.194026Z",
     "start_time": "2020-06-23T21:29:40.124458Z"
    }
   },
   "outputs": [],
   "source": [
    "\"\"\"Add day range to this eventually\"\"\"\n",
    "def binary_threshold(gdf, daily_acc_ppet_threshold, month=None, year=None):\n",
    "\n",
    "    # Find monthly accumulated P/PET\n",
    "    #days_in_month = calendar.monthrange(year, month)[1]\n",
    "\n",
    "    # Calculate monthly accumulated P/PET based on user's threshold\n",
    "    #monthly_acc_ppet = days_in_month * daily_acc_ppet_threshold\n",
    "    monthly_acc_ppet = 30 * daily_acc_ppet_threshold\n",
    "\n",
    "    # Add Boolean flag column if meets threshold\n",
    "    gdf['meet_thresh'] = gdf['ppet'].apply(\n",
    "        lambda x: 1 if x <= monthly_acc_ppet else 0)\n",
    "\n",
    "    return gdf"
   ]
  },
  {
   "cell_type": "code",
   "execution_count": 9,
   "metadata": {
    "ExecuteTime": {
     "end_time": "2020-06-23T21:29:40.281094Z",
     "start_time": "2020-06-23T21:29:40.198012Z"
    }
   },
   "outputs": [],
   "source": [
    "def to_convex_hull(gdf, crs):\n",
    "    \n",
    "    # Drop all rows that do not meet threshold\n",
    "    meet_thresh_only = gdf[gdf.meet_thresh == 1]\n",
    "    \n",
    "    # Dissolve polygons that meet threshold\n",
    "    meet_thresh_dissolve = meet_thresh_only.dissolve(by='meet_thresh')\n",
    "    \n",
    "    # Explode polygons so that there are unique contiguous areas\n",
    "    exploded = meet_thresh_dissolve.explode()\n",
    "\n",
    "    # Drop multi-index outer level generated from dissolve\n",
    "    exploded = exploded.droplevel(0)\n",
    "    \n",
    "    # Get largest polygon\n",
    "    largest = exploded[exploded.area == exploded.area.max()]\n",
    "    \n",
    "    # Generate convex hull\n",
    "    hull_largest = largest.convex_hull\n",
    "    \n",
    "    # Reset index so only item in gdf is in position [0]\n",
    "    hull_largest_out = hull_largest.reset_index(drop=True)\n",
    "\n",
    "    # Convert to gdf\n",
    "    #hull = gpd.GeoDataFrame(hull_largest, crs=gdf.crs)\n",
    "\n",
    "    # Rename column '0' to 'geometry'\n",
    "    #hull.rename(columns={0:\"geometry\"}, inplace=True)\n",
    "    \n",
    "    return hull_largest_out"
   ]
  },
  {
   "cell_type": "code",
   "execution_count": 10,
   "metadata": {
    "ExecuteTime": {
     "end_time": "2020-06-23T21:29:40.362905Z",
     "start_time": "2020-06-23T21:29:40.294060Z"
    }
   },
   "outputs": [],
   "source": [
    "def proportional_split(grid_gdf, hull_gdf, crs):\n",
    "    \n",
    "    grid_gdf = grid_gdf.to_crs(f\"epsg:{crs}\")\n",
    "    \n",
    "    hull_gdf = hull_gdf.to_crs(f\"epsg:{crs}\")\n",
    "    \n",
    "    # Set summary variables to 0\n",
    "    inter_area_run_sum = 0\n",
    "    \n",
    "    # This is a list to more easily calculate average (using sum then len)\n",
    "    inter_ppet_run_sum = []\n",
    "    \n",
    "    for index, row in grid_gdf.iterrows():\n",
    "        \n",
    "        if row.geometry.intersects(hull_gdf.geometry[0]):\n",
    "            \n",
    "            intersect_area = row.geometry.intersection(hull_gdf.geometry[0]).area\n",
    "            \n",
    "            # Find the proportional split of grid cell's P/PET\n",
    "            proportional_ppet = (intersect_area / row.geometry.area) * row.ppet\n",
    "            \n",
    "            # Append it to the list\n",
    "            inter_ppet_run_sum.append(proportional_ppet)\n",
    "    \n",
    "    # Find average P/PET per cell\n",
    "    inter_ppet = round((sum(inter_ppet_run_sum) / len(inter_ppet_run_sum)), 3)\n",
    "    \n",
    "    # Find total droughted area\n",
    "    droughted_area = hull_gdf.geometry[0].area\n",
    "    \n",
    "    #print(f\"Average P/PET in droughted area: {inter_ppet}\")\n",
    "    \n",
    "    #print(f\"Total droughted area: {hull_gdf.geometry[0].area}\")\n",
    "\n",
    "    return inter_ppet, droughted_area\n",
    "    \n",
    "#proportional_split(binary_grid, hull, \"2019\")"
   ]
  },
  {
   "cell_type": "code",
   "execution_count": 11,
   "metadata": {
    "ExecuteTime": {
     "end_time": "2020-06-23T21:32:39.479990Z",
     "start_time": "2020-06-23T21:29:40.366862Z"
    }
   },
   "outputs": [
    {
     "name": "stdout",
     "output_type": "stream",
     "text": [
      "On year 2017...\n",
      "Calling API for each cell...\n",
      "Grid with P/PET values generated.\n",
      "On year 2018...\n",
      "Calling API for each cell...\n",
      "Grid with P/PET values generated.\n",
      "On year 2019...\n",
      "Calling API for each cell...\n",
      "Grid with P/PET values generated.\n"
     ]
    }
   ],
   "source": [
    "start_year = 2017\n",
    "end_year = 2019\n",
    "start_day = \"04-01\"\n",
    "end_day = \"04-30\"\n",
    "\n",
    "# Calculate range of years\n",
    "years_range = np.arange(start_year, end_year + 1)\n",
    "\n",
    "# Create grid (does not change with each iteration)\n",
    "aoi_grid = create_awhere_grid(aoi=josephine,\n",
    "                              out_crs='4236',\n",
    "                              calc_crs='2019')\n",
    "\n",
    "# Create list to hold rows (dicts) of values:\n",
    "# years, geoms, inferred P/PET, area of convex hull\n",
    "all_years_rows = []\n",
    "\n",
    "for year in years_range:\n",
    "\n",
    "    print(f\"On year {year}...\")\n",
    "\n",
    "    # Add P/PET values to entire grid\n",
    "    # Call API on centroid of each grid cell\n",
    "    year_grid_ppet = get_ppet(ppet_grid_df=aoi_grid,\n",
    "                              start_date=f\"{year}-{start_day}\",\n",
    "                              end_date=f\"{year}-{end_day}\",\n",
    "                              drop_null=False,\n",
    "                              testing=False)\n",
    "\n",
    "    # Reclassify grid using binary thresholding (1 = over threshold)\n",
    "    year_binary_grid = binary_threshold(gdf=year_grid_ppet,\n",
    "                                        daily_acc_ppet_threshold=3)\n",
    "\n",
    "    # Generate convex hull\n",
    "    year_convex_hull_gdf = to_convex_hull(year_binary_grid, 4326)\n",
    "    \n",
    "    # Convert into Shapely Polygon\n",
    "    year_convex_hull_poly = year_convex_hull_gdf[0]\n",
    "\n",
    "    # Proportional split (\"2019\" is CRS)\n",
    "    average_ppet, drought_area = proportional_split(\n",
    "        year_binary_grid, year_convex_hull_gdf, \"2019\")\n",
    "\n",
    "    # Add all info to dict for this year\n",
    "    year_dict = {\"year\": year,\n",
    "                 \"inferred_average_ppet\": average_ppet,\n",
    "                 \"droughted_area\": drought_area,\n",
    "                 \"geometry\": year_convex_hull_poly}\n",
    "    \n",
    "    all_years_rows.append(year_dict)\n",
    "\n",
    "# Create gdf from list of dicts, each representing a row\n",
    "gdf = gpd.GeoDataFrame(all_years_rows, crs=\"EPSG:4236\")\n",
    "\n",
    "# Set index to year\n",
    "gdf.set_index(\"year\", inplace=True)\n",
    "\n",
    "# Find centroids of hulls\n",
    "gdf['centroid'] = gdf.centroid"
   ]
  },
  {
   "cell_type": "code",
   "execution_count": 12,
   "metadata": {
    "ExecuteTime": {
     "end_time": "2020-06-23T21:32:39.492883Z",
     "start_time": "2020-06-23T21:32:39.481912Z"
    }
   },
   "outputs": [],
   "source": [
    "def create_lines(gdf):\n",
    "    \n",
    "    # List to hold lines for each year\n",
    "    all_years_lines = []\n",
    "    \n",
    "    # Loop through gdf\n",
    "    for index, row in gdf.iterrows():\n",
    "        \n",
    "        try:\n",
    "            # Get centroid from previous year\n",
    "            last_year_centroid = gdf.at[(index - 1), 'centroid']\n",
    "\n",
    "            # Get centroid from current year\n",
    "            this_year_centroid = gdf.at[index, 'centroid']\n",
    "\n",
    "            # Create line from centroid last year to centroid this year\n",
    "            year_line = LineString([last_year_centroid, this_year_centroid])\n",
    "\n",
    "        except:\n",
    "\n",
    "            # Print helpful message\n",
    "            print(f\"Skipping {index}...\")\n",
    "\n",
    "            # If no centroid data exists, skip\n",
    "            year_line = None\n",
    "\n",
    "        all_years_lines.append(year_line)\n",
    "        \n",
    "    return all_years_lines"
   ]
  },
  {
   "cell_type": "code",
   "execution_count": 13,
   "metadata": {
    "ExecuteTime": {
     "end_time": "2020-06-23T21:32:39.809225Z",
     "start_time": "2020-06-23T21:32:39.495874Z"
    }
   },
   "outputs": [
    {
     "name": "stdout",
     "output_type": "stream",
     "text": [
      "Skipping 2017...\n"
     ]
    }
   ],
   "source": [
    "all_years_lines = create_lines(gdf=gdf)\n",
    "gdf['linear_trend'] = all_years_lines"
   ]
  },
  {
   "cell_type": "code",
   "execution_count": 31,
   "metadata": {
    "ExecuteTime": {
     "end_time": "2020-06-23T21:36:54.172634Z",
     "start_time": "2020-06-23T21:36:54.158638Z"
    }
   },
   "outputs": [],
   "source": [
    "gdf_lines = gdf.set_geometry(gdf.linear_trend)\n",
    "gdf_centroids = gdf.set_geometry(gdf.centroid)\n",
    "gdf_polys = gdf.set_geometry(gdf.geometry)"
   ]
  },
  {
   "cell_type": "code",
   "execution_count": 35,
   "metadata": {
    "ExecuteTime": {
     "end_time": "2020-06-23T21:37:42.631599Z",
     "start_time": "2020-06-23T21:37:42.605667Z"
    }
   },
   "outputs": [
    {
     "data": {
      "text/html": [
       "<div>\n",
       "<style scoped>\n",
       "    .dataframe tbody tr th:only-of-type {\n",
       "        vertical-align: middle;\n",
       "    }\n",
       "\n",
       "    .dataframe tbody tr th {\n",
       "        vertical-align: top;\n",
       "    }\n",
       "\n",
       "    .dataframe thead th {\n",
       "        text-align: right;\n",
       "    }\n",
       "</style>\n",
       "<table border=\"1\" class=\"dataframe\">\n",
       "  <thead>\n",
       "    <tr style=\"text-align: right;\">\n",
       "      <th></th>\n",
       "      <th>inferred_average_ppet</th>\n",
       "      <th>droughted_area</th>\n",
       "      <th>geometry</th>\n",
       "      <th>centroid</th>\n",
       "      <th>linear_trend</th>\n",
       "    </tr>\n",
       "    <tr>\n",
       "      <th>year</th>\n",
       "      <th></th>\n",
       "      <th></th>\n",
       "      <th></th>\n",
       "      <th></th>\n",
       "      <th></th>\n",
       "    </tr>\n",
       "  </thead>\n",
       "  <tbody>\n",
       "    <tr>\n",
       "      <th>2017</th>\n",
       "      <td>57.359</td>\n",
       "      <td>8.019000e+09</td>\n",
       "      <td>POLYGON ((-123.49740 41.87604, -123.85323 42.2...</td>\n",
       "      <td>POINT (-123.39753 42.39521)</td>\n",
       "      <td>None</td>\n",
       "    </tr>\n",
       "    <tr>\n",
       "      <th>2018</th>\n",
       "      <td>53.472</td>\n",
       "      <td>1.012500e+10</td>\n",
       "      <td>POLYGON ((-123.49740 41.87604, -123.67620 41.9...</td>\n",
       "      <td>POINT (-123.49435 42.40630)</td>\n",
       "      <td>LINESTRING (-123.3975259104568 42.395211303419...</td>\n",
       "    </tr>\n",
       "    <tr>\n",
       "      <th>2019</th>\n",
       "      <td>53.631</td>\n",
       "      <td>1.498500e+09</td>\n",
       "      <td>POLYGON ((-123.10581 42.06372, -123.30814 42.2...</td>\n",
       "      <td>POINT (-123.05891 42.27823)</td>\n",
       "      <td>LINESTRING (-123.4943485153423 42.406298107747...</td>\n",
       "    </tr>\n",
       "  </tbody>\n",
       "</table>\n",
       "</div>"
      ],
      "text/plain": [
       "      inferred_average_ppet  droughted_area  \\\n",
       "year                                          \n",
       "2017                 57.359    8.019000e+09   \n",
       "2018                 53.472    1.012500e+10   \n",
       "2019                 53.631    1.498500e+09   \n",
       "\n",
       "                                               geometry  \\\n",
       "year                                                      \n",
       "2017  POLYGON ((-123.49740 41.87604, -123.85323 42.2...   \n",
       "2018  POLYGON ((-123.49740 41.87604, -123.67620 41.9...   \n",
       "2019  POLYGON ((-123.10581 42.06372, -123.30814 42.2...   \n",
       "\n",
       "                         centroid  \\\n",
       "year                                \n",
       "2017  POINT (-123.39753 42.39521)   \n",
       "2018  POINT (-123.49435 42.40630)   \n",
       "2019  POINT (-123.05891 42.27823)   \n",
       "\n",
       "                                           linear_trend  \n",
       "year                                                     \n",
       "2017                                               None  \n",
       "2018  LINESTRING (-123.3975259104568 42.395211303419...  \n",
       "2019  LINESTRING (-123.4943485153423 42.406298107747...  "
      ]
     },
     "execution_count": 35,
     "metadata": {},
     "output_type": "execute_result"
    }
   ],
   "source": [
    "gdf"
   ]
  },
  {
   "cell_type": "code",
   "execution_count": 43,
   "metadata": {
    "ExecuteTime": {
     "end_time": "2020-06-23T21:44:44.732188Z",
     "start_time": "2020-06-23T21:44:44.421986Z"
    }
   },
   "outputs": [
    {
     "data": {
      "text/plain": [
       "<matplotlib.axes._subplots.AxesSubplot at 0x18b88b58188>"
      ]
     },
     "execution_count": 43,
     "metadata": {},
     "output_type": "execute_result"
    },
    {
     "data": {
      "image/png": "[encoded data removed]",
      "text/plain": [
       "<Figure size 432x288 with 1 Axes>"
      ]
     },
     "metadata": {
      "needs_background": "light"
     },
     "output_type": "display_data"
    }
   ],
   "source": [
    "fig, ax = plt.subplots()\n",
    "\n",
    "gdf_lines.plot(ax=ax, color='black')\n",
    "\n",
    "gdf_centroids.plot(ax=ax, column='inferred_average_ppet')\n",
    "\n",
    "gdf_polys.plot(ax=ax, color='none', edgecolor='blue')\n",
    "\n",
    "josephine.plot(ax=ax, color='green', alpha=0.5)"
   ]
  },
  {
   "cell_type": "code",
   "execution_count": 16,
   "metadata": {
    "ExecuteTime": {
     "end_time": "2020-06-23T21:32:40.183725Z",
     "start_time": "2020-06-23T21:32:39.983241Z"
    },
    "scrolled": true
   },
   "outputs": [
    {
     "ename": "ValueError",
     "evalue": "Testing cells below",
     "output_type": "error",
     "traceback": [
      "\u001b[1;31m---------------------------------------------------------------------------\u001b[0m",
      "\u001b[1;31mValueError\u001b[0m                                Traceback (most recent call last)",
      "\u001b[1;32m<ipython-input-16-db3dbe9524dd>\u001b[0m in \u001b[0;36m<module>\u001b[1;34m\u001b[0m\n\u001b[1;32m----> 1\u001b[1;33m \u001b[1;32mraise\u001b[0m \u001b[0mValueError\u001b[0m\u001b[1;33m(\u001b[0m\u001b[1;34m\"Testing cells below\"\u001b[0m\u001b[1;33m)\u001b[0m\u001b[1;33m\u001b[0m\u001b[1;33m\u001b[0m\u001b[0m\n\u001b[0m",
      "\u001b[1;31mValueError\u001b[0m: Testing cells below"
     ]
    }
   ],
   "source": [
    "raise ValueError(\"Testing cells below\")"
   ]
  },
  {
   "cell_type": "code",
   "execution_count": null,
   "metadata": {
    "ExecuteTime": {
     "end_time": "2020-06-23T21:32:40.202647Z",
     "start_time": "2020-06-23T21:29:37.197Z"
    }
   },
   "outputs": [],
   "source": [
    "# Create grid polygon\n",
    "grid = create_awhere_grid(aoi=josephine,\n",
    "                          out_crs='4236',\n",
    "                          calc_crs='2019')\n",
    "\n",
    "# Add centroid column\n",
    "grid['centroid'] = grid.geometry.apply(lambda poly: poly.centroid)\n",
    "\n",
    "# Check to see if everything looks correct\n",
    "fig, ax = plt.subplots()\n",
    "grid.plot(color=\"none\", linewidth=1, edgecolor='orange', ax=ax, zorder=3)\n",
    "josephine.plot(color='green', zorder=2, ax=ax)\n",
    "\n",
    "plt.show()"
   ]
  },
  {
   "cell_type": "code",
   "execution_count": null,
   "metadata": {
    "ExecuteTime": {
     "end_time": "2020-06-23T21:32:40.205635Z",
     "start_time": "2020-06-23T21:29:37.200Z"
    }
   },
   "outputs": [],
   "source": [
    "ppet_grid_df = get_ppet(ppet_grid_df=grid,\n",
    "                        start_date=\"2020-04-01\",\n",
    "                        end_date=\"2020-04-30\",\n",
    "                        drop_null=False,\n",
    "                        testing=False)"
   ]
  },
  {
   "cell_type": "code",
   "execution_count": null,
   "metadata": {
    "ExecuteTime": {
     "end_time": "2020-06-23T21:32:40.208627Z",
     "start_time": "2020-06-23T21:29:37.205Z"
    }
   },
   "outputs": [],
   "source": [
    "binary_grid = binary_threshold(gdf=ppet_grid_df,\n",
    "                               daily_acc_ppet_threshold=0.2,\n",
    "                               month=4,\n",
    "                               year=2020)\n",
    "\n",
    "binary_grid[binary_grid.meet_thresh==1].count()"
   ]
  },
  {
   "cell_type": "code",
   "execution_count": null,
   "metadata": {
    "ExecuteTime": {
     "end_time": "2020-06-23T21:32:40.209623Z",
     "start_time": "2020-06-23T21:29:37.210Z"
    }
   },
   "outputs": [],
   "source": [
    "hull = to_convex_hull(binary_grid, 4326)"
   ]
  },
  {
   "cell_type": "code",
   "execution_count": null,
   "metadata": {
    "ExecuteTime": {
     "end_time": "2020-06-23T21:32:40.212616Z",
     "start_time": "2020-06-23T21:29:37.212Z"
    }
   },
   "outputs": [],
   "source": [
    "fig, ax = plt.subplots()\n",
    "\n",
    "hull.plot(ax=ax, color='none', edgecolor='red', zorder=4)\n",
    "binary_grid.plot(column='ppet', cmap='coolwarm_r', ax=ax, alpha=0.6, zorder=3)\n",
    "josephine.plot(color='green', alpha=0.9, ax=ax)\n",
    "\n",
    "plt.show()"
   ]
  }
 ],
 "metadata": {
  "kernelspec": {
   "display_name": "Python 3",
   "language": "python",
   "name": "python3"
  },
  "language_info": {
   "codemirror_mode": {
    "name": "ipython",
    "version": 3
   },
   "file_extension": ".py",
   "mimetype": "text/x-python",
   "name": "python",
   "nbconvert_exporter": "python",
   "pygments_lexer": "ipython3",
   "version": "3.7.6"
  },
  "varInspector": {
   "cols": {
    "lenName": 16,
    "lenType": 16,
    "lenVar": 40
   },
   "kernels_config": {
    "python": {
     "delete_cmd_postfix": "",
     "delete_cmd_prefix": "del ",
     "library": "var_list.py",
     "varRefreshCmd": "print(var_dic_list())"
    },
    "r": {
     "delete_cmd_postfix": ") ",
     "delete_cmd_prefix": "rm(",
     "library": "var_list.r",
     "varRefreshCmd": "cat(var_dic_list()) "
    }
   },
   "types_to_exclude": [
    "module",
    "function",
    "builtin_function_or_method",
    "instance",
    "_Feature"
   ],
   "window_display": false
  }
 },
 "nbformat": 4,
 "nbformat_minor": 4
}
