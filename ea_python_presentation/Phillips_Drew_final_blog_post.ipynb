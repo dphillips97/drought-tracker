{
 "cells": [
  {
   "cell_type": "markdown",
   "metadata": {},
   "source": [
    "**Importance of Topic**\n",
    "\n",
    ">“The problem of defining drought… has never been resolved to the satisfaction of all. ” \n",
    " -Kelly Redmond\n",
    "\n",
    "The term \"drought\", like the term \"the economy\", is understood to affect most of the world's population yet a comprehensive definition is elusive. At the simplest level, drought occurs when water loss in an area exceeds water inflow in an area. Even this definition is flawed, however, since drought status changes based on the size of the area assayed. That is, a droughted area may lie unconnected to but within eyesight of an area with adequate water supplies.\n",
    "\n",
    "Despite the slippery definition, it is clear that droughts are becoming more intense as climate change affects long-standing weather patterns. Predicting droughts is likewise becoming more difficult. In the western United States, for example, snowpack is used to help predict droughts, but as snowpack decreases in a changing climate so does the accuracy of drought predictions.\n",
    "\n",
    "Many of drought's impacts lie \"downstream\", both figuratively and literally. As water supplies diminish, crops are not adequately irrigated; food insecurity and health both decline, and civil strife may follow. In North America, droughts are often inconveniences to our standards of living: we can no longer fill our pools and must water our lawns less frequently - so far. The developing world bears a disproportionate burden during drought conditions. \n",
    "\n",
    "We should care about drought since it is a \"foundational problem\": a drought leads to ripples that radiate (often unpredictably) across different but linked issues: from crop production to quality of life. Drought itself may be a given, but our reaction to it is not. We can ask ourselves: what can we learn about drought that can lead to actionable steps to moderate its impact? By answering this, we can point towards managing the effects of climate change worldwide."
   ]
  },
  {
   "cell_type": "markdown",
   "metadata": {},
   "source": [
    "**Methods: Preliminary Data Exploration**\n",
    "\n",
    "1. Select study area based on combination objective/subjective measurement\n",
    "\n",
    "2. Chart drought status for 1 calendar year\n",
    "\n",
    "3. Use P/PET, a measure of crop stress, to quantify drought trends\n",
    " \n",
    " - Look at daily values across April\n",
    "  - Historical norms from Aprils 2010-2019\n",
    "  - This year's daily quantities\n",
    " - Look at average accumulations in April\n",
    "  - Historical accumulations from April 2010-2019\n",
    "  - This year's daily accumulations in April\n",
    "  \n",
    "  \n",
    "4. Using aWhere's API, map P/PET values across study area"
   ]
  },
  {
   "cell_type": "markdown",
   "metadata": {},
   "source": [
    "![Fig1](fig_1.png)\n",
    "\n",
    "Siskiyou County, California, was chosen as the location for further analysis during this exploratory phase. \n",
    "1. Over 60% of Siskiyou County by area is in a state of \"extreme drought\" according to the U.S. Drought Monitor as of April 2020. \n",
    "2. Siskiyou County also relies on water availability for agriculture, making it a candidate for further analysis. \n",
    "3. California's large population and agricultural productivity mean that droughts lead to major impacts in this state."
   ]
  },
  {
   "cell_type": "markdown",
   "metadata": {},
   "source": [
    "![Fig2](fig_2.png)"
   ]
  },
  {
   "cell_type": "markdown",
   "metadata": {},
   "source": [
    "The U.S. Drought Monitor provides a drought index available at the county, state, and regional level for the United States. Government agencies such as the Farm Service Agency and the Internal Revenue Service depend on its accuracy, so it is an ideal source to start data exploration. The drought index is unique as it combines quantitative data (such as from the Standard Percipitation Index) with qualitative evaluation from experts. From these results, at least 50% of the county has been in a state of moderate drought since early March 2020. This plot was used to justify selection of Siskiyou County as this project's area of interest.\n",
    "\n",
    "---\n",
    "\n",
    "Simplified Workflow\n",
    "1. Download csv data\n",
    "2. Load into dataframe\n",
    "3. Format datetime to plot legibly"
   ]
  },
  {
   "cell_type": "markdown",
   "metadata": {},
   "source": [
    "![Fig3](fig_3.png)"
   ]
  },
  {
   "cell_type": "markdown",
   "metadata": {},
   "source": [
    "The ratio of precipitation to potential evapotranspiration (P/PET) was chosen as a potential drought indicator. P/PET is generally used as a measure of water stress in crops. When the P/PET ratio is above 1, more precipitation fell than water was lost to evaporation and via plant transpiration. When the ratio is less than 1, that relationship is reversed. This data exploration step measures P/PET in Yreka, the county seat of Siskiyou County.\n",
    "\n",
    "The first plot shows average daily P/PET for the month of April from the years 2010 through 2019. A line of best fit shows a downward trend, indicating historically greater water stress throughout April. The dataset is noisy, however, so the decision was made to modify this indicator (next figure).\n",
    "\n",
    "The second plot shows the daily P/PET values for April 2020. The ratio peaked early in the month, perhaps due to a large percipitation event, then returned to low levels. A line of best fit indicates a downward trend, and the values are lower on average than historical norms suggest."
   ]
  },
  {
   "cell_type": "markdown",
   "metadata": {
    "ExecuteTime": {
     "end_time": "2020-05-06T01:22:12.835918Z",
     "start_time": "2020-05-06T01:22:12.798162Z"
    }
   },
   "source": [
    "![Fig4](fig_4.png)"
   ]
  },
  {
   "cell_type": "markdown",
   "metadata": {},
   "source": [
    "Since the data shown in the average daily P/PET plots were noisy, the total accumulated P/PET (aP/PET) was analyzed for the same location. This measurement reflects average daily total P/PET over a specified time period. It was thought that this measurement would show fewer day-to-day variations.\n",
    "\n",
    "The first plot shows a steady increase in the aP/PET throughout April. The second plot, however, shows that April 2020 saw an extremely low accumulated P/PET value throughout the month. Though preliminary, this step indicates that P/PET is a candidate for drought quanitification since it is less sensitive to daily variations.\n",
    "\n",
    "---\n",
    "\n",
    "Simplified workflow for last 2 plots:\n",
    "1. Pass values for norms to aWhere API\n",
    "2. Pass values for April 2020 to aWhere API\n",
    "3. For both above steps, results were limited to 10 days per returned JSON. So a function was written that adjusted the OFFSET argument passed to the API for each set of 10 days.\n",
    "4. Data converted from geodataframe to pandas dataframe\n",
    "5. Line of best fit calculated in plot"
   ]
  },
  {
   "cell_type": "markdown",
   "metadata": {
    "ExecuteTime": {
     "end_time": "2020-05-06T01:25:32.571389Z",
     "start_time": "2020-05-06T01:25:32.508966Z"
    }
   },
   "source": [
    "![Fig5](fig_5.png)"
   ]
  },
  {
   "cell_type": "markdown",
   "metadata": {},
   "source": [
    "The final data exploration step was to provide a spatial dimension to the A-P/PET for April 2020. Each polygon in the plot represents a 9km by 9km cell that aWhere ses for agronomic analysis and weather prediction. The last figure confirmed that A-P/PET provided a less noisy dataset for analysis. This plot shows that the majority of Siskiyou County has low levels of accumulated P/PET, with the areas representing historical norms lying outside of the county. A value of 30 for the A-P/PET indicates that each day in April has a P/PET value of near 1.\n",
    "\n",
    "---\n",
    "\n",
    "Simplified Workflow\n",
    "\n",
    "1. Create path to grid geojson created from Kale Kochenour's aWhere grid creation script\n",
    "2. Find centroid of each polygon\n",
    "3. Extract x and y coordinates from each centroid \n",
    "4. Pass to aWhere's API to get A-P/PET for April 2002\n",
    "5. Save results from (4) as geodataframe\n",
    "6. Plot using geopandas and matplotlib\n"
   ]
  },
  {
   "cell_type": "markdown",
   "metadata": {},
   "source": [
    "**Next Steps and Directions**\n",
    "\n",
    "1. Compare A-P/PET for other months to historical norms. Explore line equation and calculate R-squared to determine goodness of fit.\n",
    "\n",
    "2. Calculate norms for A-P/PET for entire area of interest. Extend time period to match with different phases/levels of drought per the U.S. Drought Monitor.  \n",
    "\n",
    "3. Using A-P/PET, determine suitability for crops compared to past suitability for crops: are the areas where crops are being grown still suitable for those crops?\n",
    "\n",
    "4. Find centroid and extents of droughted area. Explore the way in which this area expands, contracts, and relocates over the years.\n",
    "\n",
    "5. Calculate NDVI and examine relationship with A-P/PET"
   ]
  },
  {
   "cell_type": "markdown",
   "metadata": {},
   "source": [
    "**Data Sources**\n",
    "\n",
    "- [U.S. Drought Monitor, 2020](https://droughtmonitor.unl.edu/)\n",
    "- [aWhere agronomic norms API, 2020](https://developer.awhere.com/)\n",
    "- [USGS EarthExplorer, 2020](earthexplorer.com)\n",
    "\n",
    "**Articles**\n",
    "\n",
    "- Redmond, Kelly. \"The Depiction of Drought\". _Bulletin of the American Meteorological Society_. August 2002.\n",
    "- [With shrinking snowpack, drought predictability melting away](https://www.sciencedaily.com/releases/2020/04/200420125506.htm). _Science Daily_. April 20, 2020.\n",
    "- Cooley, Savannah S et al. \"Assessing regional drought impacts on vegetation and evapotranspiration: a case study in Guanacaste, Costa Rica\". _Ecological Applications_ 29(2), 2019.\n",
    "- Rangwala, Imitaz. \"Monitoring and Predicting Drought on our Grasslands\". _Grassland News Newsletter_ 2020.\n",
    "- JRC Global Drought Observatory and ERCC Analytical Team. \"Drought in Zimbabwe, Zambia and south Mozambique February 2020\". _Global Drought Observatory Analytical Report_. Feb 13 2020."
   ]
  },
  {
   "cell_type": "code",
   "execution_count": null,
   "metadata": {},
   "outputs": [],
   "source": []
  }
 ],
 "metadata": {
  "kernelspec": {
   "display_name": "Python 3",
   "language": "python",
   "name": "python3"
  },
  "language_info": {
   "codemirror_mode": {
    "name": "ipython",
    "version": 3
   },
   "file_extension": ".py",
   "mimetype": "text/x-python",
   "name": "python",
   "nbconvert_exporter": "python",
   "pygments_lexer": "ipython3",
   "version": "3.7.6"
  },
  "varInspector": {
   "cols": {
    "lenName": 16,
    "lenType": 16,
    "lenVar": 40
   },
   "kernels_config": {
    "python": {
     "delete_cmd_postfix": "",
     "delete_cmd_prefix": "del ",
     "library": "var_list.py",
     "varRefreshCmd": "print(var_dic_list())"
    },
    "r": {
     "delete_cmd_postfix": ") ",
     "delete_cmd_prefix": "rm(",
     "library": "var_list.r",
     "varRefreshCmd": "cat(var_dic_list()) "
    }
   },
   "types_to_exclude": [
    "module",
    "function",
    "builtin_function_or_method",
    "instance",
    "_Feature"
   ],
   "window_display": false
  }
 },
 "nbformat": 4,
 "nbformat_minor": 4
}
