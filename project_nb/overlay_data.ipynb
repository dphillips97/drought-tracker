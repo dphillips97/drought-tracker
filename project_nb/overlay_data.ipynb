{
 "cells": [
  {
   "cell_type": "code",
   "execution_count": 1,
   "metadata": {
    "ExecuteTime": {
     "end_time": "2020-06-26T16:39:37.235932Z",
     "start_time": "2020-06-26T16:39:35.774589Z"
    }
   },
   "outputs": [],
   "source": [
    "import os\n",
    "from pathlib import Path\n",
    "\n",
    "import numpy as np\n",
    "import matplotlib.pyplot as plt\n",
    "import pandas as pd\n",
    "\n",
    "import geopandas as gpd\n",
    "import rasterio as rio\n",
    "from shapely.geometry import Polygon"
   ]
  },
  {
   "cell_type": "code",
   "execution_count": 14,
   "metadata": {
    "ExecuteTime": {
     "end_time": "2020-06-26T16:52:31.433946Z",
     "start_time": "2020-06-26T16:52:30.868791Z"
    }
   },
   "outputs": [],
   "source": [
    "home = str(Path.home())\n",
    "\n",
    "path_to_forest_bounds = os.path.join(\n",
    "    home, \"Desktop\", \"drought-tracker\", \"data\", \"USDA\", \"S_USA.AdministrativeRegion.shp\")\n",
    "\n",
    "forests = gpd.read_file(path_to_forest_bounds)\n",
    "\n",
    "path_to_siskiyou = os.path.join(home, \"Desktop\", \"drought-tracker\", \"data\", \"TIGER\", \"siskiyou.geojson\")\n",
    "\n",
    "siskiyou = gpd.read_file(path_to_siskiyou)"
   ]
  },
  {
   "cell_type": "code",
   "execution_count": 19,
   "metadata": {
    "ExecuteTime": {
     "end_time": "2020-06-26T16:54:57.932112Z",
     "start_time": "2020-06-26T16:54:57.923136Z"
    }
   },
   "outputs": [
    {
     "data": {
      "text/plain": [
       "0             Northern\n",
       "1         Southwestern\n",
       "2        Intermountain\n",
       "3       Rocky Mountain\n",
       "4    Pacific Northwest\n",
       "5    Pacific Southwest\n",
       "6             Southern\n",
       "7               Alaska\n",
       "8              Eastern\n",
       "Name: REGIONNAME, dtype: object"
      ]
     },
     "execution_count": 19,
     "metadata": {},
     "output_type": "execute_result"
    }
   ],
   "source": [
    "forests.REGIONNAME"
   ]
  },
  {
   "cell_type": "code",
   "execution_count": 22,
   "metadata": {
    "ExecuteTime": {
     "end_time": "2020-06-26T16:57:14.571271Z",
     "start_time": "2020-06-26T16:57:14.565288Z"
    },
    "scrolled": true
   },
   "outputs": [],
   "source": [
    "psw_forests = forests[forests.REGIONNAME == \"Pacific Southwest\"]"
   ]
  },
  {
   "cell_type": "code",
   "execution_count": 23,
   "metadata": {
    "ExecuteTime": {
     "end_time": "2020-06-26T16:57:43.815911Z",
     "start_time": "2020-06-26T16:57:43.586524Z"
    }
   },
   "outputs": [
    {
     "name": "stderr",
     "output_type": "stream",
     "text": [
      "C:\\Users\\dphil\\Miniconda3\\envs\\earth-analytics-python\\lib\\site-packages\\pyproj\\crs.py:77: FutureWarning: '+init=<authority>:<code>' syntax is deprecated. '<authority>:<code>' is the preferred initialization method.\n",
      "  return _prepare_from_string(\" \".join(pjargs))\n"
     ]
    }
   ],
   "source": [
    "# Convert Siskiyou to EPSG: 4269\n",
    "siskiyou_4269 = siskiyou.to_crs(\"EPSG:4269\")"
   ]
  },
  {
   "cell_type": "code",
   "execution_count": 24,
   "metadata": {
    "ExecuteTime": {
     "end_time": "2020-06-26T16:58:30.154366Z",
     "start_time": "2020-06-26T16:58:30.040646Z"
    }
   },
   "outputs": [],
   "source": [
    "# Create a single polygon object for clipping\n",
    "poly = siskiyou_4269.geometry.unary_union\n",
    "spatial_index = psw_forests.sindex\n",
    "\n",
    "bbox = poly.bounds\n",
    "\n",
    "sidx = list(spatial_index.intersection(bbox))\n",
    "\n",
    "shp_sub = psw_forests.iloc[sidx]\n",
    "\n",
    "clipped = shp_sub.copy()\n",
    "\n",
    "clipped = shp_sub.intersection(poly)\n",
    "\n",
    "final_clipped = clipped[clipped.geometry.notnull()]\n"
   ]
  },
  {
   "cell_type": "code",
   "execution_count": 26,
   "metadata": {
    "ExecuteTime": {
     "end_time": "2020-06-26T16:59:56.581609Z",
     "start_time": "2020-06-26T16:59:56.548695Z"
    }
   },
   "outputs": [
    {
     "data": {
      "text/plain": [
       "5    POLYGON ((-122.67814 42.00462, -122.67814 42.0...\n",
       "dtype: geometry"
      ]
     },
     "execution_count": 26,
     "metadata": {},
     "output_type": "execute_result"
    }
   ],
   "source": [
    "final_clipped"
   ]
  },
  {
   "cell_type": "code",
   "execution_count": null,
   "metadata": {},
   "outputs": [],
   "source": [
    "raise ValueError(\"Test cells below\")"
   ]
  },
  {
   "cell_type": "code",
   "execution_count": null,
   "metadata": {},
   "outputs": [],
   "source": []
  }
 ],
 "metadata": {
  "kernelspec": {
   "display_name": "Python 3",
   "language": "python",
   "name": "python3"
  },
  "language_info": {
   "codemirror_mode": {
    "name": "ipython",
    "version": 3
   },
   "file_extension": ".py",
   "mimetype": "text/x-python",
   "name": "python",
   "nbconvert_exporter": "python",
   "pygments_lexer": "ipython3",
   "version": "3.7.6"
  },
  "varInspector": {
   "cols": {
    "lenName": 16,
    "lenType": 16,
    "lenVar": 40
   },
   "kernels_config": {
    "python": {
     "delete_cmd_postfix": "",
     "delete_cmd_prefix": "del ",
     "library": "var_list.py",
     "varRefreshCmd": "print(var_dic_list())"
    },
    "r": {
     "delete_cmd_postfix": ") ",
     "delete_cmd_prefix": "rm(",
     "library": "var_list.r",
     "varRefreshCmd": "cat(var_dic_list()) "
    }
   },
   "types_to_exclude": [
    "module",
    "function",
    "builtin_function_or_method",
    "instance",
    "_Feature"
   ],
   "window_display": false
  }
 },
 "nbformat": 4,
 "nbformat_minor": 4
}
