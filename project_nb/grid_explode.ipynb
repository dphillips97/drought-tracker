{
 "cells": [
  {
   "cell_type": "markdown",
   "metadata": {},
   "source": [
    "**TODO**\n",
    "\n",
    "- call API to get actualy PPET values to determine drought area\n",
    " - get centroids for each square\n",
    " - pass centroids to API\n",
    "- get stats for droughted area (convex hull):\n",
    " - spatial join convex hull with original grid with PPET values\n",
    " - get values for all 9km x 9km squares in hull\n",
    " - do proportional split on squares that don't lie 100% in convex hull\n",
    " - get area\n",
    "- get days over time period specified\n",
    "- get centroid for hull"
   ]
  },
  {
   "cell_type": "code",
   "execution_count": 1,
   "metadata": {
    "ExecuteTime": {
     "end_time": "2020-05-30T22:21:05.538931Z",
     "start_time": "2020-05-30T22:21:02.887177Z"
    }
   },
   "outputs": [],
   "source": [
    "import os\n",
    "from pathlib import Path\n",
    "\n",
    "import numpy as np\n",
    "import matplotlib.pyplot as plt\n",
    "\n",
    "import geopandas as gpd\n",
    "from shapely.geometry import Point, Polygon\n",
    "\n",
    "# for aWhere API\n",
    "import requests as rq\n",
    "\n",
    "from header import AWhereAPI\n",
    "from secret_codes import *"
   ]
  },
  {
   "cell_type": "code",
   "execution_count": null,
   "metadata": {
    "ExecuteTime": {
     "end_time": "2020-05-25T15:39:44.111277Z",
     "start_time": "2020-05-25T15:39:43.309010Z"
    }
   },
   "outputs": [],
   "source": [
    "# Create df with 1 county\n",
    "path_to_county = os.path.join(home, \"Desktop\", \"drought-tracker\", \"data\", \"TIGER\", \"cb_2018_us_county_500k.shp\")\n",
    "\n",
    "counties = gpd.read_file(path_to_county)\n",
    "\n",
    "county = counties.loc[counties.NAME == 'Siskiyou']\n",
    "\n",
    "county = county.to_crs('epsg:2019')"
   ]
  },
  {
   "cell_type": "code",
   "execution_count": null,
   "metadata": {
    "ExecuteTime": {
     "start_time": "2020-05-25T15:41:54.892Z"
    }
   },
   "outputs": [],
   "source": [
    "# Create df with 1 test county (Marin)\n",
    "path_to_marin = os.path.join(home, \"Desktop\", \"drought-tracker\", \"data\", \"TIGER\", \"marin.csv\")\n",
    "\n",
    "marin = gpd.read_file(path_to_marin)\n",
    "\n",
    "marin"
   ]
  },
  {
   "cell_type": "code",
   "execution_count": null,
   "metadata": {
    "ExecuteTime": {
     "end_time": "2020-05-25T15:39:47.383445Z",
     "start_time": "2020-05-25T15:39:45.381210Z"
    }
   },
   "outputs": [],
   "source": [
    "def create_awhere_grid(crs, aoi):\n",
    "    \"\"\"\n",
    "    Parameters\n",
    "    ----------\n",
    "    crs: numeric string\n",
    "        String of EPSG code for best CRS\n",
    "        CRS must have units of meters\n",
    "        \n",
    "        \n",
    "    aoi: Geopandas GeoDataFrame\n",
    "        One-element GeoDataFrame containing area over which\n",
    "        to draw grid\n",
    "        \n",
    "    Returns\n",
    "    -------\n",
    "    GeoDataFrame containing 9km x 9km cells\n",
    "    \"\"\"   \n",
    "    \n",
    "    # Reproject aoi to CRS using meters for aWhere grid cells\n",
    "    aoi = aoi.to_crs(f'epsg:{crs}')\n",
    "    \n",
    "    # Get x and y min and max from total boundaries\n",
    "    xmin, ymin, xmax, ymax = aoi.total_bounds\n",
    "    \n",
    "    # Set side of grid cell to 9 km\n",
    "    side = 9000\n",
    "    \n",
    "    # Create x values for x points for rows\n",
    "    x_range = np.arange(int(np.floor(xmin)), int(np.ceil(xmax)), side)\n",
    "    \n",
    "    # Create y values\n",
    "    y_range = np.arange(int(np.floor(ymin)), int(np.floor(ymax)), side)\n",
    "    \n",
    "    # Create empty list to hold grid cells\n",
    "    polygons = []\n",
    "    \n",
    "    for x in x_range:\n",
    "        for y in y_range:\n",
    "            polygons.append(Polygon([(x,y), (x+side, y), (x+side, y+side), (x,y+side)]))\n",
    "            \n",
    "    grid = gpd.GeoDataFrame({'geometry': polygons})\n",
    "    \n",
    "    grid.crs = f'EPSG:{crs}'\n",
    "    \n",
    "    return grid\n",
    "\n",
    "grid = create_awhere_grid('2019', county)\n",
    "\n",
    "# Create plot to check data\n",
    "fig, ax = plt.subplots()\n",
    "\n",
    "county.plot(alpha=0.2, ax=ax)\n",
    "\n",
    "grid.plot(color=\"none\", edgecolor=\"black\", linewidth = 0.1, ax=ax)\n",
    "\n",
    "plt.show()"
   ]
  },
  {
   "cell_type": "code",
   "execution_count": null,
   "metadata": {
    "ExecuteTime": {
     "end_time": "2020-05-24T20:02:59.414325Z",
     "start_time": "2020-05-24T20:02:59.399954Z"
    }
   },
   "outputs": [],
   "source": [
    "# Add accumulated_ppet column to grid\n",
    "grid = grid.assign(accumulated_ppet = 0)"
   ]
  },
  {
   "cell_type": "code",
   "execution_count": null,
   "metadata": {
    "ExecuteTime": {
     "end_time": "2020-05-24T19:39:24.787727Z",
     "start_time": "2020-05-24T19:39:24.763462Z"
    },
    "scrolled": true
   },
   "outputs": [],
   "source": [
    "# Generate random values for each cell and add to grid gdf\n",
    "grid['test_ppet'] = [np.random.randint(0,30) for i in range(0, grid.shape[0])]"
   ]
  },
  {
   "cell_type": "code",
   "execution_count": null,
   "metadata": {
    "ExecuteTime": {
     "end_time": "2020-05-24T19:39:26.314855Z",
     "start_time": "2020-05-24T19:39:26.299673Z"
    }
   },
   "outputs": [],
   "source": [
    "# Allow user to change threshold as daily value\n",
    "daily_accumulated_ppet = 0.5\n",
    "\n",
    "# Calculate monthly value\n",
    "monthly_accumulated_ppet = daily_accumulated_ppet * 30\n",
    "\n",
    "# Calcualte if PPET meets threshold and add Boolean flag\n",
    "grid['meet_thresh'] = grid['test_ppet'].apply(lambda x: 1 if x >= monthly_accumulated_ppet else 0)"
   ]
  },
  {
   "cell_type": "code",
   "execution_count": null,
   "metadata": {
    "ExecuteTime": {
     "end_time": "2020-05-24T19:39:27.952837Z",
     "start_time": "2020-05-24T19:39:27.794936Z"
    }
   },
   "outputs": [],
   "source": [
    "# Drop all rows that do not meet threshold\n",
    "droughted = grid[grid.meet_thresh == 1]\n",
    "\n",
    "# Dissolve polygons\n",
    "drought_dissolve = droughted.dissolve(by='meet_thresh')"
   ]
  },
  {
   "cell_type": "code",
   "execution_count": null,
   "metadata": {
    "ExecuteTime": {
     "end_time": "2020-05-24T19:39:29.407978Z",
     "start_time": "2020-05-24T19:39:29.365507Z"
    }
   },
   "outputs": [],
   "source": [
    "# Explode polygons so that there are unique contiguous areas\n",
    "exploded = drought_dissolve.explode()"
   ]
  },
  {
   "cell_type": "code",
   "execution_count": null,
   "metadata": {
    "ExecuteTime": {
     "end_time": "2020-05-24T19:39:30.855620Z",
     "start_time": "2020-05-24T19:39:30.844423Z"
    },
    "scrolled": true
   },
   "outputs": [],
   "source": [
    "# Add area column\n",
    "exploded[\"sqkm\"] = exploded['geometry'].area/ 10**6\n",
    "\n",
    "# Drop multi-index outer level generated from dissolve\n",
    "exploded = exploded.droplevel(0)"
   ]
  },
  {
   "cell_type": "code",
   "execution_count": null,
   "metadata": {
    "ExecuteTime": {
     "end_time": "2020-05-24T19:39:32.440291Z",
     "start_time": "2020-05-24T19:39:32.426935Z"
    }
   },
   "outputs": [],
   "source": [
    "# Get largest polygon\n",
    "largest = exploded[exploded.sqkm == exploded.sqkm.max()]"
   ]
  },
  {
   "cell_type": "code",
   "execution_count": null,
   "metadata": {
    "ExecuteTime": {
     "end_time": "2020-05-24T19:39:41.071262Z",
     "start_time": "2020-05-24T19:39:41.061629Z"
    }
   },
   "outputs": [],
   "source": [
    "# Generate convex hull\n",
    "hull_largest = largest.convex_hull\n",
    "\n",
    "# Convert to gdf\n",
    "hull = gpd.GeoDataFrame(hull_largest, crs='epsg:2019')\n",
    "\n",
    "# Rename column '0' to 'geometry'\n",
    "hull.rename(columns={0:\"geometry\"}, inplace=True)"
   ]
  },
  {
   "cell_type": "code",
   "execution_count": null,
   "metadata": {
    "ExecuteTime": {
     "end_time": "2020-05-24T19:39:59.421104Z",
     "start_time": "2020-05-24T19:39:58.978859Z"
    }
   },
   "outputs": [],
   "source": [
    "fig, ax = plt.subplots()\n",
    "\n",
    "\n",
    "exploded.plot(ax=ax, column='sqkm')\n",
    "#largest.plot(ax=ax)\n",
    "#largest_envelope.plot(ax=ax, alpha=0.2)\n",
    "#simple_largest.plot(ax=ax, alpha=0.4, color='orange')\n",
    "hull.plot(ax=ax, alpha=0.4)\n",
    "\n",
    "plt.show()"
   ]
  }
 ],
 "metadata": {
  "kernelspec": {
   "display_name": "Python 3",
   "language": "python",
   "name": "python3"
  },
  "language_info": {
   "codemirror_mode": {
    "name": "ipython",
    "version": 3
   },
   "file_extension": ".py",
   "mimetype": "text/x-python",
   "name": "python",
   "nbconvert_exporter": "python",
   "pygments_lexer": "ipython3",
   "version": "3.7.6"
  },
  "varInspector": {
   "cols": {
    "lenName": 16,
    "lenType": 16,
    "lenVar": 40
   },
   "kernels_config": {
    "python": {
     "delete_cmd_postfix": "",
     "delete_cmd_prefix": "del ",
     "library": "var_list.py",
     "varRefreshCmd": "print(var_dic_list())"
    },
    "r": {
     "delete_cmd_postfix": ") ",
     "delete_cmd_prefix": "rm(",
     "library": "var_list.r",
     "varRefreshCmd": "cat(var_dic_list()) "
    }
   },
   "types_to_exclude": [
    "module",
    "function",
    "builtin_function_or_method",
    "instance",
    "_Feature"
   ],
   "window_display": false
  }
 },
 "nbformat": 4,
 "nbformat_minor": 4
}
