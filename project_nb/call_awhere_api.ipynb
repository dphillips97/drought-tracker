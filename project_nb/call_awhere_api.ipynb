{
 "cells": [
  {
   "cell_type": "code",
   "execution_count": null,
   "metadata": {
    "ExecuteTime": {
     "end_time": "2020-05-24T19:58:58.397976Z",
     "start_time": "2020-05-24T19:58:58.377889Z"
    }
   },
   "outputs": [],
   "source": [
    "import os\n",
    "\n",
    "import pandas as pd\n",
    "import matplotlib.pyplot as plt\n",
    "import matplotlib.ticker as plticker\n",
    "\n",
    "import geopandas as gpd\n",
    "import earthpy as et\n",
    "\n",
    "import requests as rq\n",
    "\n",
    "from header import AWhereAPI\n",
    "from secret_codes import *"
   ]
  },
  {
   "cell_type": "code",
   "execution_count": null,
   "metadata": {
    "ExecuteTime": {
     "end_time": "2020-05-24T19:59:02.768179Z",
     "start_time": "2020-05-24T19:59:02.747705Z"
    }
   },
   "outputs": [],
   "source": [
    "# Import codes from secret_codes.py\n",
    "api_key = API_KEY\n",
    "api_secret = API_SECRET"
   ]
  },
  {
   "cell_type": "code",
   "execution_count": null,
   "metadata": {
    "ExecuteTime": {
     "end_time": "2020-05-24T19:59:24.830483Z",
     "start_time": "2020-05-24T19:59:23.667441Z"
    }
   },
   "outputs": [],
   "source": [
    "# Create aWhere object\n",
    "aw = AWhereAPI(api_key, api_secret)\n",
    "\n",
    "# To get auth token, encode secret and key\n",
    "sc = aw.encode_secret_and_key(API_KEY, API_SECRET)\n",
    "\n",
    "# Then call auth token\n",
    "token = aw.get_oauth_token(sc)\n",
    "\n",
    "# Set up headers: auth and specific header for agronomics data\n",
    "auth_headers = {\"Authorization\": \"Bearer %s\" % token,\n",
    "                \"Content-Type\": 'application/json'}\n",
    "\n",
    "agro_header = {\"Authorization\":  \"Bearer %s\" % token}\n",
    "\n",
    "# General aWhere API endpoint \"prefix\"\n",
    "endpt = \"https://api.awhere.com\""
   ]
  },
  {
   "cell_type": "code",
   "execution_count": null,
   "metadata": {
    "ExecuteTime": {
     "end_time": "2020-05-06T02:08:12.712618Z",
     "start_time": "2020-05-06T02:08:12.581136Z"
    }
   },
   "outputs": [],
   "source": [
    "# Create path to grid geojson\n",
    "grid_path = os.path.join(et.io.HOME, \"Desktop\", \"drought\", \"data\", \"created\", \"aoi_polys.geojson\")\n",
    "\n",
    "# Read as gdf\n",
    "aoi_grid = gpd.read_file(grid_path)\n",
    "\n",
    "# Add centroid column \n",
    "aoi_grid['centroid'] = aoi_grid.geometry.apply(lambda poly: poly.centroid)\n",
    "\n",
    "# add ppet column with values of 0 \n",
    "aoi_grid = aoi_grid.assign(ppet = 0)"
   ]
  },
  {
   "cell_type": "code",
   "execution_count": null,
   "metadata": {},
   "outputs": [],
   "source": [
    "def get_ppet(grid_df, start_date, end_date):\n",
    "    \n",
    "    for index, row in grid_df.iterrows():\n",
    "    \n",
    "        latitude = row.centroid.y\n",
    "        longitude = row.centroid.x\n",
    "\n",
    "        # Create URL to get ag values\n",
    "        hist_ag_url = f\"/v2/agronomics/locations/{latitude},{longitude}/agronomicvalues/{start_date},{end_date}\"\n",
    "\n",
    "        # Endpoint suffix to get all accumulations\n",
    "        ppet_append = \"?properties=accumulations\"\n",
    "\n",
    "        # Get JSON\n",
    "        ag_json = rq.get((endpt + hist_ag_url + ppet_append), headers=agro_header).json()\n",
    "\n",
    "        # Add accumulated PPET data from JSON\n",
    "        grid_df.loc[index, 'ppet'] = ag_json.get('accumulations').get('ppet')"
   ]
  },
  {
   "cell_type": "code",
   "execution_count": null,
   "metadata": {
    "ExecuteTime": {
     "end_time": "2020-05-06T02:11:58.386078Z",
     "start_time": "2020-05-06T02:08:12.712618Z"
    }
   },
   "outputs": [],
   "source": [
    "\"\"\"Takes 4 minutes to run! Only run if aoi_grid.geojson is not needed\"\"\"\n",
    "\n",
    "# Pass in start and end dates\n",
    "start_day = \"2020-04-01\"\n",
    "end_day = \"2020-04-30\"\n",
    "\n",
    "for index, row in aoi_grid.iterrows():\n",
    "    \n",
    "    # Get lat and long from grid\n",
    "    latitude = row.centroid.y\n",
    "    longitude = row.centroid.x\n",
    "    \n",
    "    # Get and parse json\n",
    "    hist_ag_url = f\"/v2/agronomics/locations/{latitude},{longitude}/agronomicvalues/{start_day},{end_day}\"\n",
    "    \n",
    "    # Endpoint suffix to get all accumulations\n",
    "    ppet_append = \"?properties=accumulations\"\n",
    "    \n",
    "    # Get JSON\n",
    "    ag_norms_period = rq.get((endpt + hist_ag_url + ppet_append), headers=agro_header).json()\n",
    "\n",
    "    # Add accumulated ppet for April 2020\n",
    "    aoi_grid.loc[index, 'ppet'] = ag_norms_period.get('accumulations').get('ppet')"
   ]
  },
  {
   "cell_type": "code",
   "execution_count": null,
   "metadata": {
    "ExecuteTime": {
     "end_time": "2020-05-06T02:11:59.309872Z",
     "start_time": "2020-05-06T02:11:58.386078Z"
    }
   },
   "outputs": [],
   "source": [
    "# Better to save data as geojson instead of csv. Does not support multiple\n",
    "# geometry columns so we'll remove 'centroid'. Only need to\n",
    "# run this cell if we haven't called the API in the above cell\n",
    "\n",
    "aoi_grid_export = aoi_grid.copy()\n",
    "\n",
    "aoi_grid_export.drop(columns=['centroid'], inplace=True)\n",
    "\n",
    "# Create path to save aoi geojson\n",
    "grid_geojson_path = os.path.join(et.io.HOME, \"desktop\",\n",
    "                                 \"drought\", \"data\", \"created\",\n",
    "                                 \"aoi_ppet_april_2020.geojson\")\n",
    "\n",
    "# Save aoi_grid as geojson if necessary\n",
    "aoi_grid_export.to_file(grid_geojson_path, driver='GeoJSON')\n",
    "\n",
    "# Load AoI grid from geojson\n",
    "aoi_grid = gpd.read_file(grid_geojson_path)"
   ]
  },
  {
   "cell_type": "code",
   "execution_count": null,
   "metadata": {
    "ExecuteTime": {
     "end_time": "2020-05-06T02:11:59.788973Z",
     "start_time": "2020-05-06T02:11:59.309872Z"
    }
   },
   "outputs": [],
   "source": [
    "# Working dir\n",
    "working_dir = os.path.join(et.io.HOME, \"desktop\", \"drought\", \"data\")\n",
    "\n",
    "# Create path to area of interest for plotting\n",
    "aoi_path = os.path.join(working_dir, \"created\", \"aoi.shp\")\n",
    "\n",
    "# Create path to county boundaries for plotting\n",
    "county_path = os.path.join(working_dir, \"TIGER\", \"cb_2018_us_county_500k.shp\")\n",
    "\n",
    "# Load all CA counties\n",
    "counties = gpd.read_file(county_path)\n",
    "\n",
    "# Select Siskyou county\n",
    "siskiyou = counties[counties.NAME == 'Siskiyou']\n",
    "\n",
    "# Load AoI into gdf\n",
    "aoi = gpd.read_file(aoi_path)"
   ]
  },
  {
   "cell_type": "code",
   "execution_count": null,
   "metadata": {
    "ExecuteTime": {
     "end_time": "2020-05-06T02:12:00.379527Z",
     "start_time": "2020-05-06T02:11:59.788973Z"
    }
   },
   "outputs": [],
   "source": [
    "fig, ax = plt.subplots()\n",
    "\n",
    "ax.set(title=\"Accumulated P/PET, April 2020\\n\" +\n",
    "       \"Siskiyou County, California, USA\")\n",
    "\n",
    "# Plot P/PET values over AoI\n",
    "aoi_grid.plot(column='ppet', ax=ax,\n",
    "              cmap='coolwarm_r', legend=True,\n",
    "              legend_kwds={'label': \"Accumulated P/PET (mm)\",\n",
    "                           'orientation': \"horizontal\"})\n",
    "\n",
    "# Plot AoI extent\n",
    "aoi.plot(ax=ax, color=\"none\", edgecolor=\"black\", linewidth=2)\n",
    "\n",
    "# Plot county boundaries\n",
    "siskiyou.plot(ax=ax, color=\"none\", edgecolor=\"steelblue\", linewidth=2.5)\n",
    "\n",
    "# Turn off axis\n",
    "ax.set_axis_off()\n",
    "\n",
    "# Add source\n",
    "ax.text(0.1, 0.00001, transform=ax.transAxes, s=\"Source: aWhere, 2020\")\n",
    "\n",
    "# Create export path\n",
    "fig_5_path = os.path.join(et.io.HOME, \"desktop\", \"drought\", \"data\", \"images\", \"fig_5.png\")\n",
    "\n",
    "# Save figure\n",
    "plt.savefig(fig_5_path, bbox_inches=\"tight\")\n",
    "\n",
    "plt.show()"
   ]
  },
  {
   "cell_type": "code",
   "execution_count": null,
   "metadata": {},
   "outputs": [],
   "source": []
  }
 ],
 "metadata": {
  "kernelspec": {
   "display_name": "Python 3",
   "language": "python",
   "name": "python3"
  },
  "language_info": {
   "codemirror_mode": {
    "name": "ipython",
    "version": 3
   },
   "file_extension": ".py",
   "mimetype": "text/x-python",
   "name": "python",
   "nbconvert_exporter": "python",
   "pygments_lexer": "ipython3",
   "version": "3.7.6"
  },
  "varInspector": {
   "cols": {
    "lenName": 16,
    "lenType": 16,
    "lenVar": 40
   },
   "kernels_config": {
    "python": {
     "delete_cmd_postfix": "",
     "delete_cmd_prefix": "del ",
     "library": "var_list.py",
     "varRefreshCmd": "print(var_dic_list())"
    },
    "r": {
     "delete_cmd_postfix": ") ",
     "delete_cmd_prefix": "rm(",
     "library": "var_list.r",
     "varRefreshCmd": "cat(var_dic_list()) "
    }
   },
   "types_to_exclude": [
    "module",
    "function",
    "builtin_function_or_method",
    "instance",
    "_Feature"
   ],
   "window_display": false
  }
 },
 "nbformat": 4,
 "nbformat_minor": 4
}
