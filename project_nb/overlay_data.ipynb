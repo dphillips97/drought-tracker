{
 "cells": [
  {
   "cell_type": "code",
   "execution_count": 1,
   "metadata": {
    "ExecuteTime": {
     "end_time": "2020-07-01T18:49:50.268724Z",
     "start_time": "2020-07-01T18:48:56.657383Z"
    }
   },
   "outputs": [],
   "source": [
    "import os\n",
    "from pathlib import Path\n",
    "\n",
    "import numpy as np\n",
    "import numpy.ma as ma\n",
    "import matplotlib.pyplot as plt\n",
    "\n",
    "import geopandas as gpd\n",
    "\n",
    "import fiona\n",
    "import rasterio\n",
    "import rasterio.mask\n",
    "import rasterio as rio\n",
    "from rasterio.plot import *\n",
    "from rasterio.warp import calculate_default_transform, reproject, Resampling\n",
    "from shapely.geometry import Polygon\n",
    "\n",
    "import earthpy.spatial as es"
   ]
  },
  {
   "cell_type": "code",
   "execution_count": 2,
   "metadata": {
    "ExecuteTime": {
     "end_time": "2020-07-01T18:49:50.299987Z",
     "start_time": "2020-07-01T18:49:50.284288Z"
    }
   },
   "outputs": [],
   "source": [
    "# Create paths to files\n",
    "\n",
    "data_dir = os.path.join(str(Path.home()), \"Desktop\", \"drought-tracker\", \"data\")\n",
    "\n",
    "path_to_josephine = os.path.join(data_dir, \"TIGER\", \"josephine.geojson\")\n",
    "\n",
    "path_to_nlcd = os.path.join(data_dir, \"NLCD\", \"NLCD_2016_Land_Cover_L48_20190424.img\")\n",
    "\n",
    "nlcd_clipped_path = os.path.join(data_dir, \"created\", \"nlcd_clipped.tif\")\n",
    "\n",
    "nlcd_clip_proj_path = os.path.join(data_dir, \"created\", \"nlcd_clip_proj.tif\")"
   ]
  },
  {
   "cell_type": "code",
   "execution_count": null,
   "metadata": {
    "ExecuteTime": {
     "start_time": "2020-07-01T18:48:58.320Z"
    },
    "scrolled": true
   },
   "outputs": [
    {
     "name": "stderr",
     "output_type": "stream",
     "text": [
      "C:\\Users\\dphil\\Miniconda3\\envs\\earth-analytics-python\\lib\\site-packages\\pyproj\\crs.py:77: FutureWarning: '+init=<authority>:<code>' syntax is deprecated. '<authority>:<code>' is the preferred initialization method.\n",
      "  return _prepare_from_string(\" \".join(pjargs))\n"
     ]
    }
   ],
   "source": [
    "# Load josephine county into gdf\n",
    "josephine = gpd.read_file(path_to_josephine)\n",
    "\n",
    "# Find projection of raster\n",
    "with rio.open(path_to_nlcd) as src:\n",
    "    src_meta = src.meta\n",
    "    \n",
    "# Convert Josephine to same CRS to clip\n",
    "josephine_reproj = josephine.to_crs(src_meta['crs'])"
   ]
  },
  {
   "cell_type": "code",
   "execution_count": 4,
   "metadata": {
    "ExecuteTime": {
     "end_time": "2020-07-01T17:10:50.720814Z",
     "start_time": "2020-07-01T17:10:50.213527Z"
    }
   },
   "outputs": [],
   "source": [
    "# Clip raster\n",
    "clip_shape = [josephine_reproj.geometry[0]]\n",
    "\n",
    "\n",
    "with rio.open(path_to_nlcd) as src:\n",
    "    out_image, out_transform = rio.mask.mask(src, clip_shape, crop=True)\n",
    "    out_meta = src.meta"
   ]
  },
  {
   "cell_type": "code",
   "execution_count": 5,
   "metadata": {
    "ExecuteTime": {
     "end_time": "2020-07-01T17:10:50.982115Z",
     "start_time": "2020-07-01T17:10:50.977127Z"
    }
   },
   "outputs": [],
   "source": [
    "# Eliminate \"layer\"\n",
    "out_image = out_image[0, :, :]"
   ]
  },
  {
   "cell_type": "code",
   "execution_count": 6,
   "metadata": {
    "ExecuteTime": {
     "end_time": "2020-07-01T17:10:52.493388Z",
     "start_time": "2020-07-01T17:10:51.279320Z"
    }
   },
   "outputs": [
    {
     "data": {
      "text/plain": [
       "<matplotlib.image.AxesImage at 0x1daaf13b4c8>"
      ]
     },
     "execution_count": 6,
     "metadata": {},
     "output_type": "execute_result"
    },
    {
     "data": {
      "image/png": "[encoded data removed]",
      "text/plain": [
       "<Figure size 432x288 with 1 Axes>"
      ]
     },
     "metadata": {
      "needs_background": "light"
     },
     "output_type": "display_data"
    }
   ],
   "source": [
    "# See image\n",
    "fig, ax = plt.subplots()\n",
    "ax.imshow(out_image)\n",
    "#josephine_reproj.plot(ax=ax)"
   ]
  },
  {
   "cell_type": "code",
   "execution_count": 7,
   "metadata": {
    "ExecuteTime": {
     "end_time": "2020-07-01T17:14:25.419344Z",
     "start_time": "2020-07-01T17:10:52.838464Z"
    }
   },
   "outputs": [],
   "source": [
    "# Save out_image\n",
    "with rio.open(nlcd_clipped_path, 'w', **out_meta) as outf:\n",
    "    outf.write(out_image, 1)"
   ]
  },
  {
   "cell_type": "code",
   "execution_count": 9,
   "metadata": {
    "ExecuteTime": {
     "end_time": "2020-07-01T17:56:08.087737Z",
     "start_time": "2020-07-01T17:18:35.929140Z"
    }
   },
   "outputs": [],
   "source": [
    "dst_crs = \"EPSG:4326\"\n",
    "\n",
    "\n",
    "# Clip raster\n",
    "clip_shape = [josephine_reproj.geometry[0]]\n",
    "\n",
    "\n",
    "with rio.open(nlcd_clipped_path) as src:\n",
    "\n",
    "    transform, width, height = calculate_default_transform(src.crs,\n",
    "                                                           dst_crs,\n",
    "                                                           src.width,\n",
    "                                                           src.height,\n",
    "                                                           *src.bounds)\n",
    "    kwargs = src.meta.copy()\n",
    "    kwargs.update({\n",
    "        'crs': dst_crs,\n",
    "        'transform': transform,\n",
    "        'width': width,\n",
    "        'height': height})\n",
    "\n",
    "    with rio.open(nlcd_clip_proj_path, 'w', **kwargs) as dst:\n",
    "        for i in range(1, src.count + 1):\n",
    "            reproject(\n",
    "                source=rio.band(src, i),\n",
    "                destination=rio.band(dst, i),\n",
    "                src_transform=src.transform,\n",
    "                src_crs=src.crs,\n",
    "                dst_transform=transform,\n",
    "                dst_crs=dst_crs,\n",
    "                resampling=Resampling.nearest)"
   ]
  },
  {
   "cell_type": "code",
   "execution_count": null,
   "metadata": {
    "ExecuteTime": {
     "start_time": "2020-07-01T18:49:07.785Z"
    }
   },
   "outputs": [],
   "source": [
    "# Open cropped image\n",
    "with rio.open(nlcd_clip_proj_path) as src:\n",
    "    nlcd = src.read(1)"
   ]
  },
  {
   "cell_type": "code",
   "execution_count": null,
   "metadata": {
    "ExecuteTime": {
     "end_time": "2020-06-30T18:23:08.238620Z",
     "start_time": "2020-06-30T18:23:08.096677Z"
    }
   },
   "outputs": [],
   "source": [
    "nlcd_crop = nlcd_crop[0]"
   ]
  },
  {
   "cell_type": "code",
   "execution_count": null,
   "metadata": {
    "ExecuteTime": {
     "end_time": "2020-06-30T18:23:08.432293Z",
     "start_time": "2020-06-30T18:23:08.242498Z"
    }
   },
   "outputs": [],
   "source": [
    "farms = ma.masked_where(nlcd_crop != 81, nlcd_crop)"
   ]
  },
  {
   "cell_type": "code",
   "execution_count": null,
   "metadata": {
    "ExecuteTime": {
     "end_time": "2020-06-30T18:23:08.454353Z",
     "start_time": "2020-06-30T18:23:08.434172Z"
    }
   },
   "outputs": [],
   "source": [
    "farms_extent = plotting_extent(farms, nlcd_crop_meta['transform'])\n",
    "farms_extent"
   ]
  },
  {
   "cell_type": "code",
   "execution_count": null,
   "metadata": {
    "ExecuteTime": {
     "end_time": "2020-06-30T18:25:52.174722Z",
     "start_time": "2020-06-30T18:25:51.162428Z"
    },
    "scrolled": false
   },
   "outputs": [],
   "source": [
    "fig, ax = plt.subplots()\n",
    "\n",
    "ax.imshow(farms, extent=farms_extent)\n",
    "josephine.plot(ax=ax, color=\"green\", alpha=0.2)\n",
    "\n",
    "plt.show()"
   ]
  },
  {
   "cell_type": "code",
   "execution_count": null,
   "metadata": {
    "ExecuteTime": {
     "end_time": "2020-06-30T18:31:32.768862Z",
     "start_time": "2020-06-30T18:31:32.749910Z"
    }
   },
   "outputs": [],
   "source": [
    "path_to_master_gdf = os.path.join(home, \"Desktop\", \"drought-tracker\", \"data\", \"created\", \"josephine_master.geojson\")\n",
    "master_gdf = gpd.read_file(path_to_master_gdf)"
   ]
  },
  {
   "cell_type": "code",
   "execution_count": null,
   "metadata": {
    "ExecuteTime": {
     "end_time": "2020-06-30T18:32:00.661467Z",
     "start_time": "2020-06-30T18:32:00.477762Z"
    }
   },
   "outputs": [],
   "source": [
    "master_gdf = master_gdf.to_crs(josephine.crs)"
   ]
  },
  {
   "cell_type": "code",
   "execution_count": null,
   "metadata": {
    "ExecuteTime": {
     "end_time": "2020-06-30T18:34:39.543001Z",
     "start_time": "2020-06-30T18:34:34.372825Z"
    }
   },
   "outputs": [],
   "source": [
    "fig, (norms, t_2, t_1, t) = plt.subplots(1, 4, figsize=(15, 5))\n",
    "\n",
    "fig.suptitle(\"Drought Extent in relation to Cropland in Josephine County, OR\\n\" +\n",
    "             \"from P/PET(May 01 - Oct 31)\")\n",
    "\n",
    "norms.set_title(\"Norms from 2009 - 2019\")\n",
    "master_gdf[:1].plot(ax=norms, color=\"none\", edgecolor='black', zorder=2)\n",
    "josephine.plot(ax=norms, color='green')\n",
    "norms.imshow(farms, extent=farms_extent, zorder=3)\n",
    "norms.set_axis_off()\n",
    "\n",
    "t_2.set_title(\"2016\")\n",
    "master_gdf[3:4].plot(ax=t_2, color=\"none\", edgecolor='orange', zorder=2)\n",
    "josephine.plot(ax=t_2, color='green')\n",
    "t_2.imshow(farms, extent=farms_extent, zorder=3)\n",
    "t_2.set_axis_off()\n",
    "\n",
    "t_1.set_title(\"2018\")\n",
    "master_gdf[5:6].plot(ax=t_1, color=\"none\", edgecolor='orange', zorder=2)\n",
    "josephine.plot(ax=t_1, color='green')\n",
    "t_1.imshow(farms, extent=farms_extent, zorder=3)\n",
    "t_1.set_axis_off()\n",
    "\n",
    "t.set_title(\"2019\")\n",
    "master_gdf[-1:].plot(ax=t, color=\"none\", edgecolor='orange', zorder=2)\n",
    "josephine.plot(ax=t, color='green')\n",
    "t.imshow(farms, extent=farms_extent, zorder=3)\n",
    "t.set_axis_off()"
   ]
  },
  {
   "cell_type": "code",
   "execution_count": null,
   "metadata": {
    "ExecuteTime": {
     "end_time": "2020-06-30T18:37:23.667506Z",
     "start_time": "2020-06-30T18:37:23.657532Z"
    }
   },
   "outputs": [],
   "source": [
    "nlcd_crop_meta"
   ]
  },
  {
   "cell_type": "code",
   "execution_count": null,
   "metadata": {},
   "outputs": [],
   "source": []
  }
 ],
 "metadata": {
  "kernelspec": {
   "display_name": "Python 3",
   "language": "python",
   "name": "python3"
  },
  "language_info": {
   "codemirror_mode": {
    "name": "ipython",
    "version": 3
   },
   "file_extension": ".py",
   "mimetype": "text/x-python",
   "name": "python",
   "nbconvert_exporter": "python",
   "pygments_lexer": "ipython3",
   "version": "3.7.6"
  },
  "varInspector": {
   "cols": {
    "lenName": 16,
    "lenType": 16,
    "lenVar": 40
   },
   "kernels_config": {
    "python": {
     "delete_cmd_postfix": "",
     "delete_cmd_prefix": "del ",
     "library": "var_list.py",
     "varRefreshCmd": "print(var_dic_list())"
    },
    "r": {
     "delete_cmd_postfix": ") ",
     "delete_cmd_prefix": "rm(",
     "library": "var_list.r",
     "varRefreshCmd": "cat(var_dic_list()) "
    }
   },
   "types_to_exclude": [
    "module",
    "function",
    "builtin_function_or_method",
    "instance",
    "_Feature"
   ],
   "window_display": false
  }
 },
 "nbformat": 4,
 "nbformat_minor": 4
}
