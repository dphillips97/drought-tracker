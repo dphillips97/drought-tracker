{
 "cells": [
  {
   "cell_type": "code",
   "execution_count": 1,
   "metadata": {
    "ExecuteTime": {
     "end_time": "2020-05-25T15:18:42.849647Z",
     "start_time": "2020-05-25T15:18:32.385764Z"
    }
   },
   "outputs": [],
   "source": [
    "import os\n",
    "from pathlib import Path\n",
    "\n",
    "import numpy as np\n",
    "import geopandas as gpd"
   ]
  },
  {
   "cell_type": "code",
   "execution_count": 2,
   "metadata": {
    "ExecuteTime": {
     "end_time": "2020-05-25T15:18:44.485241Z",
     "start_time": "2020-05-25T15:18:42.860204Z"
    },
    "scrolled": true
   },
   "outputs": [],
   "source": [
    "# Create home path\n",
    "home = str(Path.home())\n",
    "\n",
    "# Path to all California counties\n",
    "counties_path = os.path.join(home, \"Desktop\", \"drought-tracker\", \"data\", \"TIGER\", \"cb_2018_us_county_500k.shp\")\n",
    "\n",
    "# Load shp to gdf\n",
    "counties = gpd.read_file(counties_path)"
   ]
  },
  {
   "cell_type": "code",
   "execution_count": 3,
   "metadata": {
    "ExecuteTime": {
     "end_time": "2020-05-25T15:18:45.551841Z",
     "start_time": "2020-05-25T15:18:44.495182Z"
    }
   },
   "outputs": [
    {
     "name": "stderr",
     "output_type": "stream",
     "text": [
      "C:\\Users\\dphil\\Miniconda3\\envs\\earth-analytics-python\\lib\\site-packages\\pyproj\\crs.py:77: FutureWarning: '+init=<authority>:<code>' syntax is deprecated. '<authority>:<code>' is the preferred initialization method.\n",
      "  return _prepare_from_string(\" \".join(pjargs))\n"
     ]
    }
   ],
   "source": [
    "# Select only California counties\n",
    "ca_counties = counties[counties.STATEFP == '06']\n",
    "\n",
    "# Project into UTM\n",
    "ca_counties = ca_counties.to_crs(\"epsg:2019\")\n",
    "\n",
    "# Calculate area of each county\n",
    "ca_counties['a'] = ca_counties.area"
   ]
  },
  {
   "cell_type": "code",
   "execution_count": 4,
   "metadata": {
    "ExecuteTime": {
     "end_time": "2020-05-25T15:18:45.785023Z",
     "start_time": "2020-05-25T15:18:45.553839Z"
    }
   },
   "outputs": [
    {
     "data": {
      "text/html": [
       "<div>\n",
       "<style scoped>\n",
       "    .dataframe tbody tr th:only-of-type {\n",
       "        vertical-align: middle;\n",
       "    }\n",
       "\n",
       "    .dataframe tbody tr th {\n",
       "        vertical-align: top;\n",
       "    }\n",
       "\n",
       "    .dataframe thead th {\n",
       "        text-align: right;\n",
       "    }\n",
       "</style>\n",
       "<table border=\"1\" class=\"dataframe\">\n",
       "  <thead>\n",
       "    <tr style=\"text-align: right;\">\n",
       "      <th></th>\n",
       "      <th>STATEFP</th>\n",
       "      <th>COUNTYFP</th>\n",
       "      <th>COUNTYNS</th>\n",
       "      <th>AFFGEOID</th>\n",
       "      <th>GEOID</th>\n",
       "      <th>NAME</th>\n",
       "      <th>LSAD</th>\n",
       "      <th>ALAND</th>\n",
       "      <th>AWATER</th>\n",
       "      <th>geometry</th>\n",
       "      <th>a</th>\n",
       "    </tr>\n",
       "  </thead>\n",
       "  <tbody>\n",
       "    <tr>\n",
       "      <th>1261</th>\n",
       "      <td>06</td>\n",
       "      <td>075</td>\n",
       "      <td>00277302</td>\n",
       "      <td>0500000US06075</td>\n",
       "      <td>06075</td>\n",
       "      <td>San Francisco</td>\n",
       "      <td>06</td>\n",
       "      <td>121375681</td>\n",
       "      <td>479216672</td>\n",
       "      <td>MULTIPOLYGON (((-3529100.575 5165793.982, -352...</td>\n",
       "      <td>1.793982e+08</td>\n",
       "    </tr>\n",
       "    <tr>\n",
       "      <th>2386</th>\n",
       "      <td>06</td>\n",
       "      <td>087</td>\n",
       "      <td>00277308</td>\n",
       "      <td>0500000US06087</td>\n",
       "      <td>06087</td>\n",
       "      <td>Santa Cruz</td>\n",
       "      <td>06</td>\n",
       "      <td>1152866293</td>\n",
       "      <td>419671509</td>\n",
       "      <td>POLYGON ((-3566755.817 5096084.012, -3564087.1...</td>\n",
       "      <td>1.632787e+09</td>\n",
       "    </tr>\n",
       "    <tr>\n",
       "      <th>47</th>\n",
       "      <td>06</td>\n",
       "      <td>081</td>\n",
       "      <td>00277305</td>\n",
       "      <td>0500000US06081</td>\n",
       "      <td>06081</td>\n",
       "      <td>San Mateo</td>\n",
       "      <td>06</td>\n",
       "      <td>1161960635</td>\n",
       "      <td>757110545</td>\n",
       "      <td>POLYGON ((-3558914.291 5153412.914, -3558319.5...</td>\n",
       "      <td>1.675669e+09</td>\n",
       "    </tr>\n",
       "    <tr>\n",
       "      <th>1212</th>\n",
       "      <td>06</td>\n",
       "      <td>041</td>\n",
       "      <td>00277285</td>\n",
       "      <td>0500000US06041</td>\n",
       "      <td>06041</td>\n",
       "      <td>Marin</td>\n",
       "      <td>06</td>\n",
       "      <td>1347976788</td>\n",
       "      <td>797029137</td>\n",
       "      <td>MULTIPOLYGON (((-3534684.506 5180090.689, -353...</td>\n",
       "      <td>1.987365e+09</td>\n",
       "    </tr>\n",
       "    <tr>\n",
       "      <th>39</th>\n",
       "      <td>06</td>\n",
       "      <td>005</td>\n",
       "      <td>01675841</td>\n",
       "      <td>0500000US06005</td>\n",
       "      <td>06005</td>\n",
       "      <td>Amador</td>\n",
       "      <td>06</td>\n",
       "      <td>1539933577</td>\n",
       "      <td>29470567</td>\n",
       "      <td>POLYGON ((-3365819.375 5181551.522, -3365531.5...</td>\n",
       "      <td>2.138631e+09</td>\n",
       "    </tr>\n",
       "    <tr>\n",
       "      <th>463</th>\n",
       "      <td>06</td>\n",
       "      <td>101</td>\n",
       "      <td>00277315</td>\n",
       "      <td>0500000US06101</td>\n",
       "      <td>06101</td>\n",
       "      <td>Sutter</td>\n",
       "      <td>06</td>\n",
       "      <td>1560546527</td>\n",
       "      <td>15240593</td>\n",
       "      <td>POLYGON ((-3399841.324 5311392.730, -3399510.6...</td>\n",
       "      <td>2.166496e+09</td>\n",
       "    </tr>\n",
       "    <tr>\n",
       "      <th>49</th>\n",
       "      <td>06</td>\n",
       "      <td>115</td>\n",
       "      <td>00277322</td>\n",
       "      <td>0500000US06115</td>\n",
       "      <td>06115</td>\n",
       "      <td>Yuba</td>\n",
       "      <td>06</td>\n",
       "      <td>1636913845</td>\n",
       "      <td>31057995</td>\n",
       "      <td>POLYGON ((-3372195.801 5296335.309, -3372091.8...</td>\n",
       "      <td>2.276283e+09</td>\n",
       "    </tr>\n",
       "    <tr>\n",
       "      <th>40</th>\n",
       "      <td>06</td>\n",
       "      <td>013</td>\n",
       "      <td>01675903</td>\n",
       "      <td>0500000US06013</td>\n",
       "      <td>06013</td>\n",
       "      <td>Contra Costa</td>\n",
       "      <td>06</td>\n",
       "      <td>1857233047</td>\n",
       "      <td>225282636</td>\n",
       "      <td>POLYGON ((-3526357.180 5191155.155, -3525388.1...</td>\n",
       "      <td>2.751274e+09</td>\n",
       "    </tr>\n",
       "    <tr>\n",
       "      <th>37</th>\n",
       "      <td>06</td>\n",
       "      <td>001</td>\n",
       "      <td>01675839</td>\n",
       "      <td>0500000US06001</td>\n",
       "      <td>06001</td>\n",
       "      <td>Alameda</td>\n",
       "      <td>06</td>\n",
       "      <td>1909598013</td>\n",
       "      <td>216923745</td>\n",
       "      <td>POLYGON ((-3528868.207 5168357.603, -3527818.1...</td>\n",
       "      <td>2.720925e+09</td>\n",
       "    </tr>\n",
       "    <tr>\n",
       "      <th>38</th>\n",
       "      <td>06</td>\n",
       "      <td>003</td>\n",
       "      <td>01675840</td>\n",
       "      <td>0500000US06003</td>\n",
       "      <td>06003</td>\n",
       "      <td>Alpine</td>\n",
       "      <td>06</td>\n",
       "      <td>1912292630</td>\n",
       "      <td>12557304</td>\n",
       "      <td>POLYGON ((-3268331.650 5157847.844, -3267709.1...</td>\n",
       "      <td>2.587280e+09</td>\n",
       "    </tr>\n",
       "  </tbody>\n",
       "</table>\n",
       "</div>"
      ],
      "text/plain": [
       "     STATEFP COUNTYFP  COUNTYNS        AFFGEOID  GEOID           NAME LSAD  \\\n",
       "1261      06      075  00277302  0500000US06075  06075  San Francisco   06   \n",
       "2386      06      087  00277308  0500000US06087  06087     Santa Cruz   06   \n",
       "47        06      081  00277305  0500000US06081  06081      San Mateo   06   \n",
       "1212      06      041  00277285  0500000US06041  06041          Marin   06   \n",
       "39        06      005  01675841  0500000US06005  06005         Amador   06   \n",
       "463       06      101  00277315  0500000US06101  06101         Sutter   06   \n",
       "49        06      115  00277322  0500000US06115  06115           Yuba   06   \n",
       "40        06      013  01675903  0500000US06013  06013   Contra Costa   06   \n",
       "37        06      001  01675839  0500000US06001  06001        Alameda   06   \n",
       "38        06      003  01675840  0500000US06003  06003         Alpine   06   \n",
       "\n",
       "           ALAND     AWATER  \\\n",
       "1261   121375681  479216672   \n",
       "2386  1152866293  419671509   \n",
       "47    1161960635  757110545   \n",
       "1212  1347976788  797029137   \n",
       "39    1539933577   29470567   \n",
       "463   1560546527   15240593   \n",
       "49    1636913845   31057995   \n",
       "40    1857233047  225282636   \n",
       "37    1909598013  216923745   \n",
       "38    1912292630   12557304   \n",
       "\n",
       "                                               geometry             a  \n",
       "1261  MULTIPOLYGON (((-3529100.575 5165793.982, -352...  1.793982e+08  \n",
       "2386  POLYGON ((-3566755.817 5096084.012, -3564087.1...  1.632787e+09  \n",
       "47    POLYGON ((-3558914.291 5153412.914, -3558319.5...  1.675669e+09  \n",
       "1212  MULTIPOLYGON (((-3534684.506 5180090.689, -353...  1.987365e+09  \n",
       "39    POLYGON ((-3365819.375 5181551.522, -3365531.5...  2.138631e+09  \n",
       "463   POLYGON ((-3399841.324 5311392.730, -3399510.6...  2.166496e+09  \n",
       "49    POLYGON ((-3372195.801 5296335.309, -3372091.8...  2.276283e+09  \n",
       "40    POLYGON ((-3526357.180 5191155.155, -3525388.1...  2.751274e+09  \n",
       "37    POLYGON ((-3528868.207 5168357.603, -3527818.1...  2.720925e+09  \n",
       "38    POLYGON ((-3268331.650 5157847.844, -3267709.1...  2.587280e+09  "
      ]
     },
     "execution_count": 4,
     "metadata": {},
     "output_type": "execute_result"
    }
   ],
   "source": [
    "# See which counties have small areas\n",
    "ca_counties.sort_values(by=\"ALAND\", ascending=True).head(10)"
   ]
  },
  {
   "cell_type": "code",
   "execution_count": 5,
   "metadata": {
    "ExecuteTime": {
     "end_time": "2020-05-25T15:18:45.852038Z",
     "start_time": "2020-05-25T15:18:45.791867Z"
    }
   },
   "outputs": [
    {
     "data": {
      "text/html": [
       "<div>\n",
       "<style scoped>\n",
       "    .dataframe tbody tr th:only-of-type {\n",
       "        vertical-align: middle;\n",
       "    }\n",
       "\n",
       "    .dataframe tbody tr th {\n",
       "        vertical-align: top;\n",
       "    }\n",
       "\n",
       "    .dataframe thead th {\n",
       "        text-align: right;\n",
       "    }\n",
       "</style>\n",
       "<table border=\"1\" class=\"dataframe\">\n",
       "  <thead>\n",
       "    <tr style=\"text-align: right;\">\n",
       "      <th></th>\n",
       "      <th>STATEFP</th>\n",
       "      <th>COUNTYFP</th>\n",
       "      <th>COUNTYNS</th>\n",
       "      <th>AFFGEOID</th>\n",
       "      <th>GEOID</th>\n",
       "      <th>NAME</th>\n",
       "      <th>LSAD</th>\n",
       "      <th>ALAND</th>\n",
       "      <th>AWATER</th>\n",
       "      <th>geometry</th>\n",
       "      <th>a</th>\n",
       "    </tr>\n",
       "  </thead>\n",
       "  <tbody>\n",
       "    <tr>\n",
       "      <th>1212</th>\n",
       "      <td>06</td>\n",
       "      <td>041</td>\n",
       "      <td>00277285</td>\n",
       "      <td>0500000US06041</td>\n",
       "      <td>06041</td>\n",
       "      <td>Marin</td>\n",
       "      <td>06</td>\n",
       "      <td>1347976788</td>\n",
       "      <td>797029137</td>\n",
       "      <td>MULTIPOLYGON (((-3534684.506 5180090.689, -353...</td>\n",
       "      <td>1.987365e+09</td>\n",
       "    </tr>\n",
       "  </tbody>\n",
       "</table>\n",
       "</div>"
      ],
      "text/plain": [
       "     STATEFP COUNTYFP  COUNTYNS        AFFGEOID  GEOID   NAME LSAD  \\\n",
       "1212      06      041  00277285  0500000US06041  06041  Marin   06   \n",
       "\n",
       "           ALAND     AWATER  \\\n",
       "1212  1347976788  797029137   \n",
       "\n",
       "                                               geometry             a  \n",
       "1212  MULTIPOLYGON (((-3534684.506 5180090.689, -353...  1.987365e+09  "
      ]
     },
     "execution_count": 5,
     "metadata": {},
     "output_type": "execute_result"
    }
   ],
   "source": [
    "# Select marin county\n",
    "marin = ca_counties.loc[ca_counties.NAME == \"Marin\"]\n",
    "marin"
   ]
  },
  {
   "cell_type": "code",
   "execution_count": 6,
   "metadata": {
    "ExecuteTime": {
     "end_time": "2020-05-25T15:18:45.918751Z",
     "start_time": "2020-05-25T15:18:45.858221Z"
    }
   },
   "outputs": [],
   "source": [
    "# Export to csv\n",
    "marin_out_path = os.path.join(home, \"Desktop\", \"drought-tracker\", \"data\", \"TIGER\", \"marin.csv\")\n",
    "\n",
    "marin.to_csv(marin_out_path)"
   ]
  },
  {
   "cell_type": "code",
   "execution_count": null,
   "metadata": {},
   "outputs": [],
   "source": []
  }
 ],
 "metadata": {
  "kernelspec": {
   "display_name": "Python 3",
   "language": "python",
   "name": "python3"
  },
  "language_info": {
   "codemirror_mode": {
    "name": "ipython",
    "version": 3
   },
   "file_extension": ".py",
   "mimetype": "text/x-python",
   "name": "python",
   "nbconvert_exporter": "python",
   "pygments_lexer": "ipython3",
   "version": "3.7.6"
  },
  "varInspector": {
   "cols": {
    "lenName": 16,
    "lenType": 16,
    "lenVar": 40
   },
   "kernels_config": {
    "python": {
     "delete_cmd_postfix": "",
     "delete_cmd_prefix": "del ",
     "library": "var_list.py",
     "varRefreshCmd": "print(var_dic_list())"
    },
    "r": {
     "delete_cmd_postfix": ") ",
     "delete_cmd_prefix": "rm(",
     "library": "var_list.r",
     "varRefreshCmd": "cat(var_dic_list()) "
    }
   },
   "types_to_exclude": [
    "module",
    "function",
    "builtin_function_or_method",
    "instance",
    "_Feature"
   ],
   "window_display": false
  }
 },
 "nbformat": 4,
 "nbformat_minor": 4
}
