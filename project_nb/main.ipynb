{
 "cells": [
  {
   "cell_type": "markdown",
   "metadata": {},
   "source": [
    "**TODO**\n",
    "- remove cells that do not intersect area\n",
    "- get centroid for hull"
   ]
  },
  {
   "cell_type": "code",
   "execution_count": 1,
   "metadata": {
    "ExecuteTime": {
     "end_time": "2020-06-01T22:59:24.649433Z",
     "start_time": "2020-06-01T22:59:13.181825Z"
    }
   },
   "outputs": [],
   "source": [
    "import os\n",
    "from pathlib import Path\n",
    "import calendar\n",
    "\n",
    "import numpy as np\n",
    "import matplotlib.pyplot as plt\n",
    "\n",
    "import geopandas as gpd\n",
    "from shapely.geometry import Point, Polygon\n",
    "\n",
    "import requests as rq\n",
    "\n",
    "# for aWhere API\n",
    "from header import AWhereAPI\n",
    "from secret_codes import *\n",
    "\n",
    "api_key = API_KEY\n",
    "api_secret = API_SECRET"
   ]
  },
  {
   "cell_type": "code",
   "execution_count": 2,
   "metadata": {
    "ExecuteTime": {
     "end_time": "2020-06-01T22:59:26.189848Z",
     "start_time": "2020-06-01T22:59:24.687145Z"
    }
   },
   "outputs": [],
   "source": [
    "# Create aWhere object\n",
    "aw = AWhereAPI(api_key, api_secret)\n",
    "\n",
    "# To get auth token, encode secret and key\n",
    "sc = aw.encode_secret_and_key(API_KEY, API_SECRET)\n",
    "\n",
    "# Then call auth token\n",
    "token = aw.get_oauth_token(sc)"
   ]
  },
  {
   "cell_type": "code",
   "execution_count": 3,
   "metadata": {
    "ExecuteTime": {
     "end_time": "2020-06-01T22:59:26.236707Z",
     "start_time": "2020-06-01T22:59:26.221091Z"
    }
   },
   "outputs": [],
   "source": [
    "\"\"\" Set variables for aWhere API call\"\"\"\n",
    "\n",
    "# General endpoint\n",
    "endpt = \"https://api.awhere.com\"\n",
    "\n",
    "# Set up headers: auth and specific header for agronomics data\n",
    "auth_headers = {\"Authorization\": \"Bearer %s\" % token,\n",
    "                \"Content-Type\": 'application/json'}\n",
    "\n",
    "agro_header = {\"Authorization\":  \"Bearer %s\" % token}"
   ]
  },
  {
   "cell_type": "code",
   "execution_count": 4,
   "metadata": {
    "ExecuteTime": {
     "end_time": "2020-06-01T22:59:27.323574Z",
     "start_time": "2020-06-01T22:59:26.268020Z"
    }
   },
   "outputs": [
    {
     "name": "stderr",
     "output_type": "stream",
     "text": [
      "C:\\Users\\dphil\\Miniconda3\\envs\\earth-analytics-python\\lib\\site-packages\\pyproj\\crs.py:77: FutureWarning: '+init=<authority>:<code>' syntax is deprecated. '<authority>:<code>' is the preferred initialization method.\n",
      "  return _prepare_from_string(\" \".join(pjargs))\n"
     ]
    }
   ],
   "source": [
    "# Create path to home\n",
    "home = str(Path.home())\n",
    "\n",
    "# Create path to geojson since csv crashes Jupyter\n",
    "path_to_marin = os.path.join(\n",
    "    home, \"Desktop\", \"drought-tracker\", \"data\", \"TIGER\", \"marin.geojson\")\n",
    "\n",
    "# Create df with 1 test county (Marin)\n",
    "marin = gpd.read_file(path_to_marin)\n",
    "\n",
    "marin = marin.to_crs(\"EPSG:4326\")"
   ]
  },
  {
   "cell_type": "code",
   "execution_count": 5,
   "metadata": {
    "ExecuteTime": {
     "end_time": "2020-06-01T22:59:28.194653Z",
     "start_time": "2020-06-01T22:59:27.370509Z"
    }
   },
   "outputs": [],
   "source": [
    "# Create path to surrounding counties as context\n",
    "path_to_counties = os.path.join(home, \"Desktop\", \"drought-tracker\", \"data\", \"TIGER\", \"cb_2018_us_county_500k.shp\")\n",
    "\n",
    "counties = gpd.read_file(path_to_counties)\n",
    "\n",
    "ca_counties = counties[counties.NAME.str.contains('San Francisco') | counties.NAME.str.contains('Sonoma')]"
   ]
  },
  {
   "cell_type": "code",
   "execution_count": 6,
   "metadata": {
    "ExecuteTime": {
     "end_time": "2020-06-01T22:59:28.295005Z",
     "start_time": "2020-06-01T22:59:28.272769Z"
    }
   },
   "outputs": [],
   "source": [
    "def create_awhere_grid(aoi, out_crs, calc_crs):\n",
    "    \"\"\"\n",
    "    Parameters\n",
    "    ----------\n",
    "    aoi: Geopandas GeoDataFrame\n",
    "        One-element GeoDataFrame containing area over which\n",
    "        to draw grid\n",
    "    \n",
    "    out_crs: numeric string\n",
    "        String of EPSG code for exported GDF\n",
    "    \n",
    "    calc_crs: numeric string\n",
    "        String of EPSG code for CRS used\n",
    "        to calculate grid. CRS must have units of meters\n",
    "        \n",
    "    Returns\n",
    "    -------\n",
    "    GeoDataFrame containing 9km x 9km cells\n",
    "    \"\"\"   \n",
    "    \n",
    "    # Reproject aoi to CRS using meters for aWhere grid cells\n",
    "    aoi = aoi.to_crs(f'epsg:{calc_crs}')\n",
    "    \n",
    "    # Get x and y min and max from total boundaries\n",
    "    xmin, ymin, xmax, ymax = aoi.total_bounds\n",
    "    \n",
    "    # Set side of grid cell to 9 km\n",
    "    side = 9000\n",
    "    \n",
    "    # Create x values for x points for rows\n",
    "    x_range = np.arange(int(np.floor(xmin)), int(np.ceil(xmax)), side)\n",
    "    \n",
    "    # Create y values\n",
    "    y_range = np.arange(int(np.floor(ymin)), int(np.floor(ymax)), side)\n",
    "    \n",
    "    # Create empty list to hold grid cells\n",
    "    polygons = []\n",
    "    \n",
    "    for x in x_range:\n",
    "        for y in y_range:\n",
    "            polygons.append(Polygon([(x,y), (x+side, y), (x+side, y+side), (x,y+side)]))\n",
    "            \n",
    "    grid = gpd.GeoDataFrame({'geometry': polygons})\n",
    "    \n",
    "    grid.crs = f'EPSG:{calc_crs}'\n",
    "    \n",
    "    # Convert to out_crs\n",
    "    grid = grid.to_crs(f\"EPSG:{out_crs}\")\n",
    "    \n",
    "    return grid"
   ]
  },
  {
   "cell_type": "code",
   "execution_count": 7,
   "metadata": {
    "ExecuteTime": {
     "end_time": "2020-06-01T22:59:29.660084Z",
     "start_time": "2020-06-01T22:59:28.373176Z"
    }
   },
   "outputs": [
    {
     "data": {
      "image/png": "[encoded data removed]",
      "text/plain": [
       "<Figure size 432x288 with 1 Axes>"
      ]
     },
     "metadata": {
      "needs_background": "light"
     },
     "output_type": "display_data"
    }
   ],
   "source": [
    "# Create grid polygon\n",
    "grid = create_awhere_grid(aoi=marin,\n",
    "                          out_crs='4326',\n",
    "                          calc_crs='2019')\n",
    "\n",
    "# Add centroid column\n",
    "grid['centroid'] = grid.geometry.apply(lambda poly: poly.centroid)\n",
    "\n",
    "\n",
    "# Check to see if everything looks correct\n",
    "fig, ax = plt.subplots()\n",
    "grid.plot(color=\"none\", linewidth=1, edgecolor='orange', ax=ax, zorder=3)\n",
    "marin.plot(color='green', alpha=0.9, ax=ax)\n",
    "ca_counties.plot(color=\"green\", alpha=0.2, ax=ax)\n",
    "\n",
    "plt.show()"
   ]
  },
  {
   "cell_type": "code",
   "execution_count": 8,
   "metadata": {
    "ExecuteTime": {
     "end_time": "2020-06-01T23:00:04.640623Z",
     "start_time": "2020-06-01T22:59:29.760464Z"
    }
   },
   "outputs": [
    {
     "name": "stderr",
     "output_type": "stream",
     "text": [
      "C:\\Users\\dphil\\Miniconda3\\envs\\earth-analytics-python\\lib\\site-packages\\pandas\\core\\indexing.py:494: SettingWithCopyWarning: \n",
      "A value is trying to be set on a copy of a slice from a DataFrame.\n",
      "Try using .loc[row_indexer,col_indexer] = value instead\n",
      "\n",
      "See the caveats in the documentation: http://pandas.pydata.org/pandas-docs/stable/user_guide/indexing.html#returning-a-view-versus-a-copy\n",
      "  self.obj[item] = s\n"
     ]
    }
   ],
   "source": [
    "def get_ppet(grid_df, start_date, end_date, drop_null=False, testing=False):\n",
    "    \"\"\"\n",
    "    Paraemeters\n",
    "    -----------\n",
    "    grid_df: Geopandas GeoDataFrame\n",
    "        Contains gridded area to fetch argonomics values for\n",
    "\n",
    "    start_date: string\n",
    "        Format \"YYYY-MM-DD\"\n",
    "\n",
    "    end_date: string\n",
    "        Format \"YYYY-MM-DD\"\n",
    "\n",
    "    drop_null: boolean (optional)\n",
    "        Drop grid cells that have null values returned from\n",
    "        API request for agronomics data. Often null values \n",
    "        result from grid cell lying in a body of water.\n",
    "\n",
    "    testing: boolean (optional)\n",
    "        Returns sample P/PET values for each grid cell \n",
    "        from 0 - 30 mm. Used for testing; bypasses API call.\n",
    "\n",
    "    Returns\n",
    "    -------\n",
    "    grid_df: Geopandas GeoDataFrame\n",
    "        Contains gridded input area with requested values.\n",
    "\n",
    "    \"\"\"\n",
    "\n",
    "    # For testing, generate random values for each cell\n",
    "    if testing == True:\n",
    "        grid_df['test_ppet'] = [np.random.randint(\n",
    "            0, 30) for i in range(0, grid.shape[0])]\n",
    "\n",
    "        return grid_df\n",
    "\n",
    "    # Add P/PET column if it does not exist and initialize to 0\n",
    "    if 'ppet' not in grid_df.columns:\n",
    "        grid_df = grid_df.assign(ppet=0)\n",
    "\n",
    "    # Iterate thru rows (cells) in gdf\n",
    "    for index, row in grid_df.iterrows():\n",
    "\n",
    "        # Get centroid coordinates from each cell to pass to API\n",
    "        lat = round(row.centroid.y, 5)\n",
    "        lon = round(row.centroid.x, 5)\n",
    "\n",
    "        \"\"\"Build unique URL\"\"\"\n",
    "        # URL to historical agronomics (norms)\n",
    "        hist_ag_url = f\"/v2/agronomics/locations/{lat},{lon}/agronomicvalues/{start_date},{end_date}\"\n",
    "\n",
    "        # Endpoint suffix to get all accumulations\n",
    "        url_append = \"?properties=accumulations\"\n",
    "\n",
    "        # Full URL, endpt is defined up top\n",
    "        full_url = endpt + hist_ag_url + url_append\n",
    "\n",
    "        # Get JSON\n",
    "        ag_norms_json = rq.get(full_url, headers=agro_header).json()\n",
    "\n",
    "        # Try to pull data from return JSON\n",
    "        try:\n",
    "            grid_df.loc[index, 'ppet'] = ag_norms_json.get(\n",
    "                'accumulations').get('ppet')\n",
    "\n",
    "        except:\n",
    "            grid_df.loc[index, 'ppet'] = np.nan\n",
    "\n",
    "        # Drop null cells if requested\n",
    "        if drop_null == True:\n",
    "            grid_df = grid_df[grid_df.ppet.isnull() == False]\n",
    "\n",
    "    return grid_df\n",
    "\n",
    "\n",
    "ppet_grid = get_ppet(grid_df=grid,\n",
    "                     start_date=\"2020-04-01\",\n",
    "                     end_date=\"2020-04-30\",\n",
    "                     drop_null=True,\n",
    "                     testing=False)"
   ]
  },
  {
   "cell_type": "code",
   "execution_count": 9,
   "metadata": {
    "ExecuteTime": {
     "end_time": "2020-06-01T23:00:04.756461Z",
     "start_time": "2020-06-01T23:00:04.740845Z"
    }
   },
   "outputs": [],
   "source": [
    "def binary_threshold(gdf, daily_acc_ppet_threshold, month, year):\n",
    "    \n",
    "    # Find monthly accumulated P/PET\n",
    "    days_in_month = calendar.monthrange(year, month)[1]\n",
    "    \n",
    "    # Calculate monthly accumulated P/PET based on user's threshold\n",
    "    monthly_acc_ppet = days_in_month * daily_acc_ppet_threshold\n",
    "    \n",
    "    # Add Boolean flag column if meets threshold\n",
    "    gdf['meet_thresh'] = gdf['ppet'].apply(lambda x: 1 if x >= monthly_acc_ppet else 0)\n",
    "    \n",
    "    return gdf\n",
    "\n",
    "test = binary_threshold(gdf=ppet_grid, \n",
    "                        daily_acc_ppet_threshold = 0.2, \n",
    "                        month=4, \n",
    "                        year=2020)"
   ]
  },
  {
   "cell_type": "code",
   "execution_count": 10,
   "metadata": {
    "ExecuteTime": {
     "end_time": "2020-06-01T23:00:04.972573Z",
     "start_time": "2020-06-01T23:00:04.872256Z"
    }
   },
   "outputs": [],
   "source": [
    "def to_convex_hull(gdf, crs):\n",
    "    \n",
    "    # Drop all rows that do not meet threshold\n",
    "    meet_thresh_only = gdf[gdf.meet_thresh == 1]\n",
    "    \n",
    "    # Dissolve polygons that meet threshold\n",
    "    meet_thresh_dissolve = meet_thresh_only.dissolve(by='meet_thresh')\n",
    "    \n",
    "    # Explode polygons so that there are unique contiguous areas\n",
    "    exploded = meet_thresh_dissolve.explode()\n",
    "\n",
    "    # Drop multi-index outer level generated from dissolve\n",
    "    exploded = exploded.droplevel(0)\n",
    "    \n",
    "    # Add area column\n",
    "    exploded[\"sqkm\"] = exploded['geometry'].area/ 10**6\n",
    "    \n",
    "    # Get largest polygon\n",
    "    largest = exploded[exploded.sqkm == exploded.sqkm.max()]\n",
    "    \n",
    "    # Generate convex hull\n",
    "    hull_largest = largest.convex_hull\n",
    "\n",
    "    # Convert to gdf\n",
    "    hull = gpd.GeoDataFrame(hull_largest, crs=f'epsg:{crs}')\n",
    "\n",
    "    # Rename column '0' to 'geometry'\n",
    "    hull.rename(columns={0:\"geometry\"}, inplace=True)\n",
    "    \n",
    "    return hull"
   ]
  },
  {
   "cell_type": "code",
   "execution_count": 11,
   "metadata": {
    "ExecuteTime": {
     "end_time": "2020-06-01T23:00:05.420784Z",
     "start_time": "2020-06-01T23:00:05.126155Z"
    }
   },
   "outputs": [],
   "source": [
    "hull = to_convex_hull(test, 4326)"
   ]
  },
  {
   "cell_type": "code",
   "execution_count": 59,
   "metadata": {
    "ExecuteTime": {
     "end_time": "2020-06-02T02:43:14.717224Z",
     "start_time": "2020-06-02T02:43:14.438454Z"
    }
   },
   "outputs": [
    {
     "data": {
      "image/png": "[encoded data removed]",
      "text/plain": [
       "<Figure size 432x288 with 1 Axes>"
      ]
     },
     "metadata": {
      "needs_background": "light"
     },
     "output_type": "display_data"
    }
   ],
   "source": [
    "fig, ax = plt.subplots()\n",
    "\n",
    "hull.plot(ax=ax, color='none', edgecolor='red', zorder=4)\n",
    "test.plot(column='ppet', ax=ax, alpha=0.6, zorder=3)\n",
    "marin.plot(color='green', alpha=0.9, ax=ax)\n",
    "#ca_counties.plot(color=\"green\", alpha=0.2, ax=ax)\n",
    "\n",
    "plt.show()"
   ]
  },
  {
   "cell_type": "code",
   "execution_count": 57,
   "metadata": {
    "ExecuteTime": {
     "end_time": "2020-06-02T02:42:46.847137Z",
     "start_time": "2020-06-02T02:42:46.461643Z"
    }
   },
   "outputs": [
    {
     "name": "stdout",
     "output_type": "stream",
     "text": [
      "Total droughted area: 3118500000.0\n",
      "Average P/PET per cell in droughted area: 5.092\n"
     ]
    }
   ],
   "source": [
    "def drought_stats_binary(grid_gdf, hull_gdf, crs):\n",
    "    \n",
    "    # Make projections same\n",
    "    grid_gdf = grid_gdf.to_crs(f\"EPSG:{crs}\")\n",
    "    \n",
    "    hull_gdf = hull_gdf.to_crs(f\"EPSG:{crs}\")\n",
    "    \n",
    "    # Convert hull_gdf to shapely polygon\n",
    "    hull_shape = Polygon(hull.geometry[0])\n",
    "    \n",
    "    # Set summary variables to 0\n",
    "    inter_area_run_sum = 0\n",
    "    \n",
    "    # This is a list to more easily calculate average (using sum then len)\n",
    "    inter_ppet_run_sum = []\n",
    "    \n",
    "    # Loop through grid cells in grid_gdf\n",
    "    for index, row in test.iterrows():\n",
    "    \n",
    "        # Convert to shapely Polygon\n",
    "        grid_cell = Polygon(row.geometry)\n",
    "        \n",
    "        # If cell intersects the hull:\n",
    "        if grid_cell.intersects(hull_shape):\n",
    "\n",
    "            # Find the area of the intersection polygon\n",
    "            intersect_area = grid_cell.intersection(hull_shape).area\n",
    "            \n",
    "            # Find the proportional split of grid cell's P/PET\n",
    "            proportional_ppet = (intersect_area / row.geometry.area) * row.ppet\n",
    "            \n",
    "            # Append it to the list\n",
    "            inter_ppet_run_sum.append(proportional_ppet)\n",
    "    \n",
    "    # Find average P/PET per cell\n",
    "    inter_ppet = round((sum(inter_ppet_run_sum) / len(inter_ppet_run_sum)), 3)\n",
    "    \n",
    "    print(f\"Total droughted area: {round(hull_shape.area, 3)}\")\n",
    "\n",
    "    print(f\"Average P/PET per cell in droughted area: {inter_ppet}\")\n",
    "    \n",
    "drought_stats_binary(test, hull, \"2163\")"
   ]
  },
  {
   "cell_type": "code",
   "execution_count": null,
   "metadata": {},
   "outputs": [],
   "source": []
  }
 ],
 "metadata": {
  "kernelspec": {
   "display_name": "Python 3",
   "language": "python",
   "name": "python3"
  },
  "language_info": {
   "codemirror_mode": {
    "name": "ipython",
    "version": 3
   },
   "file_extension": ".py",
   "mimetype": "text/x-python",
   "name": "python",
   "nbconvert_exporter": "python",
   "pygments_lexer": "ipython3",
   "version": "3.7.6"
  },
  "varInspector": {
   "cols": {
    "lenName": 16,
    "lenType": 16,
    "lenVar": 40
   },
   "kernels_config": {
    "python": {
     "delete_cmd_postfix": "",
     "delete_cmd_prefix": "del ",
     "library": "var_list.py",
     "varRefreshCmd": "print(var_dic_list())"
    },
    "r": {
     "delete_cmd_postfix": ") ",
     "delete_cmd_prefix": "rm(",
     "library": "var_list.r",
     "varRefreshCmd": "cat(var_dic_list()) "
    }
   },
   "types_to_exclude": [
    "module",
    "function",
    "builtin_function_or_method",
    "instance",
    "_Feature"
   ],
   "window_display": false
  }
 },
 "nbformat": 4,
 "nbformat_minor": 4
}
