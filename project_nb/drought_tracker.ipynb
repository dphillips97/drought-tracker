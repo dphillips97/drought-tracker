{
 "cells": [
  {
   "cell_type": "markdown",
   "metadata": {},
   "source": [
    "## The \"Where\" of Dry\n",
    "### *Spatiotemporal Tracking of Agricultural Droughts*\n",
    "\n",
    "Drew Phillips, Earth Data Analytics Applications Summer 2020"
   ]
  },
  {
   "cell_type": "markdown",
   "metadata": {},
   "source": [
    "### *Overview*\n",
    "\n",
    "How are we affected by droughts? For many of us, droughts manifest as wildfire bans or instructions to leave our pools unfilled. In industrialized countries, however, we are spared many of the catastrophic downstream effects of droughts including impacts on public health and the economy.\n",
    "\n",
    "The [U.S. Drought Monitor](https://droughtmonitor.unl.edu/) produces daily maps of the spatial extent and severity of droughts in the United States. However, the boundaries and are somewhat arbitrary and the analysis is not reproducible since it depends on expert judgment of quantitative data.\n",
    "\n",
    "With these issues in mind, I chose this project to answer the following question:\n",
    "> How can we accurately describe the spatial extent of a droughted region on a local scale?"
   ]
  },
  {
   "cell_type": "code",
   "execution_count": 1,
   "metadata": {
    "ExecuteTime": {
     "end_time": "2020-07-05T22:07:43.746080Z",
     "start_time": "2020-07-05T22:07:40.965867Z"
    },
    "tags": [
     "hide"
    ]
   },
   "outputs": [],
   "source": [
    "import os\n",
    "from pathlib import Path\n",
    "import warnings\n",
    "\n",
    "# Analysis and graphing libs\n",
    "import numpy as np\n",
    "import matplotlib.pyplot as plt\n",
    "import matplotlib.lines as mlines\n",
    "import matplotlib.patches as mpatches \n",
    "\n",
    "# Spatial libs\n",
    "import geopandas as gpd\n",
    "from shapely.geometry import Polygon\n",
    "\n",
    "# libs for aWhere API\n",
    "import requests as rq\n",
    "from header import AWhereAPI\n",
    "from secret_codes import *\n",
    "\n",
    "# Secret API info\n",
    "api_key = API_KEY\n",
    "api_secret = API_SECRET\n",
    "\n",
    "warnings.simplefilter(\"ignore\")"
   ]
  },
  {
   "cell_type": "code",
   "execution_count": 2,
   "metadata": {
    "ExecuteTime": {
     "end_time": "2020-07-05T22:07:44.485022Z",
     "start_time": "2020-07-05T22:07:43.751072Z"
    },
    "tags": [
     "hide"
    ]
   },
   "outputs": [],
   "source": [
    "# Create aWhere object\n",
    "aw = AWhereAPI(api_key, api_secret)\n",
    "\n",
    "# To get auth token, encode secret and key\n",
    "sc = aw.encode_secret_and_key(API_KEY, API_SECRET)\n",
    "\n",
    "# Then call auth token\n",
    "token = aw.get_oauth_token(sc)"
   ]
  },
  {
   "cell_type": "code",
   "execution_count": 3,
   "metadata": {
    "ExecuteTime": {
     "end_time": "2020-07-05T22:07:44.513589Z",
     "start_time": "2020-07-05T22:07:44.495736Z"
    },
    "tags": [
     "hide"
    ]
   },
   "outputs": [],
   "source": [
    "# Set variables for aWhere API call \n",
    "\n",
    "# General endpoint\n",
    "endpt = \"https://api.awhere.com\"\n",
    "\n",
    "# Set up headers: auth and specific header for agronomics data\n",
    "auth_headers = {\"Authorization\": \"Bearer %s\" % token,\n",
    "                \"Content-Type\": \"application/json\"}\n",
    "\n",
    "agro_header = {\"Authorization\":  \"Bearer %s\" % token}"
   ]
  },
  {
   "cell_type": "code",
   "execution_count": 4,
   "metadata": {
    "ExecuteTime": {
     "end_time": "2020-07-05T22:07:45.526553Z",
     "start_time": "2020-07-05T22:07:44.526527Z"
    },
    "scrolled": true,
    "tags": [
     "hide"
    ]
   },
   "outputs": [],
   "source": [
    "# Set path to are of interst (in same directory)\n",
    "# In this instance, AoI is Josephine County\n",
    "path_to_aoi = r\"josephine_4326.geojson\"\n",
    "\n",
    "# Read in area of interest (in this case, shapefile\n",
    "# of Josephine County, OR)\n",
    "aoi = gpd.read_file(path_to_aoi)\n",
    "\n",
    "# Ensure AoI is in WGS84\n",
    "aoi = aoi.to_crs(\"EPSG:4326\")"
   ]
  },
  {
   "cell_type": "code",
   "execution_count": 5,
   "metadata": {
    "ExecuteTime": {
     "end_time": "2020-07-05T22:07:45.574962Z",
     "start_time": "2020-07-05T22:07:45.534425Z"
    },
    "tags": [
     "hide"
    ]
   },
   "outputs": [],
   "source": [
    "def create_grid(study_area_path, buffer_distance, cell_size=0.08):\n",
    "    \"\"\"\n",
    "    Creates an aWhere-sized grid (0.08 x 0.08 degree,\n",
    "    5 arc-minute x 5 arc-minute grid) fit to a polygon.\n",
    "\n",
    "    Parameters\n",
    "    ----------\n",
    "    study_area_path : str\n",
    "        Path the polygon shapefile boundary.\n",
    "\n",
    "    buffer_distance : int or float\n",
    "        Buffer size in degrees (WGS 84 CRS).\n",
    "\n",
    "    cell_size: int or float\n",
    "        Grid size (x and y dimension) in degrees (WGS 84 CRS).\n",
    "\n",
    "    Returns\n",
    "    -------\n",
    "    study_area_grid_4326: geopandas GeoDataFrame\n",
    "        Grid dataframe shaped to the polygon boundary.\n",
    "\n",
    "    study_area_4326: geopandas GeoDataFrame\n",
    "        Study area boundary projected to WGS 84, EPSG 4326.\n",
    "    \"\"\"\n",
    "    \n",
    "    # Read shapefile into geodataframe\n",
    "    study_area = gpd.read_file(study_area_path)\n",
    "\n",
    "    # Project to WGS 84 Lat/Lon, EPSG 4326 if no CRS match\n",
    "    if not study_area.crs == \"epsg:4326\":\n",
    "        study_area_4326 = study_area.to_crs(\"epsg:4326\")\n",
    "\n",
    "    else:\n",
    "        study_area_4326 = study_area\n",
    "\n",
    "    # Create buffer around state boundary\n",
    "    study_area_4326_buffer = study_area_4326.buffer(distance=buffer_distance)\n",
    "\n",
    "    # Convert buffer from geoseries to geodataframe\n",
    "    study_area_4326_buffer_gdf = gpd.GeoDataFrame(\n",
    "        study_area_4326_buffer, crs=\"epsg:4326\"\n",
    "    )\n",
    "\n",
    "    # Rename geometry column in buffer\n",
    "    study_area_4326_buffer_gdf.rename(columns={0: \"geometry\"}, inplace=True)\n",
    "\n",
    "    # Get extent of buffered boundary\n",
    "    longitude_min = study_area_4326_buffer_gdf.bounds.minx[0]\n",
    "    latitude_min = study_area_4326_buffer_gdf.bounds.miny[0]\n",
    "    longitude_max = study_area_4326_buffer_gdf.bounds.maxx[0]\n",
    "    latitude_max = study_area_4326_buffer_gdf.bounds.maxy[0]\n",
    "\n",
    "    # Create lists for lat/lon extents\n",
    "    longitude_vals = np.arange(longitude_min, longitude_max, cell_size)\n",
    "    latitude_vals = np.arange(latitude_min, latitude_max, cell_size)\n",
    "\n",
    "    # Create grid of polygons based on longitude and latitude ranges\n",
    "    grid_polys_list = [\n",
    "        Polygon(\n",
    "            [\n",
    "                (longitude, latitude),\n",
    "                (longitude + cell_size, latitude),\n",
    "                (longitude + cell_size, latitude + cell_size),\n",
    "                (longitude, latitude + cell_size),\n",
    "            ]\n",
    "        )\n",
    "        for longitude in longitude_vals\n",
    "        for latitude in latitude_vals\n",
    "    ]\n",
    "\n",
    "    # Create geodataframe from grid polygons\n",
    "    grid_polys_gdf = gpd.GeoDataFrame(crs=4326, geometry=grid_polys_list)\n",
    "\n",
    "    # Narrow grid cells to those within the buffered boundary\n",
    "    study_area_grid_4326 = gpd.sjoin(\n",
    "        grid_polys_gdf, study_area_4326_buffer_gdf, op=\"within\"\n",
    "    )\n",
    "\n",
    "    # Drop unnecessary colum\n",
    "    study_area_grid_4326.drop(columns=\"index_right\", inplace=True)\n",
    "\n",
    "    # Return gridded geodataframe\n",
    "    return study_area_grid_4326, study_area_4326"
   ]
  },
  {
   "cell_type": "code",
   "execution_count": 6,
   "metadata": {
    "ExecuteTime": {
     "end_time": "2020-07-05T22:07:45.798169Z",
     "start_time": "2020-07-05T22:07:45.579917Z"
    },
    "tags": [
     "hide"
    ]
   },
   "outputs": [],
   "source": [
    "def call_api(lat, lon, start_d, end_d, norms_or_values, testing=False):\n",
    "    \"\"\"\n",
    "    Calls aWhere's API and requests agronomic norms (for a range of days\n",
    "    for all years from 2006 to 2019) or agronomic values (for a range of days\n",
    "    in a specific year). \n",
    "    \n",
    "    Parameters\n",
    "    ----------\n",
    "    lat: int or float\n",
    "        Number representing latitude of location to call API for. Acceptable values\n",
    "        are from -90 to 90.\n",
    "    \n",
    "    lon: int or float\n",
    "        Number representing longitude of location to call API for. Acceptable values\n",
    "        are from -180 to 180.\n",
    "    \n",
    "    start_d: string\n",
    "        Start of time period to collect values for. Of format \"YYYY-MM-DD\" \n",
    "        (for agronomic values) or \"MM-DD\" (for agronomic norms). If the \n",
    "        wrong format is passed (\"MM-DD\" for values, for example) the returned\n",
    "        JSON will show an error.\n",
    "    \n",
    "    end_d: string\n",
    "        End of time period to collect values for. Of format \"YYYY-MM-DD\" \n",
    "        (for agronomic values) or \"MM-DD\" (for agronomic norms). If the \n",
    "        wrong format is passed (\"MM-DD\" for values, for example) the returned\n",
    "        JSON will show an error.\n",
    "    \n",
    "    norms_or_values: string\n",
    "        Format \"norms\" or \"values\". If \"norms\", start_d and end_d must be of \n",
    "        format \"MM-DD\". If \"values\", start_d and end_d must be of format\n",
    "        \"YYYY-MM-DD\".\n",
    "    \n",
    "    testing: Boolean\n",
    "        Default false. If True, returns API URL instead of JSON-like object.\n",
    "        \n",
    "    Returns\n",
    "    -------\n",
    "    ag_json: JSON-like object\n",
    "        Contains full response from aWhere's API\n",
    "    \n",
    "    \"\"\"\n",
    "\n",
    "    # Return norms\n",
    "    if norms_or_values == 'norms':\n",
    "\n",
    "        api_call_type = \"agronomicnorms\"\n",
    "\n",
    "    # Return values\n",
    "    elif norms_or_values == 'values':\n",
    "\n",
    "        api_call_type = \"agronomicvalues\"\n",
    "\n",
    "    # Catch errors (forgot argument)\n",
    "    else:\n",
    "\n",
    "        raise ValueError(\n",
    "            \"Please specify a type of API call: \\'values\\' or \\'norms\\'\")\n",
    "\n",
    "    # URL to agricultural data (norms or values)\n",
    "    ag_url = f\"/v2/agronomics/locations/{lat},{lon}/{api_call_type}/{start_d},{end_d}\"\n",
    "\n",
    "    # Endpoint suffix to get all accumulations (exclude array of daily values)\n",
    "    url_append = \"?properties=accumulations\"\n",
    "\n",
    "    # Full URL, endpt is defined up top\n",
    "    full_url = endpt + ag_url + url_append\n",
    "\n",
    "    if testing == False:\n",
    "\n",
    "        # Get JSON\n",
    "        ag_json = rq.get(full_url, headers=agro_header).json()\n",
    "\n",
    "        # Testing\n",
    "        return ag_json\n",
    "\n",
    "    elif testing == True:\n",
    "\n",
    "        return full_url"
   ]
  },
  {
   "cell_type": "code",
   "execution_count": 7,
   "metadata": {
    "ExecuteTime": {
     "end_time": "2020-07-05T22:07:45.881117Z",
     "start_time": "2020-07-05T22:07:45.812128Z"
    },
    "tags": [
     "hide"
    ]
   },
   "outputs": [],
   "source": [
    "def get_norms(in_grid_gdf, start_d, end_d):\n",
    "    \"\"\"\n",
    "    Gets agronomic norms from aWhere's API for each grid\n",
    "    cell in input GeoDataFrame.\n",
    "    \n",
    "    Parameters\n",
    "    ----------\n",
    "    in_grid_gdf: Geopandas GeoDataFrame\n",
    "        Contains at least 1 geometry for which to find\n",
    "        agronomic norms. Grid cell is 9 km by 9 km,\n",
    "        the size used by aWhere to return data.\n",
    "        \n",
    "    start_d: string \n",
    "        Start of time period to collect values for, of format \"MM-DD\".\n",
    "    \n",
    "    end_d: string \n",
    "        End of time period to collect values for, of format \"MM-DD\".\n",
    "\n",
    "    Returns\n",
    "    -------\n",
    "    out_gdf: Geopandas GeoDataFrame\n",
    "        Contains original geometries and agronomic norm values for \n",
    "        specified time period.\n",
    "    \"\"\"\n",
    "    \n",
    "    all_rows = []\n",
    "\n",
    "    # Create columns in gdf\n",
    "    columns_to_add = [\"avg_accum_precip\",\n",
    "                      \"avg_accum_precip_stdev\",\n",
    "                      \"avg_accum_pet\",\n",
    "                      \"avg_accum_pet_stdev\",\n",
    "                      \"avg_accum_ppet\",\n",
    "                      \"avg_accum_ppet_stdev\"]\n",
    "\n",
    "    # Add columns to gdf and set as NaN if they do not exist\n",
    "    for col in columns_to_add:\n",
    "        if col not in in_grid_gdf:\n",
    "            in_grid_gdf[col] = np.nan\n",
    "\n",
    "    print(\"Calling API for each cell...\")\n",
    "    # Iterate thru rows (cells) in gdf\n",
    "    for index, row in in_grid_gdf.iterrows():\n",
    "\n",
    "        # Get centroid coordinates from each cell to pass to API\n",
    "        lat = round(row.geometry.centroid.y, 5)\n",
    "        lon = round(row.geometry.centroid.x, 5)\n",
    "\n",
    "        # Get JSON using call_api function\n",
    "        ag_json = call_api(lat, lon, start_d, end_d, \"norms\")\n",
    "\n",
    "        # Wrap in try since some cells might be in ocean and not have values\n",
    "        try:\n",
    "\n",
    "            # Get average accumulated precip\n",
    "            avg_accum_precip = ag_json.get(\"averageAccumulations\").get(\n",
    "                \"precipitation\").get(\"average\")\n",
    "\n",
    "            # Get average accumulated precip stdev\n",
    "            avg_accum_precip_stdev = ag_json.get(\n",
    "                \"averageAccumulations\").get(\"precipitation\").get(\"stdDev\")\n",
    "\n",
    "            # Get average accumulated PET\n",
    "            avg_accum_pet = ag_json.get(\n",
    "                \"averageAccumulations\").get(\"pet\").get(\"average\")\n",
    "\n",
    "            # Get average accumulated PET stdev\n",
    "            avg_accum_pet_stdev = ag_json.get(\n",
    "                \"averageAccumulations\").get(\"pet\").get(\"stdDev\")\n",
    "\n",
    "            # Get average accumulated P/PET for time range\n",
    "            avg_accum_ppet = ag_json.get(\n",
    "                \"averageAccumulations\").get(\"ppet\").get(\"average\")\n",
    "\n",
    "            # Get average accumulated P/PET stdev over time perion\n",
    "            avg_accum_ppet_stdev = ag_json.get(\n",
    "                \"averageAccumulations\").get(\"ppet\").get(\"stdDev\")\n",
    "\n",
    "            year_dict = {\"avg_accum_precip\": avg_accum_precip,\n",
    "                         \"avg_accum_precip_stdev\": avg_accum_precip_stdev,\n",
    "                         \"avg_accum_pet\": avg_accum_pet,\n",
    "                         \"avg_accum_pet_stdev\": avg_accum_pet_stdev,\n",
    "                         \"avg_accum_ppet\": avg_accum_ppet,\n",
    "                         \"avg_accum_ppet_stdev\": avg_accum_ppet_stdev,\n",
    "                         \"geometry\": row.geometry}\n",
    "\n",
    "            all_rows.append(year_dict)\n",
    "\n",
    "        except:\n",
    "\n",
    "            {\"avg_accum_precip\": np.nan,\n",
    "             \"avg_accum_precip_stdev\": np.nan,\n",
    "             \"avg_accum_pet\": np.nan,\n",
    "             \"avg_accum_pet_stdev\": np.nan,\n",
    "             \"avg_accum_ppet\": np.nan,\n",
    "             \"avg_accum_ppet_stdev\": np.nan,\n",
    "             \"geometry\": row.geometry}\n",
    "            \n",
    "            all_rows.append(year_dict)\n",
    "\n",
    "    out_gdf = gpd.GeoDataFrame(data=all_rows, crs=\"EPSG:4326\")\n",
    "\n",
    "    print(\"Grid with agronomic values generated.\")\n",
    "\n",
    "    return out_gdf"
   ]
  },
  {
   "cell_type": "code",
   "execution_count": 8,
   "metadata": {
    "ExecuteTime": {
     "end_time": "2020-07-05T22:07:45.969021Z",
     "start_time": "2020-07-05T22:07:45.888097Z"
    },
    "tags": [
     "hide"
    ]
   },
   "outputs": [],
   "source": [
    "def get_vals(in_grid_gdf, start_d, end_d):\n",
    "    \"\"\"\n",
    "    Gets agronomic values from aWhere's API for each grid\n",
    "    cell in input GeoDataFrame.\n",
    "    \n",
    "    Parameters\n",
    "    ----------\n",
    "    in_grid_gdf: Geopandas GeoDataFrame\n",
    "        Contains at least 1 geometry for which to find\n",
    "        agronomic norms. Grid cell is 9 km by 9 km,\n",
    "        the size used by aWhere to return data.\n",
    "        \n",
    "    start_d: string \n",
    "        Start of time period to collect values for, of format \"YYYY-MM-DD\".\n",
    "    \n",
    "    end_d: string \n",
    "        End of time period to collect values for, of format \"YYYY-MM-DD\".\n",
    "\n",
    "    Returns\n",
    "    -------\n",
    "    out_gdf: Geopandas GeoDataFrame\n",
    "        Contains original geometries and agronomic values for \n",
    "        specified time period.\n",
    "    \"\"\"\n",
    "    \n",
    "    # Create list to hold dicts, 1 for each row\n",
    "    all_rows = []\n",
    "\n",
    "    # Create columns in gdf\n",
    "    columns_to_add = [\"accum_precip\",\n",
    "                      \"accum_pet\",\n",
    "                      \"ppet\"]\n",
    "\n",
    "    # Add columns to gdf and set as NaN if they do not exist\n",
    "    for col in columns_to_add:\n",
    "        if col not in in_grid_gdf:\n",
    "            in_grid_gdf[col] = np.nan\n",
    "\n",
    "    print(\"Calling API for each cell...\")\n",
    "    # Iterate thru rows (cells) in gdf\n",
    "    for index, row in in_grid_gdf.iterrows():\n",
    "\n",
    "        # Get centroid coordinates from each cell to pass to API\n",
    "        lat = round(row.geometry.centroid.y, 5)\n",
    "        lon = round(row.geometry.centroid.x, 5)\n",
    "\n",
    "        # Get JSON using call_api function\n",
    "        ag_json = call_api(lat, lon, start_d, end_d, \"values\")\n",
    "\n",
    "        # Wrap in try since some cells might be in ocean and not have values\n",
    "        try:\n",
    "\n",
    "            # Get average accumulated precip\n",
    "            accum_precip = ag_json.get(\"accumulations\").get(\"precipitation\").get(\"amount\")\n",
    "\n",
    "            # Get average accumulated PET\n",
    "            accum_pet = ag_json.get(\"accumulations\").get(\"pet\").get(\"amount\")\n",
    "\n",
    "            # Find P/PET for time range\n",
    "            accum_ppet = accum_precip / accum_pet\n",
    "\n",
    "            # Append values to dict item for current year\n",
    "            year_dict = {\"accum_precip\": accum_precip,\n",
    "                         \"accum_pet\": accum_pet,\n",
    "                         \"accum_ppet\": accum_ppet,\n",
    "                         \"geometry\": row.geometry}\n",
    "            \n",
    "            # Append dict for current year to list to pass to Geopandas later\n",
    "            all_rows.append(year_dict)\n",
    "\n",
    "        except:\n",
    "            \n",
    "            # Append NaN to dict item for current year\n",
    "            year_dict = {\"accum_precip\": np.nan,\n",
    "                         \"accum_pet\": np.nan,\n",
    "                         \"accum_ppet\": np.nan,\n",
    "                         \"geometry\": row.geometry}\n",
    "            \n",
    "            # Append dict for current year to list to pass to Geopandas later\n",
    "            all_rows.append(year_dict)\n",
    "            \n",
    "    # Create GDF with original geometries and values\n",
    "    out_gdf = gpd.GeoDataFrame(data=all_rows, crs=\"EPSG:4326\")\n",
    "    \n",
    "    # Print progress message\n",
    "    print(\"Grid with agronomic values generated.\")\n",
    "\n",
    "    return out_gdf"
   ]
  },
  {
   "cell_type": "code",
   "execution_count": 9,
   "metadata": {
    "ExecuteTime": {
     "end_time": "2020-07-05T22:07:46.052063Z",
     "start_time": "2020-07-05T22:07:45.980942Z"
    },
    "tags": [
     "hide"
    ]
   },
   "outputs": [],
   "source": [
    "def to_convex_hull(gdf):\n",
    "    \"\"\"\n",
    "    Reads in a GeoDataFrame with a and returns a convex hull \n",
    "    over the largest contiguous areas that is less than or\n",
    "    equal to a threshold value. \n",
    "    \n",
    "    Parameters\n",
    "    ----------\n",
    "    gdf: Geopandas GeoDataFrame\n",
    "        Must contain a column named \"ppet_under_thresh\" that \n",
    "        equals 1 for values less than or equal to the threshold\n",
    "        and 0 for other values.\n",
    "        \n",
    "    Returns\n",
    "    -------\n",
    "    hull_largest_out: Geopandas GeoDataFrame\n",
    "        Contains 1 feature, where geometry equals\n",
    "        a convex hull.\n",
    "    \"\"\"\n",
    "    \n",
    "    # Drop all rows that do not meet threshold\n",
    "    under_thresh_gdf = gdf[gdf.ppet_under_thresh == 1]\n",
    "    \n",
    "    # Dissolve polygons that meet threshold\n",
    "    under_thresh_dissolve = under_thresh_gdf.dissolve(by=\"ppet_under_thresh\")\n",
    "    \n",
    "    # Explode polygons so that there are unique contiguous areas\n",
    "    exploded = under_thresh_dissolve.explode()\n",
    "\n",
    "    # Drop multi-index outer level generated from dissolve\n",
    "    exploded = exploded.droplevel(0)\n",
    "    \n",
    "    # Get largest polygon\n",
    "    largest = exploded[exploded.area == exploded.area.max()]\n",
    "    \n",
    "    # Generate convex hull\n",
    "    hull_largest = largest.convex_hull\n",
    "    \n",
    "    # Reset index so only item in gdf is in position [0]\n",
    "    hull_largest_out = hull_largest.reset_index(drop=True)\n",
    "    \n",
    "    return hull_largest_out"
   ]
  },
  {
   "cell_type": "code",
   "execution_count": 10,
   "metadata": {
    "ExecuteTime": {
     "end_time": "2020-07-05T22:07:46.140790Z",
     "start_time": "2020-07-05T22:07:46.061006Z"
    },
    "tags": [
     "hide"
    ]
   },
   "outputs": [],
   "source": [
    "def proportional_split(grid_gdf, hull_gdf, crs, ppet_col_name):\n",
    "    \"\"\"\n",
    "    Reads in gridded GeoDataFrame and returns average value of numerical\n",
    "    column argument. Used because convex hull may pass through cells that \n",
    "    do not meet threshold value, but the user still wishes to consider\n",
    "    their proportional impact on the overall value. Proportional split\n",
    "    equals the value for that cell multiplied by the % area that the\n",
    "    convex hull covers.\n",
    "    \n",
    "    Parameters\n",
    "    ----------\n",
    "    grid_gdf: Geopandas GeoDataFrame\n",
    "        Contains gridded cells and at least 1 column of values to\n",
    "        average.\n",
    "        \n",
    "    hull_gdf: Geopandas GeoDataFrame\n",
    "        Contains 1 feature, convex hull that intersects grid_gdf.\n",
    "        \n",
    "    crs: string or integer\n",
    "        Coordinate reference system (CRS) EPSG identifier. Used to \n",
    "        calculate areas in user's desired CRS so that units\n",
    "        may be specified.\n",
    "        \n",
    "    ppet_col_name: string\n",
    "        Name of column to find average values for.\n",
    "        \n",
    "    Returns\n",
    "    -------\n",
    "    avg_falue: float\n",
    "        Average value from proportional split for column of\n",
    "        interest (parameter \"ppet_col_name\").\n",
    "    \"\"\"\n",
    "    \n",
    "    grid_gdf = grid_gdf.to_crs(f\"EPSG:{crs}\")\n",
    "    \n",
    "    hull_gdf = hull_gdf.to_crs(f\"EPSG:{crs}\")\n",
    "    \n",
    "    # This is a list to more easily calculate avg (using sum then len)\n",
    "    interpolated_values = []\n",
    "    \n",
    "    # Loop thru cells in gdf\n",
    "    for index, row in grid_gdf.iterrows():\n",
    "        \n",
    "        if row.geometry.intersects(hull_gdf.geometry[0]):\n",
    "            \n",
    "            # Get intersection area\n",
    "            intersect_area = row.geometry.intersection(hull_gdf.geometry[0]).area\n",
    "            \n",
    "            # Find the proportional split of grid cell's value\n",
    "            proportional_value = (intersect_area / row.geometry.area) * row[ppet_col_name]\n",
    "            \n",
    "            # Append proportional value to the list\n",
    "            interpolated_values.append(proportional_value)\n",
    "    \n",
    "    # Find average value for hull\n",
    "    avg_value = round((sum(interpolated_values) / len(interpolated_values)), 3)\n",
    "    \n",
    "    # Find total droughted area\n",
    "    droughted_area = hull_gdf.geometry[0].area\n",
    "    \n",
    "    #print(f\"Average P/PET in droughted area: {avg_value}\")\n",
    "    \n",
    "    #print(f\"Total droughted area: {hull_gdf.geometry[0].area}\")\n",
    "\n",
    "    return avg_value"
   ]
  },
  {
   "cell_type": "code",
   "execution_count": 11,
   "metadata": {
    "ExecuteTime": {
     "end_time": "2020-07-05T22:07:46.220988Z",
     "start_time": "2020-07-05T22:07:46.152185Z"
    },
    "tags": [
     "hide"
    ]
   },
   "outputs": [],
   "source": [
    "\"\"\"Input values here\"\"\"\n",
    "\n",
    "# Last year to run query for\n",
    "query_year = 2019\n",
    "\n",
    "# How many years back to search\n",
    "num_years = 4\n",
    "\n",
    "# Start day of season to evaluate\n",
    "start_day = \"06-01\"\n",
    "\n",
    "# End day of season to evaluate\n",
    "end_day = \"10-30\"\n",
    "\n",
    "# Threshold P/PET value\n",
    "threshold = 0.5"
   ]
  },
  {
   "cell_type": "code",
   "execution_count": 12,
   "metadata": {
    "ExecuteTime": {
     "end_time": "2020-07-05T22:12:43.435907Z",
     "start_time": "2020-07-05T22:07:46.228965Z"
    }
   },
   "outputs": [
    {
     "name": "stdout",
     "output_type": "stream",
     "text": [
      "Calling API for each cell...\n",
      "Grid with agronomic values generated.\n",
      "Calling API for each cell...\n",
      "Grid with agronomic values generated.\n",
      "Calling API for each cell...\n",
      "Grid with agronomic values generated.\n",
      "Calling API for each cell...\n",
      "Grid with agronomic values generated.\n",
      "Calling API for each cell...\n",
      "Grid with agronomic values generated.\n",
      "Calling API for each cell...\n",
      "Grid with agronomic values generated.\n"
     ]
    }
   ],
   "source": [
    "# To hold unique GDFs for each time period\n",
    "#gdfs_list = []\n",
    "\n",
    "# To hold dicts for master GDF\n",
    "all_time_periods_rows = []\n",
    "\n",
    "# Calculate range of years including most recent\n",
    "years_range = list(np.arange((query_year - num_years), (query_year+1)))\n",
    "\n",
    "# Insert 0 as first position to trigger norms API call\n",
    "years_range.insert(0, 0)\n",
    "\n",
    "# Create grid (does not change with each iteration)\n",
    "aoi_grid, aoi = create_grid(study_area_path=path_to_aoi,\n",
    "                                        buffer_distance=0.1,\n",
    "                                        cell_size=0.08)\n",
    "\n",
    "for year in years_range:\n",
    "\n",
    "    # Get norms (when year = 0)\n",
    "    if year == 0:\n",
    "\n",
    "        year_gdf = get_norms(in_grid_gdf=aoi_grid,\n",
    "                             start_d=start_day,\n",
    "                             end_d=end_day)\n",
    "\n",
    "        ppet_col_name = 'avg_accum_ppet'\n",
    "\n",
    "    # Get actual/historical values\n",
    "    else:\n",
    "\n",
    "        start_d = f\"{year}-{start_day}\"\n",
    "\n",
    "        end_d = f\"{year}-{end_day}\"\n",
    "\n",
    "        year_gdf = get_vals(in_grid_gdf=aoi_grid,\n",
    "                            start_d=start_d,\n",
    "                            end_d=end_d)\n",
    "\n",
    "        ppet_col_name = 'accum_ppet'\n",
    "\n",
    "    year_gdf['ppet_under_thresh'] = year_gdf[ppet_col_name].apply(\n",
    "        lambda x: 1 if x <= threshold else 0)\n",
    "\n",
    "    # Generate convex hull\n",
    "    year_convex_hull_gdf = to_convex_hull(year_gdf)\n",
    "\n",
    "    # Proportional split (\"2992\" is CRS, \"Oregon Lambert\")\n",
    "    avg_value = proportional_split(grid_gdf=year_gdf,\n",
    "                                   hull_gdf=year_convex_hull_gdf,\n",
    "                                   crs=\"2992\",\n",
    "                                   ppet_col_name=ppet_col_name)\n",
    "\n",
    "    year_dict = {\"year\": [year],\n",
    "                 \"inferred_ppet\": [avg_value],\n",
    "                 \"geometry\": [year_convex_hull_gdf[0]]}\n",
    "\n",
    "    year_dict_for_master = {\"year\": year,\n",
    "                            \"inferred_ppet\": avg_value,\n",
    "                            \"geometry\": year_convex_hull_gdf[0]}\n",
    "\n",
    "    # Add this dict to list to create master GDF later\n",
    "    all_time_periods_rows.append(year_dict_for_master)\n",
    "\n",
    "    # Create GDF for this year\n",
    "    #year_gdf = gpd.GeoDataFrame(data=year_dict, crs=\"EPSG:4326\")\n",
    "\n",
    "    # Append GDF for this year to list to call later\n",
    "    #gdfs_list.append(year_gdf)\n",
    "\n",
    "# Create master GDF from all years\n",
    "master_gdf = gpd.GeoDataFrame(all_time_periods_rows, crs=\"EPSG:4326\")\n",
    "\n",
    "# Reindex master GDF\n",
    "master_gdf.set_index(master_gdf.year, inplace=True)"
   ]
  },
  {
   "cell_type": "markdown",
   "metadata": {},
   "source": [
    "### *Findings*\n",
    "\n",
    "---\n",
    "#### Overview\n",
    "This analysis uses P/PET to determine the extent of a droughted area. P/PET is a ratio that describes the amount of water that enters a system divided by the amount of water that leaves the system through evaporation and due to plants (transpiration). A ratio of 1 indicates that the amount of \"water in\" equals the amount of \"water out\". This study uses a value of 0.5 to indicate droughted conditions, meaning there is twice the amount of water leaving the area as there is water entering the area. Partner [aWhere](https://www.awhere.com/), a provider of comprehensive climate data and solutions, provides access to the data from which this value is calculated.\n",
    "\n",
    "Josephine County lies along Oregon's southern border with California. It was selected as a test county due to the fact that the U.S. Drought Monitor has classified a wide swath of the area as severly droughted in Summer 2020.\n",
    "![USDM](images/usdm_or_2020_06_30.png)"
   ]
  },
  {
   "cell_type": "markdown",
   "metadata": {},
   "source": [
    "#### \"Normal\" Droughted Area Exists in Eastern County\n",
    "The droughted area has changed relative to the \"normal\" droughted area. This area was derived from determining the average P/PET during the growing season from 2006 to 2019. Based on the average P/PET over these years, this area is the driest in the county year over year. This plot is useful to compare drought area to a hypothetical \"standard\"."
   ]
  },
  {
   "cell_type": "code",
   "execution_count": 13,
   "metadata": {
    "ExecuteTime": {
     "end_time": "2020-07-05T22:12:43.640366Z",
     "start_time": "2020-07-05T22:12:43.437906Z"
    },
    "tags": [
     "hide"
    ]
   },
   "outputs": [
    {
     "data": {
      "image/png": "[encoded data removed]",
      "text/plain": [
       "<Figure size 360x360 with 1 Axes>"
      ]
     },
     "metadata": {
      "needs_background": "light"
     },
     "output_type": "display_data"
    }
   ],
   "source": [
    "fig, norms = plt.subplots(figsize=(5,5))\n",
    "\n",
    "# Create title for entire plot set\n",
    "fig.suptitle(\"Drought Extent from P/PET Norms in Josephine County, OR\\n\"+\n",
    "            \"Growing Period (May 01 - Oct 31), 2006 to 2019\")\n",
    "\n",
    "# For norms plot\n",
    "master_gdf[:1].plot(ax=norms, color=\"none\", edgecolor='darkgreen', zorder=2)\n",
    "aoi.plot(ax=norms, color='yellowgreen')\n",
    "norms.text(0.6, 0.01, 'Source: aWhere', transform=norms.transAxes)\n",
    "norms.axis(\"off\")\n",
    "\n",
    "# For legend line\n",
    "extent_line = mlines.Line2D([], [], color='darkgreen', label='Drought Extent')\n",
    "county_patch = mpatches.Patch(color='yellowgreen', label='County')\n",
    "norms.legend(handles=[extent_line, county_patch], loc=('lower left'))\n",
    "\n",
    "\n",
    "plt.show()"
   ]
  },
  {
   "cell_type": "markdown",
   "metadata": {},
   "source": [
    "#### Spatial Extent Increase\n",
    "The area experiencing agricultural drought during the approximate growing season (May 01 to Oct 31) has increased in size from 2016 to 2019 to encompass most of Josephine County, Oregon."
   ]
  },
  {
   "cell_type": "code",
   "execution_count": 14,
   "metadata": {
    "ExecuteTime": {
     "end_time": "2020-07-05T22:12:44.119957Z",
     "start_time": "2020-07-05T22:12:43.643357Z"
    },
    "tags": [
     "hide"
    ]
   },
   "outputs": [
    {
     "data": {
      "image/png": "[encoded data removed]",
      "text/plain": [
       "<Figure size 720x360 with 2 Axes>"
      ]
     },
     "metadata": {
      "needs_background": "light"
     },
     "output_type": "display_data"
    }
   ],
   "source": [
    "\"\"\"For plots showing county and drought extent by area for years 2016 and 2019\"\"\"\n",
    "\n",
    "fig, (y_2016, y_2019) = plt.subplots(1, 2, figsize=(10,5))\n",
    "\n",
    "# Create title for entire plot set (2 plots)\n",
    "fig.suptitle(\"Drought Extent from P/PET in Josephine County, OR\\n\"+\n",
    "            \"(May 01 - Oct 31)\")\n",
    "\n",
    "\n",
    "# For legend line\n",
    "extent_line = mlines.Line2D([], [], color='darkgreen', label='Drought Extent')\n",
    "county_patch = mpatches.Patch(color='yellowgreen', label='County')\n",
    "y_2016.legend(handles=[extent_line, county_patch], loc=('lower left'))\n",
    "\n",
    "# For 2016 plot\n",
    "y_2016.set_title(\"2016\")\n",
    "master_gdf[2:3].plot(ax=y_2016, color=\"none\", edgecolor='darkgreen', zorder=2)\n",
    "aoi.plot(ax=y_2016, color='yellowgreen')\n",
    "y_2016.axis(\"off\")\n",
    "\n",
    "# For 2019 plot\n",
    "y_2019.set_title(\"2019\")\n",
    "master_gdf[5:6].plot(ax=y_2019, color=\"none\", edgecolor='darkgreen', zorder=2)\n",
    "aoi.plot(ax=y_2019, color='yellowgreen')\n",
    "y_2019.text(0.5, 0.01, 'Source: aWhere', transform=y_2019.transAxes)\n",
    "y_2019.axis(\"off\")\n",
    "\n",
    "plt.show()"
   ]
  },
  {
   "cell_type": "markdown",
   "metadata": {},
   "source": [
    "#### P/PET Values Descrease\n",
    "Josephine County has also experienced a downward trend of P/PET during the growing season since 2016. 2018 and 2019 both had values below the historical seasonal P/PET average."
   ]
  },
  {
   "cell_type": "code",
   "execution_count": 15,
   "metadata": {
    "ExecuteTime": {
     "end_time": "2020-07-05T22:12:44.320420Z",
     "start_time": "2020-07-05T22:12:44.122950Z"
    },
    "tags": [
     "hide"
    ]
   },
   "outputs": [
    {
     "data": {
      "image/png": "[encoded data removed]",
      "text/plain": [
       "<Figure size 432x288 with 1 Axes>"
      ]
     },
     "metadata": {
      "needs_background": "light"
     },
     "output_type": "display_data"
    }
   ],
   "source": [
    "\"\"\"For bar chart showing average P/PET values in growing season by year\"\"\"\n",
    "\n",
    "fig, ax = plt.subplots()\n",
    "\n",
    "ax.set(title=\"P/PET Values for Growing Season (May 1 to Oct 30)\\n\" +\n",
    "       \"Josephine County, OR, USA\",\n",
    "      ylabel=\"P/PET (mm)\")\n",
    "\n",
    "ax.bar(master_gdf[1:].index.values, master_gdf[1:].inferred_ppet,\n",
    "       color='cadetblue',\n",
    "       label=\"Average P/PET value\")\n",
    "\n",
    "# Plot historical norm\n",
    "ax.axhline(master_gdf[:1].inferred_ppet[0],\n",
    "           linestyle=\"--\",\n",
    "           color=\"gold\",\n",
    "           label='Historical norm, 2006-2019')\n",
    "\n",
    "ax.text(0.7, 0.1, 'Source: aWhere', transform=ax.transAxes)\n",
    "\n",
    "ax.legend()\n",
    "plt.show()"
   ]
  },
  {
   "cell_type": "markdown",
   "metadata": {},
   "source": [
    "### *Importance of Findings*\n",
    "\n",
    "---\n",
    "This study is important because it provides a **reproduicible workflow to quantify** the areas experiencing a particularly severe drought, **as defined by the user**. \n",
    "\n",
    "Josephine County has been experiencing severe drought since April 2020 according to the U.S. Drought Monitor. However, this source describes approximate areas affected, and the methods used to derive these areas are opaque. In fact, the U.S. Drought Monitor website itself does not recommend its use to infer specifics about local conditions.\n",
    "\n",
    "On the other hand, this study allows the user provide a custom time period and a custom drought definition to describe droughts; it is an alternative to the \"all-encompasing\" nature of U.S. Drought Tracker findings. Thus, the user may explore drought extent and severity according to variables based on their judgment of local conditions. For example, agronomists and farmers can use this script to inform crop placement and rotation using crop-specific values of P/PET. Foresters and land management agents can infer forest and land health. **In sum, climate data exploration is available to  stakeholders with introductory Python knowledge.**"
   ]
  },
  {
   "cell_type": "markdown",
   "metadata": {},
   "source": [
    "### *Methods*\n",
    "\n",
    "---\n",
    "\n",
    "The code that was used to reach these findings performs the following steps:\n",
    "\n",
    "1. Draws a grid over an area of interest. This is necessary since aWhere returns info for grid cells measuring about 9 km by 9 km. Project partner Cale Kochenour provided this script.\n",
    "2. Calls aWhere's servers to find precipitation and potential evapotranspiration values in each grid cell\n",
    "3. Calculates the P/PET for the growing season\n",
    "4. Draws a shape that covers the largest cluster of droughted cells (with a P/PET of 0.5 and lower)\n",
    "5. Finds average P/PET and area for this shape, taking into account the cells that are not entirely covered by the shape from step 4.\n",
    "\n",
    "This image shows the spatial outputs for 2019. Each grid cell that touches Josephine County contains P/PET values. The drought extent is represented as a polygon drawn around the entire county, since every grid cell in the county is lower than the P/PET threshold of 0.5. Because all cells that touch Josephine County are included, the droughted area may extend beyond the county's boundaries."
   ]
  },
  {
   "cell_type": "code",
   "execution_count": 16,
   "metadata": {
    "ExecuteTime": {
     "end_time": "2020-07-05T22:12:44.648544Z",
     "start_time": "2020-07-05T22:12:44.323414Z"
    },
    "scrolled": true,
    "tags": [
     "hide"
    ]
   },
   "outputs": [
    {
     "data": {
      "image/png": "[encoded data removed]",
      "text/plain": [
       "<Figure size 360x360 with 2 Axes>"
      ]
     },
     "metadata": {
      "needs_background": "light"
     },
     "output_type": "display_data"
    }
   ],
   "source": [
    "\"\"\"Create figure showing intermediate steps to illustrate workflow. \n",
    "For ease, show data from final iteration of loop.\"\"\"\n",
    "\n",
    "fig, ax = plt.subplots(figsize = (5,5))\n",
    "\n",
    "\n",
    "ax.set(title=\"Droughted Area by P/PET\\n\" + \n",
    "       \"Josephine County, Oregon\\n\" + \n",
    "       \"May 01 - Oct 31 2019\")\n",
    "\n",
    "# Plot county\n",
    "aoi.plot(color=\"none\", \n",
    "               edgecolor=\"black\", \n",
    "               ax=ax, \n",
    "               zorder=3)\n",
    "\n",
    "# Plot convex hull for most recent year\n",
    "master_gdf[-1:].plot(ax=ax, \n",
    "                     color=\"none\", \n",
    "                     edgecolor=\"red\", \n",
    "                     zorder=2)\n",
    "\n",
    "# Plot last GDF from loop above for most recent year\n",
    "year_gdf.plot(column='accum_ppet', \n",
    "              cmap='viridis_r', \n",
    "              ax=ax, \n",
    "              vmin=0.1, \n",
    "              vmax=1, \n",
    "              legend=True, \n",
    "              alpha=0.5,\n",
    "              legend_kwds={'label': \"P/PET\"})\n",
    "\n",
    "# Add legend items\n",
    "extent_line = mlines.Line2D([], [], color='red', label='Drought Extent')\n",
    "county_line = mpatches.Patch(color='black', label='County')\n",
    "ax.legend(handles=[extent_line, county_line], loc=('lower left'))\n",
    "\n",
    "# Turn off axis\n",
    "ax.axis(\"off\")\n",
    "\n",
    "plt.show()"
   ]
  },
  {
   "cell_type": "markdown",
   "metadata": {},
   "source": [
    "### *Discussion*\n",
    "\n",
    "---\n",
    "\n",
    "Droughts are difficult to define, let alone quantify. For this study, I chose **P/PET** as the indicator to indicate drought. P/PET is a measurement commonly used to determine aridity and water stress in plants. The \"P\" in \"P/PET\" stands for precipitation and \"PET\" stands for evapotranspiration - the movement of water from soil to the atmosphere. A value of close to 1 indicates that most of the water that has left a system has returned to recharge the groundwater in that system.\n",
    "\n",
    "\n",
    "![Surface Water Cycle](images/surface_water_cycle.png)\n",
    "\n",
    "_Image source: Source: Michael W. Toews_\n",
    "\n",
    "\n",
    "Threshold values of P/PET are as follows. At and below these values, evidence of water stress becomes apparent:\n",
    "\n",
    "| P/PET | What is affected| \n",
    "| ------|---------------|\n",
    "|  0.4  | Forests and rangeland | \n",
    "| 0.6 - 0.8 | Many crops | \n",
    "| 0.5 | This study | \n",
    "\n",
    "The area chosen was Josephine County, Oregon, a rural county that has been in the midst of a drought in April and May 2020 (according to the U.S. Drought Monitor).\n",
    "\n",
    "The time period chosen was the approximate growing season, May 1st to October 31st, for the years 2014 through 2019.\n",
    " \n",
    "#### Limitations of study\n",
    "\n",
    " - P/PET is a good measure for aridity and crop stress, not necesarily other types of drought.\n",
    " - The results are somewhat complex; the drought extent may extend beyond the area of interest.\n",
    " - Presence of irrigation systems complicates interpretation of results; crops may not be impacted in a droughted area due to irrigation systems. \n",
    "\n",
    "#### Future directions\n",
    "##### Statistical\n",
    "\n",
    " - Use zonal statistics to identify land use types and changes in droughted areas. \n",
    " - Use spatial statistics to determine probability of drought's extent being the result of randomness alone rather than shifts in weather patterns.\n",
    " \n",
    "##### Comparisons\n",
    "\n",
    " - Does P/PET change crop productivity? \n",
    " - What is the relationship of P/PET to fire risk and frequency?\n",
    " - How does P/PET compare to other indicators of drought?"
   ]
  },
  {
   "cell_type": "markdown",
   "metadata": {},
   "source": [
    "### *More on droughts and drought tracking*\n",
    "\n",
    "---\n",
    "\n",
    "My github repo containing code and other materials, including this blog post, is [available here](https://github.com/dphillips97/drought-tracker).\n",
    "\n",
    "I referenced the article \"An approach to characterize spatio-temporal drought dynamics\" in developing the main workflow of this project. This research team goes into depth in their approach to tracking drought centroids; the paper is available [from the publisher](https://www.sciencedirect.com/science/article/pii/S0309170819306542).\n",
    "\n",
    "The [U.S. Drought Monitor](https://droughtmonitor.unl.edu/) allowed me to easily see areas experiencing drought in the western U.S. The extents displayed on this website are generated from expert judgment of drought-related data.\n",
    "\n",
    "P/PET threshold values and the agronomics API ([*What is an API?*](https://www.freecodecamp.org/news/what-is-an-api-in-english-please-b880a3214a82/)) were provided by [aWhere](www.awhere.com)."
   ]
  }
 ],
 "metadata": {
  "celltoolbar": "Tags",
  "kernelspec": {
   "display_name": "Python 3",
   "language": "python",
   "name": "python3"
  },
  "language_info": {
   "codemirror_mode": {
    "name": "ipython",
    "version": 3
   },
   "file_extension": ".py",
   "mimetype": "text/x-python",
   "name": "python",
   "nbconvert_exporter": "python",
   "pygments_lexer": "ipython3",
   "version": "3.7.6"
  },
  "varInspector": {
   "cols": {
    "lenName": 16,
    "lenType": 16,
    "lenVar": 40
   },
   "kernels_config": {
    "python": {
     "delete_cmd_postfix": "",
     "delete_cmd_prefix": "del ",
     "library": "var_list.py",
     "varRefreshCmd": "print(var_dic_list())"
    },
    "r": {
     "delete_cmd_postfix": ") ",
     "delete_cmd_prefix": "rm(",
     "library": "var_list.r",
     "varRefreshCmd": "cat(var_dic_list()) "
    }
   },
   "types_to_exclude": [
    "module",
    "function",
    "builtin_function_or_method",
    "instance",
    "_Feature"
   ],
   "window_display": false
  }
 },
 "nbformat": 4,
 "nbformat_minor": 4
}
