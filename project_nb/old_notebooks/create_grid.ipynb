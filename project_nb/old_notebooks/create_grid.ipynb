{
 "cells": [
  {
   "cell_type": "code",
   "execution_count": 1,
   "metadata": {
    "ExecuteTime": {
     "end_time": "2020-05-21T15:21:11.762550Z",
     "start_time": "2020-05-21T15:20:48.962971Z"
    }
   },
   "outputs": [],
   "source": [
    "import os\n",
    "from pathlib import Path\n",
    "\n",
    "import numpy as np\n",
    "import matplotlib.pyplot as plt\n",
    "\n",
    "import geopandas as gpd\n",
    "from shapely.geometry import Point, Polygon"
   ]
  },
  {
   "cell_type": "code",
   "execution_count": 2,
   "metadata": {
    "ExecuteTime": {
     "end_time": "2020-05-21T15:21:12.635495Z",
     "start_time": "2020-05-21T15:21:11.774424Z"
    }
   },
   "outputs": [],
   "source": [
    "# Create path to home\n",
    "home = str(Path.home())\n",
    "\n",
    "# Create path to AoI shapefile\n",
    "path_to_aoi = os.path.join(home, \"Desktop\", \"drought-tracker\", \"data\", \"created\", \"aoi.shp\")\n",
    "\n",
    "# Load AoI into gpd\n",
    "aoi = gpd.read_file(path_to_aoi)"
   ]
  },
  {
   "cell_type": "code",
   "execution_count": 3,
   "metadata": {
    "ExecuteTime": {
     "end_time": "2020-05-21T15:21:15.084865Z",
     "start_time": "2020-05-21T15:21:12.647359Z"
    }
   },
   "outputs": [
    {
     "name": "stderr",
     "output_type": "stream",
     "text": [
      "C:\\Users\\dphil\\Miniconda3\\envs\\earth-analytics-python\\lib\\site-packages\\pyproj\\crs.py:77: FutureWarning: '+init=<authority>:<code>' syntax is deprecated. '<authority>:<code>' is the preferred initialization method.\n",
      "  return _prepare_from_string(\" \".join(pjargs))\n"
     ]
    }
   ],
   "source": [
    "# Create df with 1 county\n",
    "path_to_county = os.path.join(home, \"Desktop\", \"drought-tracker\", \"data\", \"TIGER\", \"cb_2018_us_county_500k.shp\")\n",
    "\n",
    "counties = gpd.read_file(path_to_county)\n",
    "\n",
    "county = counties.loc[counties.NAME == 'Siskiyou']\n",
    "\n",
    "county = county.to_crs('epsg:2019')"
   ]
  },
  {
   "cell_type": "code",
   "execution_count": 4,
   "metadata": {
    "ExecuteTime": {
     "end_time": "2020-05-21T15:21:17.057805Z",
     "start_time": "2020-05-21T15:21:15.095793Z"
    }
   },
   "outputs": [
    {
     "data": {
      "image/png": "[encoded data removed]",
      "text/plain": [
       "<Figure size 432x288 with 1 Axes>"
      ]
     },
     "metadata": {
      "needs_background": "light"
     },
     "output_type": "display_data"
    }
   ],
   "source": [
    "def create_awhere_grid(crs, aoi):\n",
    "    \"\"\"\n",
    "    Parameters\n",
    "    ----------\n",
    "    crs: numeric string\n",
    "        String of EPSG code for best CRS\n",
    "        CRS must have units of meters\n",
    "        \n",
    "        \n",
    "    aoi: Geopandas GeoDataFrame\n",
    "        One-element GeoDataFrame containing area over which\n",
    "        to draw grid\n",
    "        \n",
    "    Returns\n",
    "    -------\n",
    "    GeoDataFrame containing 9km x 9km cells\n",
    "    \"\"\"   \n",
    "    \n",
    "    # Reproject aoi to CRS using meters for aWhere grid cells\n",
    "    aoi = aoi.to_crs(f'epsg:{crs}')\n",
    "    \n",
    "    # Get x and y min and max from total boundaries\n",
    "    xmin, ymin, xmax, ymax = aoi.total_bounds\n",
    "    \n",
    "    # Set side of grid cell to 9 km\n",
    "    side = 9000\n",
    "    \n",
    "    # Create x values for x points for rows\n",
    "    x_range = np.arange(int(np.floor(xmin)), int(np.ceil(xmax)), side)\n",
    "    \n",
    "    # Create y values\n",
    "    y_range = np.arange(int(np.floor(ymin)), int(np.floor(ymax)), side)\n",
    "    \n",
    "    # Create empty list to hold grid cells\n",
    "    polygons = []\n",
    "    \n",
    "    for x in x_range:\n",
    "        for y in y_range:\n",
    "            polygons.append(Polygon([(x,y), (x+side, y), (x+side, y+side), (x,y+side)]))\n",
    "            \n",
    "    grid = gpd.GeoDataFrame({'geometry': polygons})\n",
    "    \n",
    "    grid.crs = f'EPSG:{crs}'\n",
    "    \n",
    "    return grid\n",
    "\n",
    "grid = create_awhere_grid('2019', county)\n",
    "\n",
    "# Create plot to check data\n",
    "fig, ax = plt.subplots()\n",
    "\n",
    "county.plot(alpha=0.2, ax=ax)\n",
    "\n",
    "grid.plot(color=\"none\", edgecolor=\"black\", linewidth = 0.1, ax=ax)\n",
    "\n",
    "plt.show()"
   ]
  },
  {
   "cell_type": "code",
   "execution_count": 7,
   "metadata": {
    "ExecuteTime": {
     "end_time": "2020-05-21T15:36:54.099653Z",
     "start_time": "2020-05-21T15:36:54.078711Z"
    }
   },
   "outputs": [],
   "source": [
    "# Create centroid\n",
    "grid['centroid'] = grid.geometry.apply(lambda poly: poly.centroid)"
   ]
  },
  {
   "cell_type": "code",
   "execution_count": 8,
   "metadata": {
    "ExecuteTime": {
     "end_time": "2020-05-21T15:36:55.075206Z",
     "start_time": "2020-05-21T15:36:54.849822Z"
    }
   },
   "outputs": [],
   "source": [
    "# Pass each centroid to aWhere API\n",
    "for index, row in grid.iterrows():\n",
    "    centroid_x = row.centroid.x\n",
    "    centroid_y = row.centroid.y"
   ]
  },
  {
   "cell_type": "code",
   "execution_count": null,
   "metadata": {},
   "outputs": [],
   "source": []
  }
 ],
 "metadata": {
  "kernelspec": {
   "display_name": "Python 3",
   "language": "python",
   "name": "python3"
  },
  "language_info": {
   "codemirror_mode": {
    "name": "ipython",
    "version": 3
   },
   "file_extension": ".py",
   "mimetype": "text/x-python",
   "name": "python",
   "nbconvert_exporter": "python",
   "pygments_lexer": "ipython3",
   "version": "3.7.6"
  },
  "varInspector": {
   "cols": {
    "lenName": 16,
    "lenType": 16,
    "lenVar": 40
   },
   "kernels_config": {
    "python": {
     "delete_cmd_postfix": "",
     "delete_cmd_prefix": "del ",
     "library": "var_list.py",
     "varRefreshCmd": "print(var_dic_list())"
    },
    "r": {
     "delete_cmd_postfix": ") ",
     "delete_cmd_prefix": "rm(",
     "library": "var_list.r",
     "varRefreshCmd": "cat(var_dic_list()) "
    }
   },
   "types_to_exclude": [
    "module",
    "function",
    "builtin_function_or_method",
    "instance",
    "_Feature"
   ],
   "window_display": false
  }
 },
 "nbformat": 4,
 "nbformat_minor": 4
}
