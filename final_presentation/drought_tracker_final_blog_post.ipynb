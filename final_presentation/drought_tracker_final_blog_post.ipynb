{
 "cells": [
  {
   "cell_type": "markdown",
   "metadata": {},
   "source": [
    "## The \"Where\" of Dry\n",
    "### *Spatiotemporal Tracking of Agricultural Droughts*\n",
    "\n",
    "Drew Phillips, Earth Data Analytics Applications Summer 2020"
   ]
  },
  {
   "cell_type": "markdown",
   "metadata": {},
   "source": [
    "### *What did I find?*\n",
    "\n",
    "---\n",
    "The area experiencing agricultural drought has increased in size from 2016 to 2019 to encompass most of Josephine County, Oregon.\n",
    "\n",
    "![Drought extent](images/josephine_final.png)\n",
    "\n",
    "How are we affected by droughts? For many of us, droughts manifest in countywide wildfire bans, or instructions to leave our pools unfilled. In industrialized countries, however, we are spared many of the catastrophic downstream effects of droughts including impacts on public health and the economy.\n",
    "\n",
    "The [U.S. Drought Monitor](https://droughtmonitor.unl.edu/) produces daily maps of the spatial extent and severity of droughts in the United States. However, the boundaries are somewhat arbitrary.\n",
    "\n",
    "With these issues in mind, I chose this project to answer the following question.\n",
    "> How can we accurately describe the spatial extent of a droughted region to on a local scale?\n",
    "\n",
    "\n"
   ]
  },
  {
   "cell_type": "markdown",
   "metadata": {},
   "source": [
    "### *Why does this finding matter?*\n",
    "\n",
    "---\n",
    "\n"
   ]
  },
  {
   "cell_type": "markdown",
   "metadata": {},
   "source": [
    "### *How did I reach this finding?*\n",
    "\n",
    "---\n",
    "\n",
    "The code I wrote:\n",
    "1. Draws a grid over a county (necessary since aWhere returns info for grid cells measuring about 9 km by 9 km)\n",
    "2. Calls [aWhere's servers](https://www.awhere.com/) to find precipitation and potential evapotranspiration values in each grid cell\n",
    "3. Calculates the P/PET for the growing season\n",
    "4. Draws a shape around the largest cluster of cells with a P/PET of 0.5 and lower\n",
    "5. Finds average P/PET and area for this shape\n",
    "\n",
    "This image shows the spatial outputs of my code for 2019. Each grid cell that touches Josephine County \n",
    "contains P/PET values. The drought extent is represented as a polygon drawn around the entire county, since every grid cell in the county is lower than the P/PET threshold of 0.5.\n",
    "\n",
    "![Workflow example](/images/workflow_example.png)\n",
    "\n"
   ]
  },
  {
   "cell_type": "markdown",
   "metadata": {},
   "source": [
    "### *Discussion*\n",
    "\n",
    "---\n",
    "\n",
    "#### Main findings\n",
    "\n",
    "Droughts are difficult to define, let alone quantify. For this study, I chose **P/PET** as the indicator to indicate drought. P/PET is a measurement commonly used to determine aridity and water stress in plants. The \"P\" in \"P/PET\" refers to amount of precipitation and the \"PET\" refers to evapotranspiration - the movement of water from soil to the atmosphere. A value of close to 1 indicates that most of the water that has left a system has returned to recharge the groundwater in that system.\n",
    "\n",
    "![Source: Michael W. Toews](/images/surface_water_cycle.png)\n",
    "\n",
    "\n",
    "Threshold values of P/PET are as follows. At and below these values, evidence of water stress becomes apparent:\n",
    "\n",
    "| P/PET | What is affected| \n",
    "| ------|---------------|\n",
    "|  0.4  | Forests and rangeland | \n",
    "| 0.6 - 0.8 | Many crops | \n",
    "| 0.5 | This study | \n",
    "\n",
    "The area chosen was Josephine County, Oregon, a rural county that experiences cyclical severe droughts. I used the U.S. Drought Monitor to identify counties that were in the midst of a drought in April and May 2020.\n",
    "\n",
    "The time period chosen was the approximate growing season, May 1st to October 31st, for the years 2014 through 2019.\n",
    " \n",
    "#### Limitations of study\n",
    " 1. P/PET is a good measure for aridity and crop stress, not necesarily other types of drought. \n",
    "\n",
    "#### Future directions\n",
    "##### Statistical\n",
    "\n",
    " - Use zonal statistics to identify land use types and changes in droughted areas\n",
    " - Use spatial statistics to determine likelihood of drought's extent\n",
    " \n",
    "##### Comparisons\n",
    "\n",
    " - How does P/PET change with crop productivity ?\n",
    " - What is the relationship of P/PET to fire risk and frequency?"
   ]
  },
  {
   "cell_type": "markdown",
   "metadata": {},
   "source": [
    "### *More on droughts and drought tracking*\n",
    "\n",
    "---\n",
    "\n",
    "My github repo containing code and other materials, including this blog post, is [available here](https://github.com/dphillips97/drought-tracker).\n",
    "\n",
    "I referenced the article \"An approach to characterize spatio-temporal drought dynamics\" in developing the main workflow of this project. This research team goes into depth in their approach to tracking drought centroids; the paper is available [from the publisher](https://www.sciencedirect.com/science/article/pii/S0309170819306542).\n",
    "\n",
    "The [U.S. Drought Monitor](https://droughtmonitor.unl.edu/) allowed me to easily see areas experiencing drought in the western U.S. The extents displayed on this website are generated from expert judgment of drought-related data.\n",
    "\n",
    "P/PET threshold values and the agronomics API ([*What is an API?*](https://www.freecodecamp.org/news/what-is-an-api-in-english-please-b880a3214a82/)) were provided by [aWhere](www.awhere.com)"
   ]
  },
  {
   "cell_type": "code",
   "execution_count": null,
   "metadata": {},
   "outputs": [],
   "source": []
  }
 ],
 "metadata": {
  "kernelspec": {
   "display_name": "Python 3",
   "language": "python",
   "name": "python3"
  },
  "language_info": {
   "codemirror_mode": {
    "name": "ipython",
    "version": 3
   },
   "file_extension": ".py",
   "mimetype": "text/x-python",
   "name": "python",
   "nbconvert_exporter": "python",
   "pygments_lexer": "ipython3",
   "version": "3.7.6"
  },
  "varInspector": {
   "cols": {
    "lenName": 16,
    "lenType": 16,
    "lenVar": 40
   },
   "kernels_config": {
    "python": {
     "delete_cmd_postfix": "",
     "delete_cmd_prefix": "del ",
     "library": "var_list.py",
     "varRefreshCmd": "print(var_dic_list())"
    },
    "r": {
     "delete_cmd_postfix": ") ",
     "delete_cmd_prefix": "rm(",
     "library": "var_list.r",
     "varRefreshCmd": "cat(var_dic_list()) "
    }
   },
   "types_to_exclude": [
    "module",
    "function",
    "builtin_function_or_method",
    "instance",
    "_Feature"
   ],
   "window_display": false
  }
 },
 "nbformat": 4,
 "nbformat_minor": 4
}
