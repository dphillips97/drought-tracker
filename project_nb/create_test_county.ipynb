{
 "cells": [
  {
   "cell_type": "code",
   "execution_count": 1,
   "metadata": {
    "ExecuteTime": {
     "end_time": "2020-06-19T19:55:19.498216Z",
     "start_time": "2020-06-19T19:55:08.510001Z"
    }
   },
   "outputs": [],
   "source": [
    "import os\n",
    "from pathlib import Path\n",
    "\n",
    "import numpy as np\n",
    "import geopandas as gpd"
   ]
  },
  {
   "cell_type": "code",
   "execution_count": 2,
   "metadata": {
    "ExecuteTime": {
     "end_time": "2020-06-19T19:55:20.636790Z",
     "start_time": "2020-06-19T19:55:19.564924Z"
    },
    "scrolled": true
   },
   "outputs": [],
   "source": [
    "# Create home path\n",
    "home = str(Path.home())\n",
    "\n",
    "# Path to all counties\n",
    "counties_path = os.path.join(home, \"Desktop\", \"drought-tracker\", \"data\", \"TIGER\", \"cb_2018_us_county_500k.shp\")\n",
    "\n",
    "# Load shp to gdf\n",
    "counties = gpd.read_file(counties_path)"
   ]
  },
  {
   "cell_type": "code",
   "execution_count": 5,
   "metadata": {
    "ExecuteTime": {
     "end_time": "2020-06-19T19:56:12.807647Z",
     "start_time": "2020-06-19T19:56:12.282578Z"
    }
   },
   "outputs": [
    {
     "name": "stderr",
     "output_type": "stream",
     "text": [
      "C:\\Users\\dphil\\Miniconda3\\envs\\earth-analytics-python\\lib\\site-packages\\pyproj\\crs.py:77: FutureWarning: '+init=<authority>:<code>' syntax is deprecated. '<authority>:<code>' is the preferred initialization method.\n",
      "  return _prepare_from_string(\" \".join(pjargs))\n"
     ]
    }
   ],
   "source": [
    "# Select counties from desired state\n",
    "ca_counties = counties[counties.STATEFP == '41']\n",
    "\n",
    "# Project into UTM\n",
    "ca_counties = ca_counties.to_crs(\"epsg:2019\")\n",
    "\n",
    "# Calculate area of each county\n",
    "ca_counties['a'] = ca_counties.area"
   ]
  },
  {
   "cell_type": "code",
   "execution_count": 6,
   "metadata": {
    "ExecuteTime": {
     "end_time": "2020-06-19T19:56:15.983188Z",
     "start_time": "2020-06-19T19:56:15.919359Z"
    }
   },
   "outputs": [
    {
     "data": {
      "text/html": [
       "<div>\n",
       "<style scoped>\n",
       "    .dataframe tbody tr th:only-of-type {\n",
       "        vertical-align: middle;\n",
       "    }\n",
       "\n",
       "    .dataframe tbody tr th {\n",
       "        vertical-align: top;\n",
       "    }\n",
       "\n",
       "    .dataframe thead th {\n",
       "        text-align: right;\n",
       "    }\n",
       "</style>\n",
       "<table border=\"1\" class=\"dataframe\">\n",
       "  <thead>\n",
       "    <tr style=\"text-align: right;\">\n",
       "      <th></th>\n",
       "      <th>STATEFP</th>\n",
       "      <th>COUNTYFP</th>\n",
       "      <th>COUNTYNS</th>\n",
       "      <th>AFFGEOID</th>\n",
       "      <th>GEOID</th>\n",
       "      <th>NAME</th>\n",
       "      <th>LSAD</th>\n",
       "      <th>ALAND</th>\n",
       "      <th>AWATER</th>\n",
       "      <th>geometry</th>\n",
       "      <th>a</th>\n",
       "    </tr>\n",
       "  </thead>\n",
       "  <tbody>\n",
       "    <tr>\n",
       "      <th>235</th>\n",
       "      <td>41</td>\n",
       "      <td>051</td>\n",
       "      <td>01135861</td>\n",
       "      <td>0500000US41051</td>\n",
       "      <td>41051</td>\n",
       "      <td>Multnomah</td>\n",
       "      <td>06</td>\n",
       "      <td>1116558776</td>\n",
       "      <td>88222268</td>\n",
       "      <td>POLYGON ((-3039648.997 6060267.344, -3039109.9...</td>\n",
       "      <td>1.560556e+09</td>\n",
       "    </tr>\n",
       "    <tr>\n",
       "      <th>1534</th>\n",
       "      <td>41</td>\n",
       "      <td>027</td>\n",
       "      <td>01155131</td>\n",
       "      <td>0500000US41027</td>\n",
       "      <td>41027</td>\n",
       "      <td>Hood River</td>\n",
       "      <td>06</td>\n",
       "      <td>1352203431</td>\n",
       "      <td>29040464</td>\n",
       "      <td>POLYGON ((-2966880.508 6008494.220, -2965501.0...</td>\n",
       "      <td>1.774382e+09</td>\n",
       "    </tr>\n",
       "    <tr>\n",
       "      <th>2318</th>\n",
       "      <td>41</td>\n",
       "      <td>009</td>\n",
       "      <td>01135847</td>\n",
       "      <td>0500000US41009</td>\n",
       "      <td>41009</td>\n",
       "      <td>Columbia</td>\n",
       "      <td>06</td>\n",
       "      <td>1704508134</td>\n",
       "      <td>79930444</td>\n",
       "      <td>POLYGON ((-3043835.929 6122670.214, -3042994.4...</td>\n",
       "      <td>2.317794e+09</td>\n",
       "    </tr>\n",
       "    <tr>\n",
       "      <th>1121</th>\n",
       "      <td>41</td>\n",
       "      <td>003</td>\n",
       "      <td>01155126</td>\n",
       "      <td>0500000US41003</td>\n",
       "      <td>41003</td>\n",
       "      <td>Benton</td>\n",
       "      <td>06</td>\n",
       "      <td>1748712549</td>\n",
       "      <td>7740248</td>\n",
       "      <td>POLYGON ((-3201169.189 5965629.804, -3198126.6...</td>\n",
       "      <td>2.327275e+09</td>\n",
       "    </tr>\n",
       "    <tr>\n",
       "      <th>2775</th>\n",
       "      <td>41</td>\n",
       "      <td>071</td>\n",
       "      <td>01135866</td>\n",
       "      <td>0500000US41071</td>\n",
       "      <td>41071</td>\n",
       "      <td>Yamhill</td>\n",
       "      <td>06</td>\n",
       "      <td>1854169188</td>\n",
       "      <td>6491759</td>\n",
       "      <td>POLYGON ((-3139165.823 6050718.821, -3138612.9...</td>\n",
       "      <td>2.440934e+09</td>\n",
       "    </tr>\n",
       "    <tr>\n",
       "      <th>3165</th>\n",
       "      <td>41</td>\n",
       "      <td>067</td>\n",
       "      <td>01155137</td>\n",
       "      <td>0500000US41067</td>\n",
       "      <td>41067</td>\n",
       "      <td>Washington</td>\n",
       "      <td>06</td>\n",
       "      <td>1875846777</td>\n",
       "      <td>6127010</td>\n",
       "      <td>POLYGON ((-3096668.038 6064785.406, -3095068.1...</td>\n",
       "      <td>2.455014e+09</td>\n",
       "    </tr>\n",
       "    <tr>\n",
       "      <th>2644</th>\n",
       "      <td>41</td>\n",
       "      <td>053</td>\n",
       "      <td>01135862</td>\n",
       "      <td>0500000US41053</td>\n",
       "      <td>41053</td>\n",
       "      <td>Polk</td>\n",
       "      <td>06</td>\n",
       "      <td>1918983329</td>\n",
       "      <td>8153115</td>\n",
       "      <td>POLYGON ((-3143544.124 6034729.993, -3141216.6...</td>\n",
       "      <td>2.540262e+09</td>\n",
       "    </tr>\n",
       "    <tr>\n",
       "      <th>236</th>\n",
       "      <td>41</td>\n",
       "      <td>055</td>\n",
       "      <td>01135863</td>\n",
       "      <td>0500000US41055</td>\n",
       "      <td>41055</td>\n",
       "      <td>Sherman</td>\n",
       "      <td>06</td>\n",
       "      <td>2133151636</td>\n",
       "      <td>19617472</td>\n",
       "      <td>POLYGON ((-2925192.928 5927400.201, -2924623.6...</td>\n",
       "      <td>2.738597e+09</td>\n",
       "    </tr>\n",
       "    <tr>\n",
       "      <th>708</th>\n",
       "      <td>41</td>\n",
       "      <td>007</td>\n",
       "      <td>01135846</td>\n",
       "      <td>0500000US41007</td>\n",
       "      <td>41007</td>\n",
       "      <td>Clatsop</td>\n",
       "      <td>06</td>\n",
       "      <td>2144880465</td>\n",
       "      <td>661621020</td>\n",
       "      <td>MULTIPOLYGON (((-3046648.403 6154457.222, -304...</td>\n",
       "      <td>2.886691e+09</td>\n",
       "    </tr>\n",
       "    <tr>\n",
       "      <th>2623</th>\n",
       "      <td>41</td>\n",
       "      <td>041</td>\n",
       "      <td>01135856</td>\n",
       "      <td>0500000US41041</td>\n",
       "      <td>41041</td>\n",
       "      <td>Lincoln</td>\n",
       "      <td>06</td>\n",
       "      <td>2539222440</td>\n",
       "      <td>554656148</td>\n",
       "      <td>POLYGON ((-3227749.892 5975344.706, -3227563.4...</td>\n",
       "      <td>3.419896e+09</td>\n",
       "    </tr>\n",
       "  </tbody>\n",
       "</table>\n",
       "</div>"
      ],
      "text/plain": [
       "     STATEFP COUNTYFP  COUNTYNS        AFFGEOID  GEOID        NAME LSAD  \\\n",
       "235       41      051  01135861  0500000US41051  41051   Multnomah   06   \n",
       "1534      41      027  01155131  0500000US41027  41027  Hood River   06   \n",
       "2318      41      009  01135847  0500000US41009  41009    Columbia   06   \n",
       "1121      41      003  01155126  0500000US41003  41003      Benton   06   \n",
       "2775      41      071  01135866  0500000US41071  41071     Yamhill   06   \n",
       "3165      41      067  01155137  0500000US41067  41067  Washington   06   \n",
       "2644      41      053  01135862  0500000US41053  41053        Polk   06   \n",
       "236       41      055  01135863  0500000US41055  41055     Sherman   06   \n",
       "708       41      007  01135846  0500000US41007  41007     Clatsop   06   \n",
       "2623      41      041  01135856  0500000US41041  41041     Lincoln   06   \n",
       "\n",
       "           ALAND     AWATER  \\\n",
       "235   1116558776   88222268   \n",
       "1534  1352203431   29040464   \n",
       "2318  1704508134   79930444   \n",
       "1121  1748712549    7740248   \n",
       "2775  1854169188    6491759   \n",
       "3165  1875846777    6127010   \n",
       "2644  1918983329    8153115   \n",
       "236   2133151636   19617472   \n",
       "708   2144880465  661621020   \n",
       "2623  2539222440  554656148   \n",
       "\n",
       "                                               geometry             a  \n",
       "235   POLYGON ((-3039648.997 6060267.344, -3039109.9...  1.560556e+09  \n",
       "1534  POLYGON ((-2966880.508 6008494.220, -2965501.0...  1.774382e+09  \n",
       "2318  POLYGON ((-3043835.929 6122670.214, -3042994.4...  2.317794e+09  \n",
       "1121  POLYGON ((-3201169.189 5965629.804, -3198126.6...  2.327275e+09  \n",
       "2775  POLYGON ((-3139165.823 6050718.821, -3138612.9...  2.440934e+09  \n",
       "3165  POLYGON ((-3096668.038 6064785.406, -3095068.1...  2.455014e+09  \n",
       "2644  POLYGON ((-3143544.124 6034729.993, -3141216.6...  2.540262e+09  \n",
       "236   POLYGON ((-2925192.928 5927400.201, -2924623.6...  2.738597e+09  \n",
       "708   MULTIPOLYGON (((-3046648.403 6154457.222, -304...  2.886691e+09  \n",
       "2623  POLYGON ((-3227749.892 5975344.706, -3227563.4...  3.419896e+09  "
      ]
     },
     "execution_count": 6,
     "metadata": {},
     "output_type": "execute_result"
    }
   ],
   "source": [
    "# See which counties have small areas\n",
    "ca_counties.sort_values(by=\"ALAND\", ascending=True).head(10)"
   ]
  },
  {
   "cell_type": "code",
   "execution_count": 7,
   "metadata": {
    "ExecuteTime": {
     "end_time": "2020-06-19T19:56:52.732751Z",
     "start_time": "2020-06-19T19:56:52.702766Z"
    }
   },
   "outputs": [
    {
     "data": {
      "text/html": [
       "<div>\n",
       "<style scoped>\n",
       "    .dataframe tbody tr th:only-of-type {\n",
       "        vertical-align: middle;\n",
       "    }\n",
       "\n",
       "    .dataframe tbody tr th {\n",
       "        vertical-align: top;\n",
       "    }\n",
       "\n",
       "    .dataframe thead th {\n",
       "        text-align: right;\n",
       "    }\n",
       "</style>\n",
       "<table border=\"1\" class=\"dataframe\">\n",
       "  <thead>\n",
       "    <tr style=\"text-align: right;\">\n",
       "      <th></th>\n",
       "      <th>STATEFP</th>\n",
       "      <th>COUNTYFP</th>\n",
       "      <th>COUNTYNS</th>\n",
       "      <th>AFFGEOID</th>\n",
       "      <th>GEOID</th>\n",
       "      <th>NAME</th>\n",
       "      <th>LSAD</th>\n",
       "      <th>ALAND</th>\n",
       "      <th>AWATER</th>\n",
       "      <th>geometry</th>\n",
       "      <th>a</th>\n",
       "    </tr>\n",
       "  </thead>\n",
       "  <tbody>\n",
       "    <tr>\n",
       "      <th>231</th>\n",
       "      <td>41</td>\n",
       "      <td>033</td>\n",
       "      <td>01155133</td>\n",
       "      <td>0500000US41033</td>\n",
       "      <td>41033</td>\n",
       "      <td>Josephine</td>\n",
       "      <td>06</td>\n",
       "      <td>4244083284</td>\n",
       "      <td>5629241</td>\n",
       "      <td>POLYGON ((-3359929.080 5768003.415, -3359592.2...</td>\n",
       "      <td>5.776162e+09</td>\n",
       "    </tr>\n",
       "  </tbody>\n",
       "</table>\n",
       "</div>"
      ],
      "text/plain": [
       "    STATEFP COUNTYFP  COUNTYNS        AFFGEOID  GEOID       NAME LSAD  \\\n",
       "231      41      033  01155133  0500000US41033  41033  Josephine   06   \n",
       "\n",
       "          ALAND   AWATER                                           geometry  \\\n",
       "231  4244083284  5629241  POLYGON ((-3359929.080 5768003.415, -3359592.2...   \n",
       "\n",
       "                a  \n",
       "231  5.776162e+09  "
      ]
     },
     "execution_count": 7,
     "metadata": {},
     "output_type": "execute_result"
    }
   ],
   "source": [
    "# Select Josephine county\n",
    "josephine = ca_counties.loc[ca_counties.NAME == \"Josephine\"]\n",
    "josephine"
   ]
  },
  {
   "cell_type": "code",
   "execution_count": 8,
   "metadata": {
    "ExecuteTime": {
     "end_time": "2020-06-19T19:57:15.086522Z",
     "start_time": "2020-06-19T19:57:14.399807Z"
    }
   },
   "outputs": [],
   "source": [
    "# Export to geojson\n",
    "josephine_out_path = os.path.join(home, \"Desktop\", \"drought-tracker\", \"data\", \"TIGER\", \"josephine.geojson\")\n",
    "\n",
    "josephine.to_file(josephine_out_path, driver=\"GeoJSON\")"
   ]
  },
  {
   "cell_type": "code",
   "execution_count": null,
   "metadata": {},
   "outputs": [],
   "source": []
  }
 ],
 "metadata": {
  "kernelspec": {
   "display_name": "Python 3",
   "language": "python",
   "name": "python3"
  },
  "language_info": {
   "codemirror_mode": {
    "name": "ipython",
    "version": 3
   },
   "file_extension": ".py",
   "mimetype": "text/x-python",
   "name": "python",
   "nbconvert_exporter": "python",
   "pygments_lexer": "ipython3",
   "version": "3.7.6"
  },
  "varInspector": {
   "cols": {
    "lenName": 16,
    "lenType": 16,
    "lenVar": 40
   },
   "kernels_config": {
    "python": {
     "delete_cmd_postfix": "",
     "delete_cmd_prefix": "del ",
     "library": "var_list.py",
     "varRefreshCmd": "print(var_dic_list())"
    },
    "r": {
     "delete_cmd_postfix": ") ",
     "delete_cmd_prefix": "rm(",
     "library": "var_list.r",
     "varRefreshCmd": "cat(var_dic_list()) "
    }
   },
   "types_to_exclude": [
    "module",
    "function",
    "builtin_function_or_method",
    "instance",
    "_Feature"
   ],
   "window_display": false
  }
 },
 "nbformat": 4,
 "nbformat_minor": 4
}
