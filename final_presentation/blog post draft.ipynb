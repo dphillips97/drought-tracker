{
 "cells": [
  {
   "cell_type": "markdown",
   "metadata": {},
   "source": [
    "## The \"Where\" of Recurring Droughts\n",
    "### *Time Evolution of Spatial Drought Signature*\n",
    "\n",
    "Drew Phillips, Earth Data Analytics Student, Summer 2020"
   ]
  },
  {
   "cell_type": "markdown",
   "metadata": {},
   "source": [
    "### *What did I find?*\n",
    "\n",
    "---\n",
    "(Image to be updated)\n",
    "Fig. 1. Agricultural drought centroid movements in Josephine County, Oregon,\n",
    "from May 1 to October 31, 2014 - 2019.\n",
    "\n",
    "![josephine](sample_tracking_josephine_county.png) \n",
    "\n",
    "(Image to be updated)\n",
    "Fig. 2. Accumulated P/PET values, summer 2019, Josephine County, OR\n",
    "![ppet_summer_2019](sample_ppet_values_josephine.png)\n",
    "\n",
    "P/PET is a measurement commonly used to determine aridity and stress in plants. The \"P\" in \"P/PET\" refers to the amount of precipitation and the \"PET\" refers to evapotranspiration - the movement of water from soil to the atmosphere. This study used a P/PET value of 0.8, a baseline value for water stress in many crops. Over the time period assayed, this translates to an accumulated P/PET of 120 or lower. The centroid of the drought in this area has moved westward from 2014 - 2019. There was no agricultural drought detected in 2017.\n",
    "\n",
    "(This section will be added to when findings are analyzed; dependent of investigation of other time periods and outer areas. Will include why this period was chosen, (in brief: \"fire season\"), a directional change and other related statistical summary, and will show drought movements overlaid with cropland and forests)"
   ]
  },
  {
   "cell_type": "markdown",
   "metadata": {},
   "source": [
    "### *Why does this finding matter?*\n",
    "\n",
    "---\n",
    "\n",
    "1. Droughts are inconsistently defined and their impact is often described as a country- or statewide phenomenon.\n",
    "2. This project allows decisionmakers to see the extent of droughted areas on a local level, overlaid with points of interest such as wildfires, forested areas, and croplands.\n",
    "3. (To be filled in when findings are more developed. Want to show migration of drought (or lack thereof) to indicate some actions that can be taken. For example, agricultural technicians may want to know which areas should be prioritized for planting of drought-resistant crops).\n"
   ]
  },
  {
   "cell_type": "markdown",
   "metadata": {},
   "source": [
    "### *How did I reach this finding?*\n",
    "\n",
    "---\n",
    "\n",
    "Broadly, I wrote code that drew lines between droughted areas from year to year. By looking at this pattern we can tell how a drought migrates. If you want to see each step, here is the flowchart I used to reach my findings.\n",
    "\n",
    "![Project flowchart](drought_tracker_simplified.png)\n"
   ]
  },
  {
   "cell_type": "markdown",
   "metadata": {},
   "source": [
    "### *Discussion*\n",
    "\n",
    "---\n",
    "\n",
    "#### Main findings\n",
    " (To be filled in with findings of study area and chronically droughted areas in Africa. Findings will include extent, movement, and average inferred P/PET of droughted area).  \n",
    " \n",
    "#### Limitations of study\n",
    " - convex hull depends on spatial extent\n",
    " - P/PET is a good measure for aridity and crop stress, not necesarily other types of drought\n",
    "\n",
    "#### Future directions\n",
    " - add other indicators: \n",
    "  - rainfall z-score\n",
    "  - PET z-score (EDDI)\n",
    " - help user decide on time period to assay\n",
    " - discuss implications with stakeholders (farmers, forest management profressionals) to determine useful future directions\n",
    " - use additional method of outlining droughted area beyond convex hull"
   ]
  },
  {
   "cell_type": "markdown",
   "metadata": {},
   "source": [
    "### *More on droughts and drought tracking*\n",
    "\n",
    "---\n",
    "\n",
    "My github repo containing code and other materials, including this blog post, is [available here](https://github.com/dphillips97/drought-tracker).\n",
    "\n",
    "I referenced the article \"An approach to characterize spatio-temporal drought dynamics\" in developing the main workflow of this project. This research team goes into depth in their approach to tracking drought centroids; the paper is available [from the publisher](https://www.sciencedirect.com/science/article/pii/S0309170819306542).\n",
    "\n",
    "The [U.S. Drought Monitor](https://droughtmonitor.unl.edu/) allowed me to easily see areas experiencing drought in the western U.S. The extents displayed on this website are generated from expert judgment of drought-related data.\n",
    "\n"
   ]
  },
  {
   "cell_type": "code",
   "execution_count": null,
   "metadata": {},
   "outputs": [],
   "source": []
  }
 ],
 "metadata": {
  "kernelspec": {
   "display_name": "Python 3",
   "language": "python",
   "name": "python3"
  },
  "language_info": {
   "codemirror_mode": {
    "name": "ipython",
    "version": 3
   },
   "file_extension": ".py",
   "mimetype": "text/x-python",
   "name": "python",
   "nbconvert_exporter": "python",
   "pygments_lexer": "ipython3",
   "version": "3.7.6"
  },
  "varInspector": {
   "cols": {
    "lenName": 16,
    "lenType": 16,
    "lenVar": 40
   },
   "kernels_config": {
    "python": {
     "delete_cmd_postfix": "",
     "delete_cmd_prefix": "del ",
     "library": "var_list.py",
     "varRefreshCmd": "print(var_dic_list())"
    },
    "r": {
     "delete_cmd_postfix": ") ",
     "delete_cmd_prefix": "rm(",
     "library": "var_list.r",
     "varRefreshCmd": "cat(var_dic_list()) "
    }
   },
   "types_to_exclude": [
    "module",
    "function",
    "builtin_function_or_method",
    "instance",
    "_Feature"
   ],
   "window_display": false
  }
 },
 "nbformat": 4,
 "nbformat_minor": 4
}
